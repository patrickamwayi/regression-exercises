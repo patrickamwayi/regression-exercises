{
 "cells": [
  {
   "cell_type": "markdown",
   "id": "ac29c4be",
   "metadata": {},
   "source": [
    "## Exercises\n",
    "### Do your work for this exercise in a jupyter notebook named modeling within the regression-exercises repo. Add, commit, and push your work.\n",
    "\n",
    "### 1. Select a dataset with a continuous target variable.\n",
    "\n",
    "### 2. Be sure your data is prepared (no missing values, numeric datatypes) and split into samples.\n",
    "\n",
    "### 3. Work through all of the steps outlined in the lesson, from setting the baseline to selected a model and evaluating the final model on your test data."
   ]
  },
  {
   "cell_type": "code",
   "execution_count": 1,
   "id": "8454b07f",
   "metadata": {},
   "outputs": [],
   "source": [
    "#wrangle\n",
    "import wrangle\n",
    "\n",
    "#std imports\n",
    "import pandas as pd \n",
    "import numpy as np\n",
    "from scipy import stats\n",
    "from math import sqrt\n",
    "\n",
    "# visualize the data\n",
    "import seaborn as sns\n",
    "import matplotlib.pyplot as plt \n",
    "\n",
    "#sklearn\n",
    "from sklearn.preprocessing import PolynomialFeatures\n",
    "\n",
    "from sklearn.linear_model import LinearRegression\n",
    "from sklearn.metrics import mean_squared_error, r2_score, explained_variance_score\n",
    "from sklearn.linear_model import LinearRegression\n",
    "from sklearn.feature_selection import f_regression \n",
    "from sklearn.metrics import mean_squared_error\n",
    "from sklearn.model_selection import train_test_split\n",
    "from scipy import stats\n",
    "import sklearn.preprocessing\n",
    "from sklearn.preprocessing import MinMaxScaler, StandardScaler, RobustScaler\n",
    "# from linear_model: LinearRegression (OLS), LassoLars, TweedieRegressor (Generalized Linear Model)\n",
    "from sklearn.linear_model import LinearRegression, LassoLars, TweedieRegressor\n",
    "\n",
    "\n",
    "import warnings\n",
    "warnings.filterwarnings('ignore')\n"
   ]
  },
  {
   "cell_type": "code",
   "execution_count": 2,
   "id": "a133d9d4",
   "metadata": {},
   "outputs": [
    {
     "data": {
      "text/html": [
       "<div>\n",
       "<style scoped>\n",
       "    .dataframe tbody tr th:only-of-type {\n",
       "        vertical-align: middle;\n",
       "    }\n",
       "\n",
       "    .dataframe tbody tr th {\n",
       "        vertical-align: top;\n",
       "    }\n",
       "\n",
       "    .dataframe thead th {\n",
       "        text-align: right;\n",
       "    }\n",
       "</style>\n",
       "<table border=\"1\" class=\"dataframe\">\n",
       "  <thead>\n",
       "    <tr style=\"text-align: right;\">\n",
       "      <th></th>\n",
       "      <th>bedrooms</th>\n",
       "      <th>bathrooms</th>\n",
       "      <th>area</th>\n",
       "      <th>tax_value</th>\n",
       "      <th>year_built</th>\n",
       "      <th>tax_amount</th>\n",
       "      <th>fips</th>\n",
       "    </tr>\n",
       "  </thead>\n",
       "  <tbody>\n",
       "    <tr>\n",
       "      <th>7</th>\n",
       "      <td>3</td>\n",
       "      <td>2.0</td>\n",
       "      <td>2077</td>\n",
       "      <td>646760</td>\n",
       "      <td>1926</td>\n",
       "      <td>7924.68</td>\n",
       "      <td>6037</td>\n",
       "    </tr>\n",
       "    <tr>\n",
       "      <th>18</th>\n",
       "      <td>3</td>\n",
       "      <td>1.0</td>\n",
       "      <td>1244</td>\n",
       "      <td>169471</td>\n",
       "      <td>1950</td>\n",
       "      <td>2532.88</td>\n",
       "      <td>6037</td>\n",
       "    </tr>\n",
       "    <tr>\n",
       "      <th>19</th>\n",
       "      <td>3</td>\n",
       "      <td>2.0</td>\n",
       "      <td>1300</td>\n",
       "      <td>233266</td>\n",
       "      <td>1950</td>\n",
       "      <td>3110.99</td>\n",
       "      <td>6037</td>\n",
       "    </tr>\n",
       "    <tr>\n",
       "      <th>20</th>\n",
       "      <td>3</td>\n",
       "      <td>2.0</td>\n",
       "      <td>1222</td>\n",
       "      <td>290492</td>\n",
       "      <td>1951</td>\n",
       "      <td>3870.25</td>\n",
       "      <td>6037</td>\n",
       "    </tr>\n",
       "    <tr>\n",
       "      <th>40</th>\n",
       "      <td>2</td>\n",
       "      <td>1.0</td>\n",
       "      <td>725</td>\n",
       "      <td>37548</td>\n",
       "      <td>1953</td>\n",
       "      <td>576.47</td>\n",
       "      <td>6037</td>\n",
       "    </tr>\n",
       "    <tr>\n",
       "      <th>...</th>\n",
       "      <td>...</td>\n",
       "      <td>...</td>\n",
       "      <td>...</td>\n",
       "      <td>...</td>\n",
       "      <td>...</td>\n",
       "      <td>...</td>\n",
       "      <td>...</td>\n",
       "    </tr>\n",
       "    <tr>\n",
       "      <th>2152815</th>\n",
       "      <td>4</td>\n",
       "      <td>2.0</td>\n",
       "      <td>1484</td>\n",
       "      <td>71859</td>\n",
       "      <td>1955</td>\n",
       "      <td>1135.72</td>\n",
       "      <td>6037</td>\n",
       "    </tr>\n",
       "    <tr>\n",
       "      <th>2152824</th>\n",
       "      <td>2</td>\n",
       "      <td>1.0</td>\n",
       "      <td>710</td>\n",
       "      <td>175319</td>\n",
       "      <td>1940</td>\n",
       "      <td>2040.78</td>\n",
       "      <td>6111</td>\n",
       "    </tr>\n",
       "    <tr>\n",
       "      <th>2152831</th>\n",
       "      <td>3</td>\n",
       "      <td>2.0</td>\n",
       "      <td>1194</td>\n",
       "      <td>271536</td>\n",
       "      <td>1954</td>\n",
       "      <td>3555.73</td>\n",
       "      <td>6037</td>\n",
       "    </tr>\n",
       "    <tr>\n",
       "      <th>2152852</th>\n",
       "      <td>3</td>\n",
       "      <td>2.0</td>\n",
       "      <td>1917</td>\n",
       "      <td>408680</td>\n",
       "      <td>1946</td>\n",
       "      <td>4341.32</td>\n",
       "      <td>6111</td>\n",
       "    </tr>\n",
       "    <tr>\n",
       "      <th>2152853</th>\n",
       "      <td>4</td>\n",
       "      <td>2.0</td>\n",
       "      <td>1987</td>\n",
       "      <td>259913</td>\n",
       "      <td>1955</td>\n",
       "      <td>3175.66</td>\n",
       "      <td>6059</td>\n",
       "    </tr>\n",
       "  </tbody>\n",
       "</table>\n",
       "<p>1827497 rows × 7 columns</p>\n",
       "</div>"
      ],
      "text/plain": [
       "         bedrooms  bathrooms  area  tax_value  year_built  tax_amount  fips\n",
       "7               3        2.0  2077     646760        1926     7924.68  6037\n",
       "18              3        1.0  1244     169471        1950     2532.88  6037\n",
       "19              3        2.0  1300     233266        1950     3110.99  6037\n",
       "20              3        2.0  1222     290492        1951     3870.25  6037\n",
       "40              2        1.0   725      37548        1953      576.47  6037\n",
       "...           ...        ...   ...        ...         ...         ...   ...\n",
       "2152815         4        2.0  1484      71859        1955     1135.72  6037\n",
       "2152824         2        1.0   710     175319        1940     2040.78  6111\n",
       "2152831         3        2.0  1194     271536        1954     3555.73  6037\n",
       "2152852         3        2.0  1917     408680        1946     4341.32  6111\n",
       "2152853         4        2.0  1987     259913        1955     3175.66  6059\n",
       "\n",
       "[1827497 rows x 7 columns]"
      ]
     },
     "execution_count": 2,
     "metadata": {},
     "output_type": "execute_result"
    }
   ],
   "source": [
    "#acquire data\n",
    "df = wrangle.wrangle_zillow()\n",
    "df"
   ]
  },
  {
   "cell_type": "code",
   "execution_count": 3,
   "id": "ba2c43a3",
   "metadata": {},
   "outputs": [
    {
     "data": {
      "text/plain": [
       "(1827497, 7)"
      ]
     },
     "execution_count": 3,
     "metadata": {},
     "output_type": "execute_result"
    }
   ],
   "source": [
    "#get shape\n",
    "df.shape"
   ]
  },
  {
   "cell_type": "code",
   "execution_count": 4,
   "id": "e42165c2",
   "metadata": {},
   "outputs": [
    {
     "data": {
      "text/plain": [
       "((1096497, 7), (365500, 7), (365500, 7))"
      ]
     },
     "execution_count": 4,
     "metadata": {},
     "output_type": "execute_result"
    }
   ],
   "source": [
    "#split data\n",
    "train_validate, test = train_test_split(df, test_size=.2, random_state=123)\n",
    "train, validate = train_test_split(train_validate, test_size=.25, random_state=123)\n",
    "train.shape, validate.shape, test.shape"
   ]
  },
  {
   "cell_type": "code",
   "execution_count": 5,
   "id": "9c793a66",
   "metadata": {},
   "outputs": [
    {
     "data": {
      "text/html": [
       "<div>\n",
       "<style scoped>\n",
       "    .dataframe tbody tr th:only-of-type {\n",
       "        vertical-align: middle;\n",
       "    }\n",
       "\n",
       "    .dataframe tbody tr th {\n",
       "        vertical-align: top;\n",
       "    }\n",
       "\n",
       "    .dataframe thead th {\n",
       "        text-align: right;\n",
       "    }\n",
       "</style>\n",
       "<table border=\"1\" class=\"dataframe\">\n",
       "  <thead>\n",
       "    <tr style=\"text-align: right;\">\n",
       "      <th></th>\n",
       "      <th>bedrooms</th>\n",
       "      <th>bathrooms</th>\n",
       "      <th>area</th>\n",
       "      <th>tax_value</th>\n",
       "      <th>year_built</th>\n",
       "      <th>tax_amount</th>\n",
       "      <th>fips</th>\n",
       "    </tr>\n",
       "  </thead>\n",
       "  <tbody>\n",
       "    <tr>\n",
       "      <th>511824</th>\n",
       "      <td>3</td>\n",
       "      <td>2.0</td>\n",
       "      <td>1845</td>\n",
       "      <td>497915</td>\n",
       "      <td>1952</td>\n",
       "      <td>5967.44</td>\n",
       "      <td>6037</td>\n",
       "    </tr>\n",
       "    <tr>\n",
       "      <th>986893</th>\n",
       "      <td>3</td>\n",
       "      <td>2.0</td>\n",
       "      <td>1524</td>\n",
       "      <td>320818</td>\n",
       "      <td>1955</td>\n",
       "      <td>4068.13</td>\n",
       "      <td>6037</td>\n",
       "    </tr>\n",
       "    <tr>\n",
       "      <th>1462975</th>\n",
       "      <td>2</td>\n",
       "      <td>2.0</td>\n",
       "      <td>1651</td>\n",
       "      <td>608536</td>\n",
       "      <td>1984</td>\n",
       "      <td>6639.32</td>\n",
       "      <td>6059</td>\n",
       "    </tr>\n",
       "    <tr>\n",
       "      <th>1152928</th>\n",
       "      <td>3</td>\n",
       "      <td>1.0</td>\n",
       "      <td>1112</td>\n",
       "      <td>372790</td>\n",
       "      <td>1953</td>\n",
       "      <td>4586.50</td>\n",
       "      <td>6037</td>\n",
       "    </tr>\n",
       "    <tr>\n",
       "      <th>816888</th>\n",
       "      <td>3</td>\n",
       "      <td>2.0</td>\n",
       "      <td>1424</td>\n",
       "      <td>340818</td>\n",
       "      <td>1975</td>\n",
       "      <td>4071.32</td>\n",
       "      <td>6059</td>\n",
       "    </tr>\n",
       "  </tbody>\n",
       "</table>\n",
       "</div>"
      ],
      "text/plain": [
       "         bedrooms  bathrooms  area  tax_value  year_built  tax_amount  fips\n",
       "511824          3        2.0  1845     497915        1952     5967.44  6037\n",
       "986893          3        2.0  1524     320818        1955     4068.13  6037\n",
       "1462975         2        2.0  1651     608536        1984     6639.32  6059\n",
       "1152928         3        1.0  1112     372790        1953     4586.50  6037\n",
       "816888          3        2.0  1424     340818        1975     4071.32  6059"
      ]
     },
     "execution_count": 5,
     "metadata": {},
     "output_type": "execute_result"
    }
   ],
   "source": [
    "train.head(5)"
   ]
  },
  {
   "cell_type": "code",
   "execution_count": 6,
   "id": "dc88c1d0",
   "metadata": {},
   "outputs": [],
   "source": [
    "# get my x & y train into df\n",
    "X_train = pd.DataFrame(train.area)\n",
    "y_train = pd.DataFrame(train.tax_value)"
   ]
  },
  {
   "cell_type": "code",
   "execution_count": 7,
   "id": "7845c866",
   "metadata": {},
   "outputs": [
    {
     "data": {
      "text/html": [
       "<div>\n",
       "<style scoped>\n",
       "    .dataframe tbody tr th:only-of-type {\n",
       "        vertical-align: middle;\n",
       "    }\n",
       "\n",
       "    .dataframe tbody tr th {\n",
       "        vertical-align: top;\n",
       "    }\n",
       "\n",
       "    .dataframe thead th {\n",
       "        text-align: right;\n",
       "    }\n",
       "</style>\n",
       "<table border=\"1\" class=\"dataframe\">\n",
       "  <thead>\n",
       "    <tr style=\"text-align: right;\">\n",
       "      <th></th>\n",
       "      <th>tax_value</th>\n",
       "    </tr>\n",
       "  </thead>\n",
       "  <tbody>\n",
       "    <tr>\n",
       "      <th>511824</th>\n",
       "      <td>497915</td>\n",
       "    </tr>\n",
       "    <tr>\n",
       "      <th>986893</th>\n",
       "      <td>320818</td>\n",
       "    </tr>\n",
       "    <tr>\n",
       "      <th>1462975</th>\n",
       "      <td>608536</td>\n",
       "    </tr>\n",
       "    <tr>\n",
       "      <th>1152928</th>\n",
       "      <td>372790</td>\n",
       "    </tr>\n",
       "    <tr>\n",
       "      <th>816888</th>\n",
       "      <td>340818</td>\n",
       "    </tr>\n",
       "    <tr>\n",
       "      <th>...</th>\n",
       "      <td>...</td>\n",
       "    </tr>\n",
       "    <tr>\n",
       "      <th>1055694</th>\n",
       "      <td>282434</td>\n",
       "    </tr>\n",
       "    <tr>\n",
       "      <th>488948</th>\n",
       "      <td>412986</td>\n",
       "    </tr>\n",
       "    <tr>\n",
       "      <th>1828724</th>\n",
       "      <td>456392</td>\n",
       "    </tr>\n",
       "    <tr>\n",
       "      <th>1189611</th>\n",
       "      <td>353677</td>\n",
       "    </tr>\n",
       "    <tr>\n",
       "      <th>55990</th>\n",
       "      <td>269908</td>\n",
       "    </tr>\n",
       "  </tbody>\n",
       "</table>\n",
       "<p>1096497 rows × 1 columns</p>\n",
       "</div>"
      ],
      "text/plain": [
       "         tax_value\n",
       "511824      497915\n",
       "986893      320818\n",
       "1462975     608536\n",
       "1152928     372790\n",
       "816888      340818\n",
       "...            ...\n",
       "1055694     282434\n",
       "488948      412986\n",
       "1828724     456392\n",
       "1189611     353677\n",
       "55990       269908\n",
       "\n",
       "[1096497 rows x 1 columns]"
      ]
     },
     "execution_count": 7,
     "metadata": {},
     "output_type": "execute_result"
    }
   ],
   "source": [
    "y_train"
   ]
  },
  {
   "cell_type": "code",
   "execution_count": 8,
   "id": "e02dd216",
   "metadata": {},
   "outputs": [],
   "source": [
    "x_validate = pd.DataFrame(validate.area)\n",
    "y_validate = pd.DataFrame(validate.tax_value)"
   ]
  },
  {
   "cell_type": "code",
   "execution_count": 9,
   "id": "9109dafc",
   "metadata": {},
   "outputs": [
    {
     "data": {
      "text/html": [
       "<div>\n",
       "<style scoped>\n",
       "    .dataframe tbody tr th:only-of-type {\n",
       "        vertical-align: middle;\n",
       "    }\n",
       "\n",
       "    .dataframe tbody tr th {\n",
       "        vertical-align: top;\n",
       "    }\n",
       "\n",
       "    .dataframe thead th {\n",
       "        text-align: right;\n",
       "    }\n",
       "</style>\n",
       "<table border=\"1\" class=\"dataframe\">\n",
       "  <thead>\n",
       "    <tr style=\"text-align: right;\">\n",
       "      <th></th>\n",
       "      <th>tax_value</th>\n",
       "    </tr>\n",
       "  </thead>\n",
       "  <tbody>\n",
       "    <tr>\n",
       "      <th>1322861</th>\n",
       "      <td>800000</td>\n",
       "    </tr>\n",
       "    <tr>\n",
       "      <th>705788</th>\n",
       "      <td>46867</td>\n",
       "    </tr>\n",
       "    <tr>\n",
       "      <th>548133</th>\n",
       "      <td>138342</td>\n",
       "    </tr>\n",
       "    <tr>\n",
       "      <th>1496986</th>\n",
       "      <td>86884</td>\n",
       "    </tr>\n",
       "    <tr>\n",
       "      <th>99627</th>\n",
       "      <td>362435</td>\n",
       "    </tr>\n",
       "    <tr>\n",
       "      <th>...</th>\n",
       "      <td>...</td>\n",
       "    </tr>\n",
       "    <tr>\n",
       "      <th>2008772</th>\n",
       "      <td>294404</td>\n",
       "    </tr>\n",
       "    <tr>\n",
       "      <th>1560344</th>\n",
       "      <td>520452</td>\n",
       "    </tr>\n",
       "    <tr>\n",
       "      <th>1211109</th>\n",
       "      <td>269756</td>\n",
       "    </tr>\n",
       "    <tr>\n",
       "      <th>1696704</th>\n",
       "      <td>61668</td>\n",
       "    </tr>\n",
       "    <tr>\n",
       "      <th>1057512</th>\n",
       "      <td>245500</td>\n",
       "    </tr>\n",
       "  </tbody>\n",
       "</table>\n",
       "<p>365500 rows × 1 columns</p>\n",
       "</div>"
      ],
      "text/plain": [
       "         tax_value\n",
       "1322861     800000\n",
       "705788       46867\n",
       "548133      138342\n",
       "1496986      86884\n",
       "99627       362435\n",
       "...            ...\n",
       "2008772     294404\n",
       "1560344     520452\n",
       "1211109     269756\n",
       "1696704      61668\n",
       "1057512     245500\n",
       "\n",
       "[365500 rows x 1 columns]"
      ]
     },
     "execution_count": 9,
     "metadata": {},
     "output_type": "execute_result"
    }
   ],
   "source": [
    "y_validate"
   ]
  },
  {
   "cell_type": "code",
   "execution_count": 10,
   "id": "27df1eeb",
   "metadata": {},
   "outputs": [
    {
     "data": {
      "text/html": [
       "<div>\n",
       "<style scoped>\n",
       "    .dataframe tbody tr th:only-of-type {\n",
       "        vertical-align: middle;\n",
       "    }\n",
       "\n",
       "    .dataframe tbody tr th {\n",
       "        vertical-align: top;\n",
       "    }\n",
       "\n",
       "    .dataframe thead th {\n",
       "        text-align: right;\n",
       "    }\n",
       "</style>\n",
       "<table border=\"1\" class=\"dataframe\">\n",
       "  <thead>\n",
       "    <tr style=\"text-align: right;\">\n",
       "      <th></th>\n",
       "      <th>area</th>\n",
       "    </tr>\n",
       "  </thead>\n",
       "  <tbody>\n",
       "    <tr>\n",
       "      <th>1322861</th>\n",
       "      <td>2335</td>\n",
       "    </tr>\n",
       "    <tr>\n",
       "      <th>705788</th>\n",
       "      <td>916</td>\n",
       "    </tr>\n",
       "    <tr>\n",
       "      <th>548133</th>\n",
       "      <td>969</td>\n",
       "    </tr>\n",
       "    <tr>\n",
       "      <th>1496986</th>\n",
       "      <td>1958</td>\n",
       "    </tr>\n",
       "    <tr>\n",
       "      <th>99627</th>\n",
       "      <td>1456</td>\n",
       "    </tr>\n",
       "    <tr>\n",
       "      <th>...</th>\n",
       "      <td>...</td>\n",
       "    </tr>\n",
       "    <tr>\n",
       "      <th>2008772</th>\n",
       "      <td>968</td>\n",
       "    </tr>\n",
       "    <tr>\n",
       "      <th>1560344</th>\n",
       "      <td>2607</td>\n",
       "    </tr>\n",
       "    <tr>\n",
       "      <th>1211109</th>\n",
       "      <td>1026</td>\n",
       "    </tr>\n",
       "    <tr>\n",
       "      <th>1696704</th>\n",
       "      <td>1132</td>\n",
       "    </tr>\n",
       "    <tr>\n",
       "      <th>1057512</th>\n",
       "      <td>1995</td>\n",
       "    </tr>\n",
       "  </tbody>\n",
       "</table>\n",
       "<p>365500 rows × 1 columns</p>\n",
       "</div>"
      ],
      "text/plain": [
       "         area\n",
       "1322861  2335\n",
       "705788    916\n",
       "548133    969\n",
       "1496986  1958\n",
       "99627    1456\n",
       "...       ...\n",
       "2008772   968\n",
       "1560344  2607\n",
       "1211109  1026\n",
       "1696704  1132\n",
       "1057512  1995\n",
       "\n",
       "[365500 rows x 1 columns]"
      ]
     },
     "execution_count": 10,
     "metadata": {},
     "output_type": "execute_result"
    }
   ],
   "source": [
    "x_validate"
   ]
  },
  {
   "cell_type": "code",
   "execution_count": 11,
   "id": "9dfedf52",
   "metadata": {},
   "outputs": [
    {
     "data": {
      "image/png": "[encoded data removed]",
      "text/plain": [
       "<Figure size 432x288 with 1 Axes>"
      ]
     },
     "metadata": {
      "needs_background": "light"
     },
     "output_type": "display_data"
    }
   ],
   "source": [
    "#determine distribution\n",
    "plt.hist(y_train)\n",
    "#plt.title(tax_value)\n",
    "plt.show()"
   ]
  },
  {
   "cell_type": "markdown",
   "id": "43fbd4b4",
   "metadata": {},
   "source": [
    "### Modeling\n",
    "#### Baseline"
   ]
  },
  {
   "cell_type": "code",
   "execution_count": 12,
   "id": "ba96a65a",
   "metadata": {},
   "outputs": [
    {
     "data": {
      "text/plain": [
       "334280.3382785307"
      ]
     },
     "execution_count": 12,
     "metadata": {},
     "output_type": "execute_result"
    }
   ],
   "source": [
    "#calculate mean\n",
    "baseline = df.tax_value.mean()\n",
    "baseline"
   ]
  },
  {
   "cell_type": "code",
   "execution_count": 13,
   "id": "7ec07ba7",
   "metadata": {},
   "outputs": [],
   "source": [
    "#Create mean baseline model\n",
    "y_train['baseline_mean_pred'] = y_train['tax_value'].mean()\n",
    "y_validate['baseline_mean_pred'] = y_validate['tax_value'].mean()\n",
    "\n",
    "#Create median baseline model\n",
    "y_train['baseline_median_pred'] = y_train['tax_value'].median()\n",
    "y_validate['baseline_median_pred'] = y_validate['tax_value'].median()"
   ]
  },
  {
   "cell_type": "code",
   "execution_count": 14,
   "id": "6b19ecc0",
   "metadata": {},
   "outputs": [
    {
     "data": {
      "text/plain": [
       "tax_value               334464.971072\n",
       "baseline_mean_pred      334464.971070\n",
       "baseline_median_pred    300304.000000\n",
       "dtype: float64"
      ]
     },
     "execution_count": 14,
     "metadata": {},
     "output_type": "execute_result"
    }
   ],
   "source": [
    "y_train.mean()"
   ]
  },
  {
   "cell_type": "code",
   "execution_count": 15,
   "id": "24ccf31a",
   "metadata": {},
   "outputs": [
    {
     "data": {
      "text/plain": [
       "pandas.core.frame.DataFrame"
      ]
     },
     "execution_count": 15,
     "metadata": {},
     "output_type": "execute_result"
    }
   ],
   "source": [
    "type(y_train)"
   ]
  },
  {
   "cell_type": "code",
   "execution_count": 16,
   "id": "2a23ffa3",
   "metadata": {},
   "outputs": [
    {
     "data": {
      "text/plain": [
       "334464.97107151226"
      ]
     },
     "execution_count": 16,
     "metadata": {},
     "output_type": "execute_result"
    }
   ],
   "source": [
    "y_train.tax_value.mean()"
   ]
  },
  {
   "cell_type": "code",
   "execution_count": 17,
   "id": "d83ed6f4",
   "metadata": {},
   "outputs": [],
   "source": [
    "# 1. Predict tax_value_pred_mean\n",
    "tax_value_pred_mean = y_train.tax_value.mean()\n",
    "y_train['tax_value_pred_mean'] = tax_value_pred_mean\n",
    "y_validate['tax_value_pred_mean'] = tax_value_pred_mean\n",
    "\n",
    "# 2. compute tax_value_pred_median\n",
    "tax_value_pred_median = y_train.tax_value.median()\n",
    "y_train['tax_value_pred_median'] = tax_value_pred_median\n",
    "y_validate['tax_value_pred_median'] = tax_value_pred_median"
   ]
  },
  {
   "cell_type": "code",
   "execution_count": 18,
   "id": "c98edad0",
   "metadata": {},
   "outputs": [
    {
     "data": {
      "text/html": [
       "<div>\n",
       "<style scoped>\n",
       "    .dataframe tbody tr th:only-of-type {\n",
       "        vertical-align: middle;\n",
       "    }\n",
       "\n",
       "    .dataframe tbody tr th {\n",
       "        vertical-align: top;\n",
       "    }\n",
       "\n",
       "    .dataframe thead th {\n",
       "        text-align: right;\n",
       "    }\n",
       "</style>\n",
       "<table border=\"1\" class=\"dataframe\">\n",
       "  <thead>\n",
       "    <tr style=\"text-align: right;\">\n",
       "      <th></th>\n",
       "      <th>tax_value</th>\n",
       "      <th>baseline_mean_pred</th>\n",
       "      <th>baseline_median_pred</th>\n",
       "      <th>tax_value_pred_mean</th>\n",
       "      <th>tax_value_pred_median</th>\n",
       "    </tr>\n",
       "  </thead>\n",
       "  <tbody>\n",
       "    <tr>\n",
       "      <th>511824</th>\n",
       "      <td>497915</td>\n",
       "      <td>334464.971072</td>\n",
       "      <td>300304.0</td>\n",
       "      <td>334464.971072</td>\n",
       "      <td>300304.0</td>\n",
       "    </tr>\n",
       "    <tr>\n",
       "      <th>986893</th>\n",
       "      <td>320818</td>\n",
       "      <td>334464.971072</td>\n",
       "      <td>300304.0</td>\n",
       "      <td>334464.971072</td>\n",
       "      <td>300304.0</td>\n",
       "    </tr>\n",
       "    <tr>\n",
       "      <th>1462975</th>\n",
       "      <td>608536</td>\n",
       "      <td>334464.971072</td>\n",
       "      <td>300304.0</td>\n",
       "      <td>334464.971072</td>\n",
       "      <td>300304.0</td>\n",
       "    </tr>\n",
       "    <tr>\n",
       "      <th>1152928</th>\n",
       "      <td>372790</td>\n",
       "      <td>334464.971072</td>\n",
       "      <td>300304.0</td>\n",
       "      <td>334464.971072</td>\n",
       "      <td>300304.0</td>\n",
       "    </tr>\n",
       "    <tr>\n",
       "      <th>816888</th>\n",
       "      <td>340818</td>\n",
       "      <td>334464.971072</td>\n",
       "      <td>300304.0</td>\n",
       "      <td>334464.971072</td>\n",
       "      <td>300304.0</td>\n",
       "    </tr>\n",
       "    <tr>\n",
       "      <th>...</th>\n",
       "      <td>...</td>\n",
       "      <td>...</td>\n",
       "      <td>...</td>\n",
       "      <td>...</td>\n",
       "      <td>...</td>\n",
       "    </tr>\n",
       "    <tr>\n",
       "      <th>1055694</th>\n",
       "      <td>282434</td>\n",
       "      <td>334464.971072</td>\n",
       "      <td>300304.0</td>\n",
       "      <td>334464.971072</td>\n",
       "      <td>300304.0</td>\n",
       "    </tr>\n",
       "    <tr>\n",
       "      <th>488948</th>\n",
       "      <td>412986</td>\n",
       "      <td>334464.971072</td>\n",
       "      <td>300304.0</td>\n",
       "      <td>334464.971072</td>\n",
       "      <td>300304.0</td>\n",
       "    </tr>\n",
       "    <tr>\n",
       "      <th>1828724</th>\n",
       "      <td>456392</td>\n",
       "      <td>334464.971072</td>\n",
       "      <td>300304.0</td>\n",
       "      <td>334464.971072</td>\n",
       "      <td>300304.0</td>\n",
       "    </tr>\n",
       "    <tr>\n",
       "      <th>1189611</th>\n",
       "      <td>353677</td>\n",
       "      <td>334464.971072</td>\n",
       "      <td>300304.0</td>\n",
       "      <td>334464.971072</td>\n",
       "      <td>300304.0</td>\n",
       "    </tr>\n",
       "    <tr>\n",
       "      <th>55990</th>\n",
       "      <td>269908</td>\n",
       "      <td>334464.971072</td>\n",
       "      <td>300304.0</td>\n",
       "      <td>334464.971072</td>\n",
       "      <td>300304.0</td>\n",
       "    </tr>\n",
       "  </tbody>\n",
       "</table>\n",
       "<p>1096497 rows × 5 columns</p>\n",
       "</div>"
      ],
      "text/plain": [
       "         tax_value  baseline_mean_pred  baseline_median_pred  \\\n",
       "511824      497915       334464.971072              300304.0   \n",
       "986893      320818       334464.971072              300304.0   \n",
       "1462975     608536       334464.971072              300304.0   \n",
       "1152928     372790       334464.971072              300304.0   \n",
       "816888      340818       334464.971072              300304.0   \n",
       "...            ...                 ...                   ...   \n",
       "1055694     282434       334464.971072              300304.0   \n",
       "488948      412986       334464.971072              300304.0   \n",
       "1828724     456392       334464.971072              300304.0   \n",
       "1189611     353677       334464.971072              300304.0   \n",
       "55990       269908       334464.971072              300304.0   \n",
       "\n",
       "         tax_value_pred_mean  tax_value_pred_median  \n",
       "511824         334464.971072               300304.0  \n",
       "986893         334464.971072               300304.0  \n",
       "1462975        334464.971072               300304.0  \n",
       "1152928        334464.971072               300304.0  \n",
       "816888         334464.971072               300304.0  \n",
       "...                      ...                    ...  \n",
       "1055694        334464.971072               300304.0  \n",
       "488948         334464.971072               300304.0  \n",
       "1828724        334464.971072               300304.0  \n",
       "1189611        334464.971072               300304.0  \n",
       "55990          334464.971072               300304.0  \n",
       "\n",
       "[1096497 rows x 5 columns]"
      ]
     },
     "execution_count": 18,
     "metadata": {},
     "output_type": "execute_result"
    }
   ],
   "source": [
    "#check predicted mean & median\n",
    "y_train"
   ]
  },
  {
   "cell_type": "code",
   "execution_count": 19,
   "id": "2db1f2c5",
   "metadata": {},
   "outputs": [
    {
     "name": "stdout",
     "output_type": "stream",
     "text": [
      "RMSE using Mean\n",
      "Train/In-Sample:  205967.3 \n",
      "Validate/Out-of-Sample:  205757.44\n"
     ]
    }
   ],
   "source": [
    "# 3. RMSE of tax_value_pred_mean\n",
    "rmse_train = mean_squared_error(y_train.tax_value, y_train.tax_value_pred_mean) ** 0.5\n",
    "rmse_validate = mean_squared_error(y_validate.tax_value, y_validate.tax_value_pred_mean) ** 0.5\n",
    "\n",
    "print(\"RMSE using Mean\\nTrain/In-Sample: \", round(rmse_train, 2), \n",
    "      \"\\nValidate/Out-of-Sample: \", round(rmse_validate, 2))"
   ]
  },
  {
   "cell_type": "code",
   "execution_count": 20,
   "id": "760d3510",
   "metadata": {},
   "outputs": [
    {
     "name": "stdout",
     "output_type": "stream",
     "text": [
      "RMSE using Median\n",
      "Train/In-Sample:  208780.98 \n",
      "Validate/Out-of-Sample:  208468.92\n"
     ]
    }
   ],
   "source": [
    "# 4. RMSE of tax_value_pred_median\n",
    "rmse_train = mean_squared_error(y_train.tax_value, y_train.tax_value_pred_median) ** .5\n",
    "rmse_validate = mean_squared_error(y_validate.tax_value, y_validate.tax_value_pred_median) ** .5\n",
    "print(\"RMSE using Median\\nTrain/In-Sample: \", round(rmse_train, 2), \n",
    "      \"\\nValidate/Out-of-Sample: \", round(rmse_validate, 2))"
   ]
  },
  {
   "cell_type": "code",
   "execution_count": 21,
   "id": "3c39ed39",
   "metadata": {},
   "outputs": [],
   "source": [
    "from sklearn.metrics import explained_variance_score"
   ]
  },
  {
   "cell_type": "code",
   "execution_count": 22,
   "id": "880293e5",
   "metadata": {},
   "outputs": [
    {
     "data": {
      "text/html": [
       "<div>\n",
       "<style scoped>\n",
       "    .dataframe tbody tr th:only-of-type {\n",
       "        vertical-align: middle;\n",
       "    }\n",
       "\n",
       "    .dataframe tbody tr th {\n",
       "        vertical-align: top;\n",
       "    }\n",
       "\n",
       "    .dataframe thead th {\n",
       "        text-align: right;\n",
       "    }\n",
       "</style>\n",
       "<table border=\"1\" class=\"dataframe\">\n",
       "  <thead>\n",
       "    <tr style=\"text-align: right;\">\n",
       "      <th></th>\n",
       "      <th>tax_value</th>\n",
       "      <th>baseline_mean_pred</th>\n",
       "      <th>baseline_median_pred</th>\n",
       "      <th>tax_value_pred_mean</th>\n",
       "      <th>tax_value_pred_median</th>\n",
       "    </tr>\n",
       "  </thead>\n",
       "  <tbody>\n",
       "    <tr>\n",
       "      <th>511824</th>\n",
       "      <td>497915</td>\n",
       "      <td>334464.971072</td>\n",
       "      <td>300304.0</td>\n",
       "      <td>334464.971072</td>\n",
       "      <td>300304.0</td>\n",
       "    </tr>\n",
       "    <tr>\n",
       "      <th>986893</th>\n",
       "      <td>320818</td>\n",
       "      <td>334464.971072</td>\n",
       "      <td>300304.0</td>\n",
       "      <td>334464.971072</td>\n",
       "      <td>300304.0</td>\n",
       "    </tr>\n",
       "    <tr>\n",
       "      <th>1462975</th>\n",
       "      <td>608536</td>\n",
       "      <td>334464.971072</td>\n",
       "      <td>300304.0</td>\n",
       "      <td>334464.971072</td>\n",
       "      <td>300304.0</td>\n",
       "    </tr>\n",
       "    <tr>\n",
       "      <th>1152928</th>\n",
       "      <td>372790</td>\n",
       "      <td>334464.971072</td>\n",
       "      <td>300304.0</td>\n",
       "      <td>334464.971072</td>\n",
       "      <td>300304.0</td>\n",
       "    </tr>\n",
       "    <tr>\n",
       "      <th>816888</th>\n",
       "      <td>340818</td>\n",
       "      <td>334464.971072</td>\n",
       "      <td>300304.0</td>\n",
       "      <td>334464.971072</td>\n",
       "      <td>300304.0</td>\n",
       "    </tr>\n",
       "  </tbody>\n",
       "</table>\n",
       "</div>"
      ],
      "text/plain": [
       "         tax_value  baseline_mean_pred  baseline_median_pred  \\\n",
       "511824      497915       334464.971072              300304.0   \n",
       "986893      320818       334464.971072              300304.0   \n",
       "1462975     608536       334464.971072              300304.0   \n",
       "1152928     372790       334464.971072              300304.0   \n",
       "816888      340818       334464.971072              300304.0   \n",
       "\n",
       "         tax_value_pred_mean  tax_value_pred_median  \n",
       "511824         334464.971072               300304.0  \n",
       "986893         334464.971072               300304.0  \n",
       "1462975        334464.971072               300304.0  \n",
       "1152928        334464.971072               300304.0  \n",
       "816888         334464.971072               300304.0  "
      ]
     },
     "execution_count": 22,
     "metadata": {},
     "output_type": "execute_result"
    }
   ],
   "source": [
    "y_train.head()"
   ]
  },
  {
   "cell_type": "code",
   "execution_count": 23,
   "id": "d3318c3a",
   "metadata": {},
   "outputs": [],
   "source": [
    "metric_df = pd.DataFrame(\n",
    "data=[{\n",
    "    'model': 'mean_baseline',\n",
    "    'rmse_validate': rmse_validate, \n",
    "    'r^2_validate':explained_variance_score(y_validate.tax_value,\n",
    "                                           y_validate.tax_value_pred_mean)\n",
    "}])"
   ]
  },
  {
   "cell_type": "code",
   "execution_count": 24,
   "id": "515af19d",
   "metadata": {},
   "outputs": [
    {
     "data": {
      "text/html": [
       "<div>\n",
       "<style scoped>\n",
       "    .dataframe tbody tr th:only-of-type {\n",
       "        vertical-align: middle;\n",
       "    }\n",
       "\n",
       "    .dataframe tbody tr th {\n",
       "        vertical-align: top;\n",
       "    }\n",
       "\n",
       "    .dataframe thead th {\n",
       "        text-align: right;\n",
       "    }\n",
       "</style>\n",
       "<table border=\"1\" class=\"dataframe\">\n",
       "  <thead>\n",
       "    <tr style=\"text-align: right;\">\n",
       "      <th></th>\n",
       "      <th>model</th>\n",
       "      <th>rmse_validate</th>\n",
       "      <th>r^2_validate</th>\n",
       "    </tr>\n",
       "  </thead>\n",
       "  <tbody>\n",
       "    <tr>\n",
       "      <th>0</th>\n",
       "      <td>mean_baseline</td>\n",
       "      <td>208468.915345</td>\n",
       "      <td>-2.220446e-16</td>\n",
       "    </tr>\n",
       "  </tbody>\n",
       "</table>\n",
       "</div>"
      ],
      "text/plain": [
       "           model  rmse_validate  r^2_validate\n",
       "0  mean_baseline  208468.915345 -2.220446e-16"
      ]
     },
     "execution_count": 24,
     "metadata": {},
     "output_type": "execute_result"
    }
   ],
   "source": [
    "metric_df"
   ]
  },
  {
   "cell_type": "code",
   "execution_count": 25,
   "id": "8dc372b6",
   "metadata": {},
   "outputs": [
    {
     "data": {
      "image/png": "[encoded data removed]",
      "text/plain": [
       "<Figure size 432x288 with 1 Axes>"
      ]
     },
     "metadata": {
      "needs_background": "light"
     },
     "output_type": "display_data"
    }
   ],
   "source": [
    "# plot to visualize actual vs predicted. \n",
    "plt.hist(y_train.tax_value, color='blue', alpha=0.5, label='Actual Tax Value')\n",
    "plt.hist(y_train.tax_value_pred_mean, bins=10, color='red', alpha=0.5, label='Baseline (Mean)')\n",
    "plt.hist(y_train.tax_value_pred_median, bins=10, color='orange', alpha=0.5, label='Baseline (Median)')\n",
    "plt.xlabel('Tax value')\n",
    "plt.ylabel('Count of houses')\n",
    "plt.legend()\n",
    "plt.show()"
   ]
  },
  {
   "cell_type": "code",
   "execution_count": 26,
   "id": "b74508b2",
   "metadata": {},
   "outputs": [
    {
     "data": {
      "text/html": [
       "<div>\n",
       "<style scoped>\n",
       "    .dataframe tbody tr th:only-of-type {\n",
       "        vertical-align: middle;\n",
       "    }\n",
       "\n",
       "    .dataframe tbody tr th {\n",
       "        vertical-align: top;\n",
       "    }\n",
       "\n",
       "    .dataframe thead th {\n",
       "        text-align: right;\n",
       "    }\n",
       "</style>\n",
       "<table border=\"1\" class=\"dataframe\">\n",
       "  <thead>\n",
       "    <tr style=\"text-align: right;\">\n",
       "      <th></th>\n",
       "      <th>tax_value</th>\n",
       "      <th>baseline_mean_pred</th>\n",
       "      <th>baseline_median_pred</th>\n",
       "      <th>tax_value_pred_mean</th>\n",
       "      <th>tax_value_pred_median</th>\n",
       "    </tr>\n",
       "  </thead>\n",
       "  <tbody>\n",
       "    <tr>\n",
       "      <th>511824</th>\n",
       "      <td>497915</td>\n",
       "      <td>334464.971072</td>\n",
       "      <td>300304.0</td>\n",
       "      <td>334464.971072</td>\n",
       "      <td>300304.0</td>\n",
       "    </tr>\n",
       "    <tr>\n",
       "      <th>986893</th>\n",
       "      <td>320818</td>\n",
       "      <td>334464.971072</td>\n",
       "      <td>300304.0</td>\n",
       "      <td>334464.971072</td>\n",
       "      <td>300304.0</td>\n",
       "    </tr>\n",
       "    <tr>\n",
       "      <th>1462975</th>\n",
       "      <td>608536</td>\n",
       "      <td>334464.971072</td>\n",
       "      <td>300304.0</td>\n",
       "      <td>334464.971072</td>\n",
       "      <td>300304.0</td>\n",
       "    </tr>\n",
       "    <tr>\n",
       "      <th>1152928</th>\n",
       "      <td>372790</td>\n",
       "      <td>334464.971072</td>\n",
       "      <td>300304.0</td>\n",
       "      <td>334464.971072</td>\n",
       "      <td>300304.0</td>\n",
       "    </tr>\n",
       "    <tr>\n",
       "      <th>816888</th>\n",
       "      <td>340818</td>\n",
       "      <td>334464.971072</td>\n",
       "      <td>300304.0</td>\n",
       "      <td>334464.971072</td>\n",
       "      <td>300304.0</td>\n",
       "    </tr>\n",
       "  </tbody>\n",
       "</table>\n",
       "</div>"
      ],
      "text/plain": [
       "         tax_value  baseline_mean_pred  baseline_median_pred  \\\n",
       "511824      497915       334464.971072              300304.0   \n",
       "986893      320818       334464.971072              300304.0   \n",
       "1462975     608536       334464.971072              300304.0   \n",
       "1152928     372790       334464.971072              300304.0   \n",
       "816888      340818       334464.971072              300304.0   \n",
       "\n",
       "         tax_value_pred_mean  tax_value_pred_median  \n",
       "511824         334464.971072               300304.0  \n",
       "986893         334464.971072               300304.0  \n",
       "1462975        334464.971072               300304.0  \n",
       "1152928        334464.971072               300304.0  \n",
       "816888         334464.971072               300304.0  "
      ]
     },
     "execution_count": 26,
     "metadata": {},
     "output_type": "execute_result"
    }
   ],
   "source": [
    "y_train.head()"
   ]
  },
  {
   "cell_type": "markdown",
   "id": "cc00b010",
   "metadata": {},
   "source": [
    "### Linear Regression (OLS)"
   ]
  },
  {
   "cell_type": "code",
   "execution_count": 28,
   "id": "3b7a3acd",
   "metadata": {},
   "outputs": [
    {
     "name": "stdout",
     "output_type": "stream",
     "text": [
      "RMSE for OLS using LinearRegression\n",
      "Training/In-Sample:  185732.59512752213 \n",
      "Validation/Out-of-Sample:  185406.50171287113\n"
     ]
    }
   ],
   "source": [
    "# create the model object\n",
    "# \n",
    "# make the thing\n",
    "# \n",
    "\n",
    "lm = LinearRegression()\n",
    "\n",
    "# fit the model to our training data. We must specify the column in y_train, \n",
    "# since we have converted it to a dataframe from a series! \n",
    "# \n",
    "# fit the thing\n",
    "# \n",
    "lm.fit(X_train, y_train.tax_value)\n",
    "\n",
    "# predict train\n",
    "# \n",
    "# use the thing!\n",
    "# \n",
    "y_train['tax_value_pred_lm'] = lm.predict(X_train)\n",
    "y_validate['tax_value_pred_lm'] = lm.predict(x_validate)\n",
    "\n",
    "# evaluate: rmse\n",
    "# predict validate\n",
    "rmse_train = mean_squared_error(y_train.tax_value,\n",
    "                               y_train.tax_value_pred_lm) ** 0.5\n",
    "rmse_validate = mean_squared_error(y_validate.tax_value,\n",
    "                               y_validate.tax_value_pred_lm) ** 0.5\n",
    "# evaluate: rmse\n",
    "\n",
    "print(\"RMSE for OLS using LinearRegression\\nTraining/In-Sample: \", rmse_train, \n",
    "      \"\\nValidation/Out-of-Sample: \", rmse_validate)"
   ]
  },
  {
   "cell_type": "code",
   "execution_count": 30,
   "id": "b22ec55a",
   "metadata": {},
   "outputs": [],
   "source": [
    "metric_df = metric_df.append(\n",
    "{\n",
    "    'model': 'OLS lm 1',\n",
    "    'rmse_validate': rmse_validate, \n",
    "    'r^2_validate':explained_variance_score(y_validate.tax_value,\n",
    "                                           y_validate.tax_value_pred_lm)\n",
    "}, ignore_index=True)\n"
   ]
  },
  {
   "cell_type": "code",
   "execution_count": 31,
   "id": "b7bee3d1",
   "metadata": {},
   "outputs": [
    {
     "data": {
      "text/html": [
       "<div>\n",
       "<style scoped>\n",
       "    .dataframe tbody tr th:only-of-type {\n",
       "        vertical-align: middle;\n",
       "    }\n",
       "\n",
       "    .dataframe tbody tr th {\n",
       "        vertical-align: top;\n",
       "    }\n",
       "\n",
       "    .dataframe thead th {\n",
       "        text-align: right;\n",
       "    }\n",
       "</style>\n",
       "<table border=\"1\" class=\"dataframe\">\n",
       "  <thead>\n",
       "    <tr style=\"text-align: right;\">\n",
       "      <th></th>\n",
       "      <th>model</th>\n",
       "      <th>rmse_validate</th>\n",
       "      <th>r^2_validate</th>\n",
       "    </tr>\n",
       "  </thead>\n",
       "  <tbody>\n",
       "    <tr>\n",
       "      <th>0</th>\n",
       "      <td>mean_baseline</td>\n",
       "      <td>208468.915345</td>\n",
       "      <td>-2.220446e-16</td>\n",
       "    </tr>\n",
       "    <tr>\n",
       "      <th>1</th>\n",
       "      <td>OLS lm 1</td>\n",
       "      <td>185410.910961</td>\n",
       "      <td>1.880357e-01</td>\n",
       "    </tr>\n",
       "  </tbody>\n",
       "</table>\n",
       "</div>"
      ],
      "text/plain": [
       "           model  rmse_validate  r^2_validate\n",
       "0  mean_baseline  208468.915345 -2.220446e-16\n",
       "1       OLS lm 1  185410.910961  1.880357e-01"
      ]
     },
     "execution_count": 31,
     "metadata": {},
     "output_type": "execute_result"
    }
   ],
   "source": [
    "metric_df"
   ]
  },
  {
   "cell_type": "markdown",
   "id": "d921c74d",
   "metadata": {},
   "source": [
    "### LassoLars"
   ]
  },
  {
   "cell_type": "code",
   "execution_count": 33,
   "id": "c278d0dc",
   "metadata": {},
   "outputs": [
    {
     "name": "stdout",
     "output_type": "stream",
     "text": [
      "RMSE for Lasso + Lars\n",
      "Training/In-Sample:  185735.5469203567 \n",
      "Validation/Out-of-Sample:  185410.91096107688\n"
     ]
    }
   ],
   "source": [
    "# create the model object\n",
    "lars = LassoLars(alpha=1)\n",
    "\n",
    "# fit the model to our training data. We must specify the column in y_train, \n",
    "# since we have converted it to a dataframe from a series!\n",
    "\n",
    "lars.fit(X_train, y_train.tax_value)\n",
    "\n",
    "# predict train\n",
    "y_train['tax_value_pred_lars'] = lars.predict(X_train)\n",
    "y_validate['tax_value_pred_lars'] = lars.predict(x_validate)\n",
    "\n",
    "# evaluate: rmse\n",
    "# predict validate\n",
    "# evaluate: rmse\n",
    "\n",
    "rmse_train = mean_squared_error(y_train.tax_value, y_train.tax_value_pred_lars) ** 0.5\n",
    "rmse_validate = mean_squared_error(y_validate.tax_value, y_validate.tax_value_pred_lars) ** 0.5\n",
    "\n",
    "\n",
    "print(\"RMSE for Lasso + Lars\\nTraining/In-Sample: \", rmse_train, \n",
    "      \"\\nValidation/Out-of-Sample: \", rmse_validate)"
   ]
  },
  {
   "cell_type": "code",
   "execution_count": 34,
   "id": "0f195014",
   "metadata": {},
   "outputs": [
    {
     "data": {
      "text/html": [
       "<div>\n",
       "<style scoped>\n",
       "    .dataframe tbody tr th:only-of-type {\n",
       "        vertical-align: middle;\n",
       "    }\n",
       "\n",
       "    .dataframe tbody tr th {\n",
       "        vertical-align: top;\n",
       "    }\n",
       "\n",
       "    .dataframe thead th {\n",
       "        text-align: right;\n",
       "    }\n",
       "</style>\n",
       "<table border=\"1\" class=\"dataframe\">\n",
       "  <thead>\n",
       "    <tr style=\"text-align: right;\">\n",
       "      <th></th>\n",
       "      <th>model</th>\n",
       "      <th>rmse_validate</th>\n",
       "      <th>r^2_validate</th>\n",
       "    </tr>\n",
       "  </thead>\n",
       "  <tbody>\n",
       "    <tr>\n",
       "      <th>0</th>\n",
       "      <td>mean_baseline</td>\n",
       "      <td>208468.915345</td>\n",
       "      <td>-2.220446e-16</td>\n",
       "    </tr>\n",
       "    <tr>\n",
       "      <th>1</th>\n",
       "      <td>OLS lm 1</td>\n",
       "      <td>185410.910961</td>\n",
       "      <td>1.880357e-01</td>\n",
       "    </tr>\n",
       "  </tbody>\n",
       "</table>\n",
       "</div>"
      ],
      "text/plain": [
       "           model  rmse_validate  r^2_validate\n",
       "0  mean_baseline  208468.915345 -2.220446e-16\n",
       "1       OLS lm 1  185410.910961  1.880357e-01"
      ]
     },
     "execution_count": 34,
     "metadata": {},
     "output_type": "execute_result"
    }
   ],
   "source": [
    "metric_df"
   ]
  },
  {
   "cell_type": "code",
   "execution_count": 35,
   "id": "1675fb01",
   "metadata": {},
   "outputs": [],
   "source": [
    "metric_df = metric_df.append(\n",
    "{\n",
    "    'model': 'LassoLars alpha 1',\n",
    "    'rmse_validate': rmse_validate, \n",
    "    'r^2_validate':explained_variance_score(y_validate.tax_value,\n",
    "                                           y_validate.tax_value_pred_lars)\n",
    "}, ignore_index=True)"
   ]
  },
  {
   "cell_type": "code",
   "execution_count": 36,
   "id": "bb2a6113",
   "metadata": {},
   "outputs": [
    {
     "data": {
      "text/html": [
       "<div>\n",
       "<style scoped>\n",
       "    .dataframe tbody tr th:only-of-type {\n",
       "        vertical-align: middle;\n",
       "    }\n",
       "\n",
       "    .dataframe tbody tr th {\n",
       "        vertical-align: top;\n",
       "    }\n",
       "\n",
       "    .dataframe thead th {\n",
       "        text-align: right;\n",
       "    }\n",
       "</style>\n",
       "<table border=\"1\" class=\"dataframe\">\n",
       "  <thead>\n",
       "    <tr style=\"text-align: right;\">\n",
       "      <th></th>\n",
       "      <th>model</th>\n",
       "      <th>rmse_validate</th>\n",
       "      <th>r^2_validate</th>\n",
       "    </tr>\n",
       "  </thead>\n",
       "  <tbody>\n",
       "    <tr>\n",
       "      <th>0</th>\n",
       "      <td>mean_baseline</td>\n",
       "      <td>208468.915345</td>\n",
       "      <td>-2.220446e-16</td>\n",
       "    </tr>\n",
       "    <tr>\n",
       "      <th>1</th>\n",
       "      <td>OLS lm 1</td>\n",
       "      <td>185410.910961</td>\n",
       "      <td>1.880357e-01</td>\n",
       "    </tr>\n",
       "    <tr>\n",
       "      <th>2</th>\n",
       "      <td>LassoLars alpha 1</td>\n",
       "      <td>185410.910961</td>\n",
       "      <td>1.879970e-01</td>\n",
       "    </tr>\n",
       "  </tbody>\n",
       "</table>\n",
       "</div>"
      ],
      "text/plain": [
       "               model  rmse_validate  r^2_validate\n",
       "0      mean_baseline  208468.915345 -2.220446e-16\n",
       "1           OLS lm 1  185410.910961  1.880357e-01\n",
       "2  LassoLars alpha 1  185410.910961  1.879970e-01"
      ]
     },
     "execution_count": 36,
     "metadata": {},
     "output_type": "execute_result"
    }
   ],
   "source": [
    "metric_df"
   ]
  },
  {
   "cell_type": "markdown",
   "id": "5c53d2ea",
   "metadata": {},
   "source": [
    "### TweedieRegressor (GLM)\n"
   ]
  },
  {
   "cell_type": "code",
   "execution_count": 41,
   "id": "2d4a44d5",
   "metadata": {},
   "outputs": [
    {
     "name": "stdout",
     "output_type": "stream",
     "text": [
      "RMSE for GLM using Tweedie, power=1 & alpha=0\n",
      "Training/In-Sample:  205967.29686084748 \n",
      "Validation/Out-of-Sample:  205757.43562096954\n"
     ]
    }
   ],
   "source": [
    "# create the model object\n",
    "glm = TweedieRegressor(power=1, alpha=0)\n",
    "\n",
    "# fit the model to our training data. We must specify the column in y_train, \n",
    "# since we have converted it to a dataframe from a series!\n",
    "\n",
    "glm.fit(X_train, y_train.tax_value)\n",
    "\n",
    "# predict train\n",
    "y_train['tax_value_pred_glm'] = glm.predict(X_train)\n",
    "y_validate['tax_value_pred_glm'] = glm.predict(x_validate)\n",
    "\n",
    "# evaluate: rmse\n",
    "# predict validate\n",
    "# evaluate: rmse\n",
    "\n",
    "rmse_train = mean_squared_error(y_train.tax_value, y_train.tax_value_pred_glm) ** 0.5\n",
    "rmse_validate = mean_squared_error(y_validate.tax_value, y_validate.tax_value_pred_glm) ** 0.5\n",
    "\n",
    "\n",
    "print(\"RMSE for GLM using Tweedie, power=1 & alpha=0\\nTraining/In-Sample: \", rmse_train, \n",
    "      \"\\nValidation/Out-of-Sample: \", rmse_validate)"
   ]
  },
  {
   "cell_type": "code",
   "execution_count": 42,
   "id": "bbdae1f3",
   "metadata": {},
   "outputs": [],
   "source": [
    "metric_df = metric_df.append(\n",
    "    {\n",
    "    'model': 'GLM Model power 1',\n",
    "    'rmse_validate': rmse_validate,\n",
    "    'r^2_validate': explained_variance_score(y_validate.tax_value, y_validate.tax_value_pred_glm)}, ignore_index=True)"
   ]
  },
  {
   "cell_type": "code",
   "execution_count": 43,
   "id": "87f4ac98",
   "metadata": {},
   "outputs": [
    {
     "data": {
      "text/html": [
       "<div>\n",
       "<style scoped>\n",
       "    .dataframe tbody tr th:only-of-type {\n",
       "        vertical-align: middle;\n",
       "    }\n",
       "\n",
       "    .dataframe tbody tr th {\n",
       "        vertical-align: top;\n",
       "    }\n",
       "\n",
       "    .dataframe thead th {\n",
       "        text-align: right;\n",
       "    }\n",
       "</style>\n",
       "<table border=\"1\" class=\"dataframe\">\n",
       "  <thead>\n",
       "    <tr style=\"text-align: right;\">\n",
       "      <th></th>\n",
       "      <th>model</th>\n",
       "      <th>rmse_validate</th>\n",
       "      <th>r^2_validate</th>\n",
       "    </tr>\n",
       "  </thead>\n",
       "  <tbody>\n",
       "    <tr>\n",
       "      <th>0</th>\n",
       "      <td>mean_baseline</td>\n",
       "      <td>208468.915345</td>\n",
       "      <td>-2.220446e-16</td>\n",
       "    </tr>\n",
       "    <tr>\n",
       "      <th>1</th>\n",
       "      <td>OLS lm 1</td>\n",
       "      <td>185410.910961</td>\n",
       "      <td>1.880357e-01</td>\n",
       "    </tr>\n",
       "    <tr>\n",
       "      <th>2</th>\n",
       "      <td>LassoLars alpha 1</td>\n",
       "      <td>185410.910961</td>\n",
       "      <td>1.879970e-01</td>\n",
       "    </tr>\n",
       "    <tr>\n",
       "      <th>3</th>\n",
       "      <td>GLM Model power 1</td>\n",
       "      <td>205757.435621</td>\n",
       "      <td>0.000000e+00</td>\n",
       "    </tr>\n",
       "  </tbody>\n",
       "</table>\n",
       "</div>"
      ],
      "text/plain": [
       "               model  rmse_validate  r^2_validate\n",
       "0      mean_baseline  208468.915345 -2.220446e-16\n",
       "1           OLS lm 1  185410.910961  1.880357e-01\n",
       "2  LassoLars alpha 1  185410.910961  1.879970e-01\n",
       "3  GLM Model power 1  205757.435621  0.000000e+00"
      ]
     },
     "execution_count": 43,
     "metadata": {},
     "output_type": "execute_result"
    }
   ],
   "source": [
    "metric_df"
   ]
  },
  {
   "cell_type": "markdown",
   "id": "09fed4bf",
   "metadata": {},
   "source": [
    "## Polynomial Regression"
   ]
  },
  {
   "cell_type": "markdown",
   "id": "372be0d0",
   "metadata": {},
   "source": [
    "### PolynomialFeatures"
   ]
  },
  {
   "cell_type": "code",
   "execution_count": 56,
   "id": "a496fd3b",
   "metadata": {},
   "outputs": [],
   "source": [
    "# get my x & y train into df\n",
    "X_test = pd.DataFrame(test.area)\n",
    "y_test = pd.DataFrame(test.tax_value)"
   ]
  },
  {
   "cell_type": "code",
   "execution_count": 57,
   "id": "f999b112",
   "metadata": {},
   "outputs": [],
   "source": [
    "# make the polynomial features to get a new set of features\n",
    "\n",
    "pf = PolynomialFeatures(degree=2)\n",
    "\n",
    "# fit and transform X_train_scaled\n",
    "X_train_degree2 = pf.fit_transform(X_train)\n",
    "\n",
    "# transform X_validate_scaled & X_test_scaled\n",
    "X_validate_degree2 = pf.transform(x_validate)\n",
    "X_test_degree2 = pf.transform(X_test)"
   ]
  },
  {
   "cell_type": "markdown",
   "id": "cb43b1b2",
   "metadata": {},
   "source": [
    "### Linear Regression"
   ]
  },
  {
   "cell_type": "code",
   "execution_count": 58,
   "id": "98d56804",
   "metadata": {},
   "outputs": [
    {
     "data": {
      "text/plain": [
       "LinearRegression(normalize=True)"
      ]
     },
     "execution_count": 58,
     "metadata": {},
     "output_type": "execute_result"
    }
   ],
   "source": [
    "# create the model object\n",
    "# make the thing\n",
    "\n",
    "lm2 = LinearRegression(normalize=True)\n",
    "\n",
    "# \n",
    "# fit the thing\n",
    "\n",
    "lm2.fit(X_train_degree2, y_train.tax_value)"
   ]
  },
  {
   "cell_type": "code",
   "execution_count": 59,
   "id": "06511aeb",
   "metadata": {},
   "outputs": [
    {
     "name": "stdout",
     "output_type": "stream",
     "text": [
      "RMSE for OLS using LinearRegression\n",
      "Training/In-Sample:  185691.28894341984 \n",
      "Validation/Out-of-Sample:  185357.33478618597\n"
     ]
    }
   ],
   "source": [
    "# predict train\n",
    "# \n",
    "# use the thing!\n",
    "# \n",
    "\n",
    "# evaluate: rmse\n",
    "# predict validate\n",
    "y_train['tax_value_pred_lm2'] = lm2.predict(X_train_degree2)\n",
    "y_validate['tax_value_pred_lm2'] = lm2.predict(X_validate_degree2)\n",
    "\n",
    "# evaluate: rmse\n",
    "rmse_train = mean_squared_error(y_train.tax_value, y_train.tax_value_pred_lm2) ** 0.5\n",
    "rmse_validate = mean_squared_error(y_validate.tax_value, y_validate.tax_value_pred_lm2) ** 0.5\n",
    "\n",
    "print(\"RMSE for OLS using LinearRegression\\nTraining/In-Sample: \", rmse_train, \n",
    "      \"\\nValidation/Out-of-Sample: \", rmse_validate)"
   ]
  },
  {
   "cell_type": "code",
   "execution_count": 60,
   "id": "19b7385e",
   "metadata": {},
   "outputs": [],
   "source": [
    "metric_df = metric_df.append(\n",
    "    {\n",
    "    'model': 'Quadratic Model',\n",
    "    'rmse_validate': rmse_validate,\n",
    "    'r^2_validate': explained_variance_score(y_validate.tax_value, y_validate.tax_value_pred_lm2)}, ignore_index=True)\n"
   ]
  },
  {
   "cell_type": "code",
   "execution_count": 61,
   "id": "4c71e1fe",
   "metadata": {},
   "outputs": [
    {
     "data": {
      "text/html": [
       "<div>\n",
       "<style scoped>\n",
       "    .dataframe tbody tr th:only-of-type {\n",
       "        vertical-align: middle;\n",
       "    }\n",
       "\n",
       "    .dataframe tbody tr th {\n",
       "        vertical-align: top;\n",
       "    }\n",
       "\n",
       "    .dataframe thead th {\n",
       "        text-align: right;\n",
       "    }\n",
       "</style>\n",
       "<table border=\"1\" class=\"dataframe\">\n",
       "  <thead>\n",
       "    <tr style=\"text-align: right;\">\n",
       "      <th></th>\n",
       "      <th>model</th>\n",
       "      <th>rmse_validate</th>\n",
       "      <th>r^2_validate</th>\n",
       "    </tr>\n",
       "  </thead>\n",
       "  <tbody>\n",
       "    <tr>\n",
       "      <th>0</th>\n",
       "      <td>mean_baseline</td>\n",
       "      <td>208468.915345</td>\n",
       "      <td>-2.220446e-16</td>\n",
       "    </tr>\n",
       "    <tr>\n",
       "      <th>1</th>\n",
       "      <td>OLS lm 1</td>\n",
       "      <td>185410.910961</td>\n",
       "      <td>1.880357e-01</td>\n",
       "    </tr>\n",
       "    <tr>\n",
       "      <th>2</th>\n",
       "      <td>LassoLars alpha 1</td>\n",
       "      <td>185410.910961</td>\n",
       "      <td>1.879970e-01</td>\n",
       "    </tr>\n",
       "    <tr>\n",
       "      <th>3</th>\n",
       "      <td>GLM Model power 1</td>\n",
       "      <td>205757.435621</td>\n",
       "      <td>0.000000e+00</td>\n",
       "    </tr>\n",
       "    <tr>\n",
       "      <th>4</th>\n",
       "      <td>Quadratic Model</td>\n",
       "      <td>185357.334786</td>\n",
       "      <td>1.884660e-01</td>\n",
       "    </tr>\n",
       "  </tbody>\n",
       "</table>\n",
       "</div>"
      ],
      "text/plain": [
       "               model  rmse_validate  r^2_validate\n",
       "0      mean_baseline  208468.915345 -2.220446e-16\n",
       "1           OLS lm 1  185410.910961  1.880357e-01\n",
       "2  LassoLars alpha 1  185410.910961  1.879970e-01\n",
       "3  GLM Model power 1  205757.435621  0.000000e+00\n",
       "4    Quadratic Model  185357.334786  1.884660e-01"
      ]
     },
     "execution_count": 61,
     "metadata": {},
     "output_type": "execute_result"
    }
   ],
   "source": [
    "metric_df"
   ]
  },
  {
   "cell_type": "code",
   "execution_count": null,
   "id": "68e02acb",
   "metadata": {},
   "outputs": [],
   "source": [
    "# takeaways:\n",
    "# LassoLars seems to be the best model alomost tying up with OLS \n"
   ]
  },
  {
   "cell_type": "markdown",
   "id": "689fcebd",
   "metadata": {},
   "source": [
    "### Evaluate\n",
    "### Plotting Actual vs. Predicted Values"
   ]
  },
  {
   "cell_type": "code",
   "execution_count": 62,
   "id": "6f098705",
   "metadata": {},
   "outputs": [
    {
     "data": {
      "image/png": "[encoded data removed]",
      "text/plain": [
       "<Figure size 1152x576 with 1 Axes>"
      ]
     },
     "metadata": {
      "needs_background": "light"
     },
     "output_type": "display_data"
    }
   ],
   "source": [
    "# y_validate.head()\n",
    "plt.figure(figsize=(16,8))\n",
    "plt.plot(y_validate.tax_value, y_validate.tax_value_pred_mean, alpha=.5, color=\"gray\", label='_nolegend_')\n",
    "plt.annotate(\"Baseline: Predict Using Mean\", (16, 9.5))\n",
    "plt.plot(y_validate.tax_value, y_validate.tax_value, alpha=.5, color=\"blue\", label='_nolegend_')\n",
    "plt.annotate(\"The Ideal Line: Predicted = Actual\", (.5, 3.5), rotation=15.5)\n",
    "\n",
    "plt.scatter(y_validate.tax_value, y_validate.tax_value_pred_lm, \n",
    "            alpha=.5, color=\"red\", s=100, label=\"Model: LinearRegression\")\n",
    "# plt.scatter(y_validate.tax_value, y_validate.tax_value_pred_glm, \n",
    "#             alpha=.5, color=\"yellow\", s=100, label=\"Model: TweedieRegressor\")\n",
    "plt.scatter(y_validate.tax_value, y_validate.tax_value_pred_lm2, \n",
    "            alpha=.5, color=\"green\", s=100, label=\"Model 2nd degree Polynomial\")\n",
    "plt.legend()\n",
    "plt.xlabel(\"Actual Tax Value\")\n",
    "plt.ylabel(\"Predicted Tax Value\")\n",
    "plt.title(\"Where are predictions more extreme? More modest?\")\n",
    "plt.annotate(\"The polynomial model appears to overreact to noise\", (2.0, -10))\n",
    "plt.annotate(\"The OLS model (LinearRegression)\\n appears to be most consistent\", (15.5, 3))\n",
    "plt.show()"
   ]
  },
  {
   "cell_type": "markdown",
   "id": "3f93b225",
   "metadata": {},
   "source": [
    "### Residual Plots: Plotting the Errors in Predictions"
   ]
  },
  {
   "cell_type": "code",
   "execution_count": 63,
   "id": "9a6bf15e",
   "metadata": {},
   "outputs": [
    {
     "data": {
      "image/png": "[encoded data removed]",
      "text/plain": [
       "<Figure size 1152x576 with 1 Axes>"
      ]
     },
     "metadata": {
      "needs_background": "light"
     },
     "output_type": "display_data"
    }
   ],
   "source": [
    "# y_validate.head()\n",
    "plt.figure(figsize=(16,8))\n",
    "plt.axhline(label=\"No Error\")\n",
    "plt.scatter(y_validate.tax_value, y_validate.tax_value_pred_lm - y_validate.tax_value, \n",
    "            alpha=.5, color=\"red\", s=100, label=\"Model: LinearRegression\")\n",
    "plt.scatter(y_validate.tax_value, y_validate.tax_value_pred_glm - y_validate.tax_value, \n",
    "            alpha=.5, color=\"yellow\", s=100, label=\"Model: TweedieRegressor\")\n",
    "plt.scatter(y_validate.tax_value, y_validate.tax_value_pred_lm2 - y_validate.tax_value, \n",
    "            alpha=.5, color=\"green\", s=100, label=\"Model 2nd degree Polynomial\")\n",
    "plt.legend()\n",
    "plt.xlabel(\"Actual Tax Value\")\n",
    "plt.ylabel(\"Residual/Error: Predicted Tax Value - Actual Tax Value\")\n",
    "plt.title(\"Do the size of errors change as the actual value changes?\")\n",
    "plt.annotate(\"The polynomial model appears to overreact to noise\", (2.0, -10))\n",
    "plt.annotate(\"The OLS model (LinearRegression)\\n appears to be most consistent\", (15.5, 3))\n",
    "plt.show()"
   ]
  },
  {
   "cell_type": "markdown",
   "id": "a8ad90b3",
   "metadata": {},
   "source": [
    "### Histogram"
   ]
  },
  {
   "cell_type": "code",
   "execution_count": 64,
   "id": "c080b0b7",
   "metadata": {},
   "outputs": [
    {
     "data": {
      "image/png": "[encoded data removed]",
      "text/plain": [
       "<Figure size 1152x576 with 1 Axes>"
      ]
     },
     "metadata": {
      "needs_background": "light"
     },
     "output_type": "display_data"
    }
   ],
   "source": [
    "# plot to visualize actual vs predicted. \n",
    "plt.figure(figsize=(16,8))\n",
    "plt.hist(y_validate.tax_value, color='blue', alpha=.5, label=\"Actual Tax Value\")\n",
    "plt.hist(y_validate.tax_value_pred_lm, color='red', alpha=.5, label=\"Model: LinearRegression\")\n",
    "# plt.hist(y_validate.Tax value_pred_glm, color='yellow', alpha=.5, label=\"Model: TweedieRegressor\")\n",
    "# plt.hist(y_validate.Tax value_pred_lm2, color='green', alpha=.5, label=\"Model 2nd degree Polynomial\")\n",
    "plt.xlabel(\"Final Tax Value (Tax Value)\")\n",
    "plt.ylabel(\"Number of Houses\")\n",
    "plt.title(\"Comparing the Distribution of Actual Tax Value to Distributions of Predicted Tax Value for the Top Models\")\n",
    "plt.legend()\n",
    "plt.show()"
   ]
  },
  {
   "cell_type": "code",
   "execution_count": 65,
   "id": "51009359",
   "metadata": {},
   "outputs": [],
   "source": [
    "# final steps before putting into production:\n",
    "# select best model:\n",
    "# assess on test set\n"
   ]
  },
  {
   "cell_type": "code",
   "execution_count": 66,
   "id": "61a52641",
   "metadata": {},
   "outputs": [],
   "source": [
    "# LassoLars was my best model, so I will utilize this to evaluate results on my test set\n"
   ]
  },
  {
   "cell_type": "code",
   "execution_count": 67,
   "id": "cd851e6c",
   "metadata": {},
   "outputs": [],
   "source": [
    "# capture predictions on test\n",
    "y_pred_test = lm.predict(X_test)\n"
   ]
  },
  {
   "cell_type": "code",
   "execution_count": 68,
   "id": "d16a6d82",
   "metadata": {},
   "outputs": [],
   "source": [
    "# get error metrics:\n",
    "rmse_test = mean_squared_error(y_test, y_pred_test) ** 0.5"
   ]
  },
  {
   "cell_type": "code",
   "execution_count": 69,
   "id": "707b4ba2",
   "metadata": {},
   "outputs": [
    {
     "data": {
      "text/plain": [
       "185704.79629170237"
      ]
     },
     "execution_count": 69,
     "metadata": {},
     "output_type": "execute_result"
    }
   ],
   "source": [
    "rmse_test"
   ]
  },
  {
   "cell_type": "code",
   "execution_count": null,
   "id": "021704db",
   "metadata": {},
   "outputs": [],
   "source": []
  }
 ],
 "metadata": {
  "kernelspec": {
   "display_name": "Python 3 (ipykernel)",
   "language": "python",
   "name": "python3"
  },
  "language_info": {
   "codemirror_mode": {
    "name": "ipython",
    "version": 3
   },
   "file_extension": ".py",
   "mimetype": "text/x-python",
   "name": "python",
   "nbconvert_exporter": "python",
   "pygments_lexer": "ipython3",
   "version": "3.9.12"
  }
 },
 "nbformat": 4,
 "nbformat_minor": 5
}
