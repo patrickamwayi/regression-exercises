{
 "cells": [
  {
   "cell_type": "code",
   "execution_count": 1,
   "id": "791493c9",
   "metadata": {},
   "outputs": [],
   "source": [
    "import pandas as pd\n",
    "import numpy as np\n",
    "\n",
    "#viz and stats\n",
    "import pydataset\n",
    "%matplotlib inline\n",
    "import matplotlib.pyplot as plt\n",
    "import seaborn as sns\n",
    "from sklearn.linear_model import LinearRegression\n",
    "from sklearn.neighbors import KNeighborsClassifier\n",
    "from scipy.stats import pearsonr, spearmanr\n",
    "\n",
    "#import sklearn mean_square_error\n",
    "from sklearn.metrics import mean_squared_error\n",
    "\n",
    "#import r2_score from sklearn\n",
    "from sklearn.metrics import r2_score\n",
    "\n",
    "import sklearn.preprocessing\n",
    "import warnings\n",
    "warnings.filterwarnings(\"ignore\")\n",
    "#my wrangle file \n",
    "import wrangle\n",
    "#split data\n",
    "from sklearn.model_selection import train_test_split\n",
    "import evaluate\n",
    "\n",
    "import env"
   ]
  },
  {
   "cell_type": "markdown",
   "id": "944bdd7a",
   "metadata": {},
   "source": [
    "### Exercises\n",
    "### Do you work for this exercise in either a jupyter notebook named evaluate within your regression-exercises repository. By the end of this exercise you will also create a python script named evaluate, so the overall deliverables for this exercise are the python script and jupyter notebook both with the name evaluate within your regression-exercises repo."
   ]
  },
  {
   "cell_type": "markdown",
   "id": "51fb959b",
   "metadata": {},
   "source": [
    "### 1. Load your zillow dataset.\n",
    "\n"
   ]
  },
  {
   "cell_type": "code",
   "execution_count": 2,
   "id": "77d60ee2",
   "metadata": {},
   "outputs": [
    {
     "data": {
      "text/html": [
       "<div>\n",
       "<style scoped>\n",
       "    .dataframe tbody tr th:only-of-type {\n",
       "        vertical-align: middle;\n",
       "    }\n",
       "\n",
       "    .dataframe tbody tr th {\n",
       "        vertical-align: top;\n",
       "    }\n",
       "\n",
       "    .dataframe thead th {\n",
       "        text-align: right;\n",
       "    }\n",
       "</style>\n",
       "<table border=\"1\" class=\"dataframe\">\n",
       "  <thead>\n",
       "    <tr style=\"text-align: right;\">\n",
       "      <th></th>\n",
       "      <th>bedrooms</th>\n",
       "      <th>bathrooms</th>\n",
       "      <th>area</th>\n",
       "      <th>tax_value</th>\n",
       "      <th>year_built</th>\n",
       "      <th>tax_amount</th>\n",
       "      <th>fips</th>\n",
       "    </tr>\n",
       "  </thead>\n",
       "  <tbody>\n",
       "    <tr>\n",
       "      <th>7</th>\n",
       "      <td>3</td>\n",
       "      <td>2.0</td>\n",
       "      <td>2077</td>\n",
       "      <td>646760</td>\n",
       "      <td>1926</td>\n",
       "      <td>7924.68</td>\n",
       "      <td>6037</td>\n",
       "    </tr>\n",
       "    <tr>\n",
       "      <th>18</th>\n",
       "      <td>3</td>\n",
       "      <td>1.0</td>\n",
       "      <td>1244</td>\n",
       "      <td>169471</td>\n",
       "      <td>1950</td>\n",
       "      <td>2532.88</td>\n",
       "      <td>6037</td>\n",
       "    </tr>\n",
       "    <tr>\n",
       "      <th>19</th>\n",
       "      <td>3</td>\n",
       "      <td>2.0</td>\n",
       "      <td>1300</td>\n",
       "      <td>233266</td>\n",
       "      <td>1950</td>\n",
       "      <td>3110.99</td>\n",
       "      <td>6037</td>\n",
       "    </tr>\n",
       "    <tr>\n",
       "      <th>20</th>\n",
       "      <td>3</td>\n",
       "      <td>2.0</td>\n",
       "      <td>1222</td>\n",
       "      <td>290492</td>\n",
       "      <td>1951</td>\n",
       "      <td>3870.25</td>\n",
       "      <td>6037</td>\n",
       "    </tr>\n",
       "    <tr>\n",
       "      <th>40</th>\n",
       "      <td>2</td>\n",
       "      <td>1.0</td>\n",
       "      <td>725</td>\n",
       "      <td>37548</td>\n",
       "      <td>1953</td>\n",
       "      <td>576.47</td>\n",
       "      <td>6037</td>\n",
       "    </tr>\n",
       "    <tr>\n",
       "      <th>...</th>\n",
       "      <td>...</td>\n",
       "      <td>...</td>\n",
       "      <td>...</td>\n",
       "      <td>...</td>\n",
       "      <td>...</td>\n",
       "      <td>...</td>\n",
       "      <td>...</td>\n",
       "    </tr>\n",
       "    <tr>\n",
       "      <th>2152815</th>\n",
       "      <td>4</td>\n",
       "      <td>2.0</td>\n",
       "      <td>1484</td>\n",
       "      <td>71859</td>\n",
       "      <td>1955</td>\n",
       "      <td>1135.72</td>\n",
       "      <td>6037</td>\n",
       "    </tr>\n",
       "    <tr>\n",
       "      <th>2152824</th>\n",
       "      <td>2</td>\n",
       "      <td>1.0</td>\n",
       "      <td>710</td>\n",
       "      <td>175319</td>\n",
       "      <td>1940</td>\n",
       "      <td>2040.78</td>\n",
       "      <td>6111</td>\n",
       "    </tr>\n",
       "    <tr>\n",
       "      <th>2152831</th>\n",
       "      <td>3</td>\n",
       "      <td>2.0</td>\n",
       "      <td>1194</td>\n",
       "      <td>271536</td>\n",
       "      <td>1954</td>\n",
       "      <td>3555.73</td>\n",
       "      <td>6037</td>\n",
       "    </tr>\n",
       "    <tr>\n",
       "      <th>2152852</th>\n",
       "      <td>3</td>\n",
       "      <td>2.0</td>\n",
       "      <td>1917</td>\n",
       "      <td>408680</td>\n",
       "      <td>1946</td>\n",
       "      <td>4341.32</td>\n",
       "      <td>6111</td>\n",
       "    </tr>\n",
       "    <tr>\n",
       "      <th>2152853</th>\n",
       "      <td>4</td>\n",
       "      <td>2.0</td>\n",
       "      <td>1987</td>\n",
       "      <td>259913</td>\n",
       "      <td>1955</td>\n",
       "      <td>3175.66</td>\n",
       "      <td>6059</td>\n",
       "    </tr>\n",
       "  </tbody>\n",
       "</table>\n",
       "<p>1827497 rows × 7 columns</p>\n",
       "</div>"
      ],
      "text/plain": [
       "         bedrooms  bathrooms  area  tax_value  year_built  tax_amount  fips\n",
       "7               3        2.0  2077     646760        1926     7924.68  6037\n",
       "18              3        1.0  1244     169471        1950     2532.88  6037\n",
       "19              3        2.0  1300     233266        1950     3110.99  6037\n",
       "20              3        2.0  1222     290492        1951     3870.25  6037\n",
       "40              2        1.0   725      37548        1953      576.47  6037\n",
       "...           ...        ...   ...        ...         ...         ...   ...\n",
       "2152815         4        2.0  1484      71859        1955     1135.72  6037\n",
       "2152824         2        1.0   710     175319        1940     2040.78  6111\n",
       "2152831         3        2.0  1194     271536        1954     3555.73  6037\n",
       "2152852         3        2.0  1917     408680        1946     4341.32  6111\n",
       "2152853         4        2.0  1987     259913        1955     3175.66  6059\n",
       "\n",
       "[1827497 rows x 7 columns]"
      ]
     },
     "execution_count": 2,
     "metadata": {},
     "output_type": "execute_result"
    }
   ],
   "source": [
    "#acquire data\n",
    "df = wrangle.wrangle_zillow()\n",
    "df"
   ]
  },
  {
   "cell_type": "code",
   "execution_count": 3,
   "id": "bb4a1ad1",
   "metadata": {},
   "outputs": [
    {
     "data": {
      "text/plain": [
       "(1827497, 7)"
      ]
     },
     "execution_count": 3,
     "metadata": {},
     "output_type": "execute_result"
    }
   ],
   "source": [
    "#get shape\n",
    "df.shape"
   ]
  },
  {
   "cell_type": "code",
   "execution_count": 4,
   "id": "0fe2bfa3",
   "metadata": {},
   "outputs": [
    {
     "data": {
      "text/plain": [
       "((1096497, 7), (365500, 7), (365500, 7))"
      ]
     },
     "execution_count": 4,
     "metadata": {},
     "output_type": "execute_result"
    }
   ],
   "source": [
    "# split\n",
    "#split data\n",
    "train_validate, test = train_test_split(df, test_size=.2, random_state=123)\n",
    "train, validate = train_test_split(train_validate, test_size=.25, random_state=123)\n",
    "train.shape, validate.shape, test.shape"
   ]
  },
  {
   "cell_type": "code",
   "execution_count": 5,
   "id": "d753372f",
   "metadata": {},
   "outputs": [
    {
     "data": {
      "text/html": [
       "<div>\n",
       "<style scoped>\n",
       "    .dataframe tbody tr th:only-of-type {\n",
       "        vertical-align: middle;\n",
       "    }\n",
       "\n",
       "    .dataframe tbody tr th {\n",
       "        vertical-align: top;\n",
       "    }\n",
       "\n",
       "    .dataframe thead th {\n",
       "        text-align: right;\n",
       "    }\n",
       "</style>\n",
       "<table border=\"1\" class=\"dataframe\">\n",
       "  <thead>\n",
       "    <tr style=\"text-align: right;\">\n",
       "      <th></th>\n",
       "      <th>bedrooms</th>\n",
       "      <th>bathrooms</th>\n",
       "      <th>area</th>\n",
       "      <th>tax_value</th>\n",
       "      <th>year_built</th>\n",
       "      <th>tax_amount</th>\n",
       "      <th>fips</th>\n",
       "    </tr>\n",
       "  </thead>\n",
       "  <tbody>\n",
       "    <tr>\n",
       "      <th>511824</th>\n",
       "      <td>3</td>\n",
       "      <td>2.0</td>\n",
       "      <td>1845</td>\n",
       "      <td>497915</td>\n",
       "      <td>1952</td>\n",
       "      <td>5967.44</td>\n",
       "      <td>6037</td>\n",
       "    </tr>\n",
       "    <tr>\n",
       "      <th>986893</th>\n",
       "      <td>3</td>\n",
       "      <td>2.0</td>\n",
       "      <td>1524</td>\n",
       "      <td>320818</td>\n",
       "      <td>1955</td>\n",
       "      <td>4068.13</td>\n",
       "      <td>6037</td>\n",
       "    </tr>\n",
       "    <tr>\n",
       "      <th>1462975</th>\n",
       "      <td>2</td>\n",
       "      <td>2.0</td>\n",
       "      <td>1651</td>\n",
       "      <td>608536</td>\n",
       "      <td>1984</td>\n",
       "      <td>6639.32</td>\n",
       "      <td>6059</td>\n",
       "    </tr>\n",
       "    <tr>\n",
       "      <th>1152928</th>\n",
       "      <td>3</td>\n",
       "      <td>1.0</td>\n",
       "      <td>1112</td>\n",
       "      <td>372790</td>\n",
       "      <td>1953</td>\n",
       "      <td>4586.50</td>\n",
       "      <td>6037</td>\n",
       "    </tr>\n",
       "    <tr>\n",
       "      <th>816888</th>\n",
       "      <td>3</td>\n",
       "      <td>2.0</td>\n",
       "      <td>1424</td>\n",
       "      <td>340818</td>\n",
       "      <td>1975</td>\n",
       "      <td>4071.32</td>\n",
       "      <td>6059</td>\n",
       "    </tr>\n",
       "  </tbody>\n",
       "</table>\n",
       "</div>"
      ],
      "text/plain": [
       "         bedrooms  bathrooms  area  tax_value  year_built  tax_amount  fips\n",
       "511824          3        2.0  1845     497915        1952     5967.44  6037\n",
       "986893          3        2.0  1524     320818        1955     4068.13  6037\n",
       "1462975         2        2.0  1651     608536        1984     6639.32  6059\n",
       "1152928         3        1.0  1112     372790        1953     4586.50  6037\n",
       "816888          3        2.0  1424     340818        1975     4071.32  6059"
      ]
     },
     "execution_count": 5,
     "metadata": {},
     "output_type": "execute_result"
    }
   ],
   "source": [
    "train.head(5)"
   ]
  },
  {
   "cell_type": "markdown",
   "id": "a6309238",
   "metadata": {},
   "source": [
    "### 2. Fit a linear regression model (ordinary least squares) and compute yhat, predictions of taxvaluedollarcnt using only calculatedfinishedsqft.\n",
    "\n"
   ]
  },
  {
   "cell_type": "code",
   "execution_count": 6,
   "id": "ff91f57d",
   "metadata": {},
   "outputs": [
    {
     "data": {
      "text/plain": [
       "334280.3382785307"
      ]
     },
     "execution_count": 6,
     "metadata": {},
     "output_type": "execute_result"
    }
   ],
   "source": [
    "#calculate mean\n",
    "baseline = df.tax_value.mean()\n",
    "baseline"
   ]
  },
  {
   "cell_type": "code",
   "execution_count": 7,
   "id": "bf2d5a94",
   "metadata": {},
   "outputs": [],
   "source": [
    "#add it to the df to get yhat & predictions\n",
    "df['yhat_baseline'] = baseline\n"
   ]
  },
  {
   "cell_type": "code",
   "execution_count": 8,
   "id": "b47ae336",
   "metadata": {},
   "outputs": [
    {
     "data": {
      "text/html": [
       "<div>\n",
       "<style scoped>\n",
       "    .dataframe tbody tr th:only-of-type {\n",
       "        vertical-align: middle;\n",
       "    }\n",
       "\n",
       "    .dataframe tbody tr th {\n",
       "        vertical-align: top;\n",
       "    }\n",
       "\n",
       "    .dataframe thead th {\n",
       "        text-align: right;\n",
       "    }\n",
       "</style>\n",
       "<table border=\"1\" class=\"dataframe\">\n",
       "  <thead>\n",
       "    <tr style=\"text-align: right;\">\n",
       "      <th></th>\n",
       "      <th>bedrooms</th>\n",
       "      <th>bathrooms</th>\n",
       "      <th>area</th>\n",
       "      <th>tax_value</th>\n",
       "      <th>year_built</th>\n",
       "      <th>tax_amount</th>\n",
       "      <th>fips</th>\n",
       "      <th>yhat_baseline</th>\n",
       "    </tr>\n",
       "  </thead>\n",
       "  <tbody>\n",
       "    <tr>\n",
       "      <th>7</th>\n",
       "      <td>3</td>\n",
       "      <td>2.0</td>\n",
       "      <td>2077</td>\n",
       "      <td>646760</td>\n",
       "      <td>1926</td>\n",
       "      <td>7924.68</td>\n",
       "      <td>6037</td>\n",
       "      <td>334280.338279</td>\n",
       "    </tr>\n",
       "    <tr>\n",
       "      <th>18</th>\n",
       "      <td>3</td>\n",
       "      <td>1.0</td>\n",
       "      <td>1244</td>\n",
       "      <td>169471</td>\n",
       "      <td>1950</td>\n",
       "      <td>2532.88</td>\n",
       "      <td>6037</td>\n",
       "      <td>334280.338279</td>\n",
       "    </tr>\n",
       "    <tr>\n",
       "      <th>19</th>\n",
       "      <td>3</td>\n",
       "      <td>2.0</td>\n",
       "      <td>1300</td>\n",
       "      <td>233266</td>\n",
       "      <td>1950</td>\n",
       "      <td>3110.99</td>\n",
       "      <td>6037</td>\n",
       "      <td>334280.338279</td>\n",
       "    </tr>\n",
       "    <tr>\n",
       "      <th>20</th>\n",
       "      <td>3</td>\n",
       "      <td>2.0</td>\n",
       "      <td>1222</td>\n",
       "      <td>290492</td>\n",
       "      <td>1951</td>\n",
       "      <td>3870.25</td>\n",
       "      <td>6037</td>\n",
       "      <td>334280.338279</td>\n",
       "    </tr>\n",
       "    <tr>\n",
       "      <th>40</th>\n",
       "      <td>2</td>\n",
       "      <td>1.0</td>\n",
       "      <td>725</td>\n",
       "      <td>37548</td>\n",
       "      <td>1953</td>\n",
       "      <td>576.47</td>\n",
       "      <td>6037</td>\n",
       "      <td>334280.338279</td>\n",
       "    </tr>\n",
       "    <tr>\n",
       "      <th>...</th>\n",
       "      <td>...</td>\n",
       "      <td>...</td>\n",
       "      <td>...</td>\n",
       "      <td>...</td>\n",
       "      <td>...</td>\n",
       "      <td>...</td>\n",
       "      <td>...</td>\n",
       "      <td>...</td>\n",
       "    </tr>\n",
       "    <tr>\n",
       "      <th>2152815</th>\n",
       "      <td>4</td>\n",
       "      <td>2.0</td>\n",
       "      <td>1484</td>\n",
       "      <td>71859</td>\n",
       "      <td>1955</td>\n",
       "      <td>1135.72</td>\n",
       "      <td>6037</td>\n",
       "      <td>334280.338279</td>\n",
       "    </tr>\n",
       "    <tr>\n",
       "      <th>2152824</th>\n",
       "      <td>2</td>\n",
       "      <td>1.0</td>\n",
       "      <td>710</td>\n",
       "      <td>175319</td>\n",
       "      <td>1940</td>\n",
       "      <td>2040.78</td>\n",
       "      <td>6111</td>\n",
       "      <td>334280.338279</td>\n",
       "    </tr>\n",
       "    <tr>\n",
       "      <th>2152831</th>\n",
       "      <td>3</td>\n",
       "      <td>2.0</td>\n",
       "      <td>1194</td>\n",
       "      <td>271536</td>\n",
       "      <td>1954</td>\n",
       "      <td>3555.73</td>\n",
       "      <td>6037</td>\n",
       "      <td>334280.338279</td>\n",
       "    </tr>\n",
       "    <tr>\n",
       "      <th>2152852</th>\n",
       "      <td>3</td>\n",
       "      <td>2.0</td>\n",
       "      <td>1917</td>\n",
       "      <td>408680</td>\n",
       "      <td>1946</td>\n",
       "      <td>4341.32</td>\n",
       "      <td>6111</td>\n",
       "      <td>334280.338279</td>\n",
       "    </tr>\n",
       "    <tr>\n",
       "      <th>2152853</th>\n",
       "      <td>4</td>\n",
       "      <td>2.0</td>\n",
       "      <td>1987</td>\n",
       "      <td>259913</td>\n",
       "      <td>1955</td>\n",
       "      <td>3175.66</td>\n",
       "      <td>6059</td>\n",
       "      <td>334280.338279</td>\n",
       "    </tr>\n",
       "  </tbody>\n",
       "</table>\n",
       "<p>1827497 rows × 8 columns</p>\n",
       "</div>"
      ],
      "text/plain": [
       "         bedrooms  bathrooms  area  tax_value  year_built  tax_amount  fips  \\\n",
       "7               3        2.0  2077     646760        1926     7924.68  6037   \n",
       "18              3        1.0  1244     169471        1950     2532.88  6037   \n",
       "19              3        2.0  1300     233266        1950     3110.99  6037   \n",
       "20              3        2.0  1222     290492        1951     3870.25  6037   \n",
       "40              2        1.0   725      37548        1953      576.47  6037   \n",
       "...           ...        ...   ...        ...         ...         ...   ...   \n",
       "2152815         4        2.0  1484      71859        1955     1135.72  6037   \n",
       "2152824         2        1.0   710     175319        1940     2040.78  6111   \n",
       "2152831         3        2.0  1194     271536        1954     3555.73  6037   \n",
       "2152852         3        2.0  1917     408680        1946     4341.32  6111   \n",
       "2152853         4        2.0  1987     259913        1955     3175.66  6059   \n",
       "\n",
       "         yhat_baseline  \n",
       "7        334280.338279  \n",
       "18       334280.338279  \n",
       "19       334280.338279  \n",
       "20       334280.338279  \n",
       "40       334280.338279  \n",
       "...                ...  \n",
       "2152815  334280.338279  \n",
       "2152824  334280.338279  \n",
       "2152831  334280.338279  \n",
       "2152852  334280.338279  \n",
       "2152853  334280.338279  \n",
       "\n",
       "[1827497 rows x 8 columns]"
      ]
     },
     "execution_count": 8,
     "metadata": {},
     "output_type": "execute_result"
    }
   ],
   "source": [
    "df"
   ]
  },
  {
   "cell_type": "code",
   "execution_count": 9,
   "id": "2afbdd06",
   "metadata": {},
   "outputs": [],
   "source": [
    "# get my x & y train into df\n",
    "X_train = pd.DataFrame(train.area)\n",
    "y_train = pd.DataFrame(train.tax_value)"
   ]
  },
  {
   "cell_type": "code",
   "execution_count": 10,
   "id": "47764017",
   "metadata": {},
   "outputs": [
    {
     "data": {
      "text/html": [
       "<div>\n",
       "<style scoped>\n",
       "    .dataframe tbody tr th:only-of-type {\n",
       "        vertical-align: middle;\n",
       "    }\n",
       "\n",
       "    .dataframe tbody tr th {\n",
       "        vertical-align: top;\n",
       "    }\n",
       "\n",
       "    .dataframe thead th {\n",
       "        text-align: right;\n",
       "    }\n",
       "</style>\n",
       "<table border=\"1\" class=\"dataframe\">\n",
       "  <thead>\n",
       "    <tr style=\"text-align: right;\">\n",
       "      <th></th>\n",
       "      <th>area</th>\n",
       "      <th>tax_value</th>\n",
       "    </tr>\n",
       "  </thead>\n",
       "  <tbody>\n",
       "    <tr>\n",
       "      <th>511824</th>\n",
       "      <td>1845</td>\n",
       "      <td>497915</td>\n",
       "    </tr>\n",
       "    <tr>\n",
       "      <th>986893</th>\n",
       "      <td>1524</td>\n",
       "      <td>320818</td>\n",
       "    </tr>\n",
       "    <tr>\n",
       "      <th>1462975</th>\n",
       "      <td>1651</td>\n",
       "      <td>608536</td>\n",
       "    </tr>\n",
       "    <tr>\n",
       "      <th>1152928</th>\n",
       "      <td>1112</td>\n",
       "      <td>372790</td>\n",
       "    </tr>\n",
       "    <tr>\n",
       "      <th>816888</th>\n",
       "      <td>1424</td>\n",
       "      <td>340818</td>\n",
       "    </tr>\n",
       "  </tbody>\n",
       "</table>\n",
       "</div>"
      ],
      "text/plain": [
       "         area  tax_value\n",
       "511824   1845     497915\n",
       "986893   1524     320818\n",
       "1462975  1651     608536\n",
       "1152928  1112     372790\n",
       "816888   1424     340818"
      ]
     },
     "execution_count": 10,
     "metadata": {},
     "output_type": "execute_result"
    }
   ],
   "source": [
    "df = pd.DataFrame(train[['area', 'tax_value']])\n",
    "df.head()"
   ]
  },
  {
   "cell_type": "code",
   "execution_count": 11,
   "id": "22cf0dcb",
   "metadata": {},
   "outputs": [
    {
     "data": {
      "text/plain": [
       "LinearRegression()"
      ]
     },
     "execution_count": 11,
     "metadata": {},
     "output_type": "execute_result"
    }
   ],
   "source": [
    "model = LinearRegression().fit(X_train, y_train)\n",
    "model"
   ]
  },
  {
   "cell_type": "code",
   "execution_count": 12,
   "id": "ea348a33",
   "metadata": {},
   "outputs": [
    {
     "data": {
      "text/plain": [
       "array([[363084.84541151],\n",
       "       [312802.2374671 ],\n",
       "       [332695.97955103],\n",
       "       ...,\n",
       "       [352119.79071958],\n",
       "       [299644.17183679],\n",
       "       [503750.83274509]])"
      ]
     },
     "execution_count": 12,
     "metadata": {},
     "output_type": "execute_result"
    }
   ],
   "source": [
    "#get array of predictions\n",
    "predictions = model.predict(X_train)\n",
    "predictions"
   ]
  },
  {
   "cell_type": "markdown",
   "id": "62084eb1",
   "metadata": {},
   "source": [
    "### 3. Plot the residuals for the linear regression model that you made.\n",
    "\n"
   ]
  },
  {
   "cell_type": "code",
   "execution_count": 13,
   "id": "df6f3ef4",
   "metadata": {},
   "outputs": [
    {
     "data": {
      "text/html": [
       "<div>\n",
       "<style scoped>\n",
       "    .dataframe tbody tr th:only-of-type {\n",
       "        vertical-align: middle;\n",
       "    }\n",
       "\n",
       "    .dataframe tbody tr th {\n",
       "        vertical-align: top;\n",
       "    }\n",
       "\n",
       "    .dataframe thead th {\n",
       "        text-align: right;\n",
       "    }\n",
       "</style>\n",
       "<table border=\"1\" class=\"dataframe\">\n",
       "  <thead>\n",
       "    <tr style=\"text-align: right;\">\n",
       "      <th></th>\n",
       "      <th>area</th>\n",
       "      <th>tax_value</th>\n",
       "      <th>baseline</th>\n",
       "      <th>predictions</th>\n",
       "    </tr>\n",
       "  </thead>\n",
       "  <tbody>\n",
       "    <tr>\n",
       "      <th>511824</th>\n",
       "      <td>1845</td>\n",
       "      <td>497915</td>\n",
       "      <td>334464.971072</td>\n",
       "      <td>363084.845412</td>\n",
       "    </tr>\n",
       "    <tr>\n",
       "      <th>986893</th>\n",
       "      <td>1524</td>\n",
       "      <td>320818</td>\n",
       "      <td>334464.971072</td>\n",
       "      <td>312802.237467</td>\n",
       "    </tr>\n",
       "    <tr>\n",
       "      <th>1462975</th>\n",
       "      <td>1651</td>\n",
       "      <td>608536</td>\n",
       "      <td>334464.971072</td>\n",
       "      <td>332695.979551</td>\n",
       "    </tr>\n",
       "    <tr>\n",
       "      <th>1152928</th>\n",
       "      <td>1112</td>\n",
       "      <td>372790</td>\n",
       "      <td>334464.971072</td>\n",
       "      <td>248265.058423</td>\n",
       "    </tr>\n",
       "    <tr>\n",
       "      <th>816888</th>\n",
       "      <td>1424</td>\n",
       "      <td>340818</td>\n",
       "      <td>334464.971072</td>\n",
       "      <td>297137.873621</td>\n",
       "    </tr>\n",
       "  </tbody>\n",
       "</table>\n",
       "</div>"
      ],
      "text/plain": [
       "         area  tax_value       baseline    predictions\n",
       "511824   1845     497915  334464.971072  363084.845412\n",
       "986893   1524     320818  334464.971072  312802.237467\n",
       "1462975  1651     608536  334464.971072  332695.979551\n",
       "1152928  1112     372790  334464.971072  248265.058423\n",
       "816888   1424     340818  334464.971072  297137.873621"
      ]
     },
     "execution_count": 13,
     "metadata": {},
     "output_type": "execute_result"
    }
   ],
   "source": [
    "#get baseline & predictions\n",
    "df['baseline'] = df.tax_value.mean()\n",
    "df['predictions'] = model.predict(X_train)\n",
    "df.head()\n"
   ]
  },
  {
   "cell_type": "code",
   "execution_count": 14,
   "id": "a8700a63",
   "metadata": {},
   "outputs": [
    {
     "data": {
      "image/png": "[encoded data removed]",
      "text/plain": [
       "<Figure size 432x288 with 1 Axes>"
      ]
     },
     "metadata": {
      "needs_background": "light"
     },
     "output_type": "display_data"
    }
   ],
   "source": [
    "evaluate.plot_residual(df.tax_value, df.predictions)\n"
   ]
  },
  {
   "cell_type": "code",
   "execution_count": 15,
   "id": "24998b36",
   "metadata": {},
   "outputs": [
    {
     "data": {
      "text/html": [
       "<div>\n",
       "<style scoped>\n",
       "    .dataframe tbody tr th:only-of-type {\n",
       "        vertical-align: middle;\n",
       "    }\n",
       "\n",
       "    .dataframe tbody tr th {\n",
       "        vertical-align: top;\n",
       "    }\n",
       "\n",
       "    .dataframe thead th {\n",
       "        text-align: right;\n",
       "    }\n",
       "</style>\n",
       "<table border=\"1\" class=\"dataframe\">\n",
       "  <thead>\n",
       "    <tr style=\"text-align: right;\">\n",
       "      <th></th>\n",
       "      <th>area</th>\n",
       "      <th>tax_value</th>\n",
       "      <th>baseline</th>\n",
       "      <th>predictions</th>\n",
       "      <th>baseline_residual</th>\n",
       "      <th>residual</th>\n",
       "    </tr>\n",
       "  </thead>\n",
       "  <tbody>\n",
       "    <tr>\n",
       "      <th>511824</th>\n",
       "      <td>1845</td>\n",
       "      <td>497915</td>\n",
       "      <td>334464.971072</td>\n",
       "      <td>363084.845412</td>\n",
       "      <td>163450.028928</td>\n",
       "      <td>134830.154588</td>\n",
       "    </tr>\n",
       "    <tr>\n",
       "      <th>986893</th>\n",
       "      <td>1524</td>\n",
       "      <td>320818</td>\n",
       "      <td>334464.971072</td>\n",
       "      <td>312802.237467</td>\n",
       "      <td>-13646.971072</td>\n",
       "      <td>8015.762533</td>\n",
       "    </tr>\n",
       "    <tr>\n",
       "      <th>1462975</th>\n",
       "      <td>1651</td>\n",
       "      <td>608536</td>\n",
       "      <td>334464.971072</td>\n",
       "      <td>332695.979551</td>\n",
       "      <td>274071.028928</td>\n",
       "      <td>275840.020449</td>\n",
       "    </tr>\n",
       "    <tr>\n",
       "      <th>1152928</th>\n",
       "      <td>1112</td>\n",
       "      <td>372790</td>\n",
       "      <td>334464.971072</td>\n",
       "      <td>248265.058423</td>\n",
       "      <td>38325.028928</td>\n",
       "      <td>124524.941577</td>\n",
       "    </tr>\n",
       "    <tr>\n",
       "      <th>816888</th>\n",
       "      <td>1424</td>\n",
       "      <td>340818</td>\n",
       "      <td>334464.971072</td>\n",
       "      <td>297137.873621</td>\n",
       "      <td>6353.028928</td>\n",
       "      <td>43680.126379</td>\n",
       "    </tr>\n",
       "  </tbody>\n",
       "</table>\n",
       "</div>"
      ],
      "text/plain": [
       "         area  tax_value       baseline    predictions  baseline_residual  \\\n",
       "511824   1845     497915  334464.971072  363084.845412      163450.028928   \n",
       "986893   1524     320818  334464.971072  312802.237467      -13646.971072   \n",
       "1462975  1651     608536  334464.971072  332695.979551      274071.028928   \n",
       "1152928  1112     372790  334464.971072  248265.058423       38325.028928   \n",
       "816888   1424     340818  334464.971072  297137.873621        6353.028928   \n",
       "\n",
       "              residual  \n",
       "511824   134830.154588  \n",
       "986893     8015.762533  \n",
       "1462975  275840.020449  \n",
       "1152928  124524.941577  \n",
       "816888    43680.126379  "
      ]
     },
     "execution_count": 15,
     "metadata": {},
     "output_type": "execute_result"
    }
   ],
   "source": [
    "# residual = actual - predicted\n",
    "df['baseline_residual'] = df.tax_value-df.baseline\n",
    "df['residual'] = df.tax_value-df.predictions\n",
    "df.head()"
   ]
  },
  {
   "cell_type": "code",
   "execution_count": 16,
   "id": "0b5429b6",
   "metadata": {},
   "outputs": [
    {
     "data": {
      "image/png": "[encoded data removed]",
      "text/plain": [
       "<Figure size 432x288 with 1 Axes>"
      ]
     },
     "metadata": {
      "needs_background": "light"
     },
     "output_type": "display_data"
    }
   ],
   "source": [
    "# # visualize the line of best fit from OLS linear model\n",
    "plt.scatter(df.area, df.tax_value)\n",
    "plt.plot(df.area, df.predictions, c='red')\n",
    "plt.xlabel('x = Area')\n",
    "plt.ylabel('y = Tax value')\n",
    "plt.title('OLS linear model')\n",
    "plt.show()"
   ]
  },
  {
   "cell_type": "markdown",
   "id": "4c9b1708",
   "metadata": {},
   "source": [
    "### 4. Calculate the sum of squared errors, explained sum of squares, total sum of squares, mean squared error, and root mean squared error for your model.\n",
    "\n"
   ]
  },
  {
   "cell_type": "code",
   "execution_count": 34,
   "id": "a84308bd",
   "metadata": {},
   "outputs": [
    {
     "name": "stdout",
     "output_type": "stream",
     "text": [
      "SSE 3.782541500316897e+16\n"
     ]
    }
   ],
   "source": [
    "#calculate SSE\n",
    "SSE_baseline =  MSE_baseline * len(df)\n",
    "SSE = MSE * len(df)\n",
    "print(\"SSE\", SSE)\n"
   ]
  },
  {
   "cell_type": "code",
   "execution_count": null,
   "id": "81b4cc2b",
   "metadata": {},
   "outputs": [],
   "source": [
    "#calculate ESS\n",
    "# ESS = \n"
   ]
  },
  {
   "cell_type": "code",
   "execution_count": null,
   "id": "23ac4c1c",
   "metadata": {},
   "outputs": [],
   "source": [
    "#calculate TSS\n",
    "# SSE_Baseline = TSS\n",
    "# TSS = 4.65"
   ]
  },
  {
   "cell_type": "code",
   "execution_count": 35,
   "id": "eef0eaef",
   "metadata": {},
   "outputs": [
    {
     "name": "stdout",
     "output_type": "stream",
     "text": [
      "MSE: 34496596892.804054\n"
     ]
    }
   ],
   "source": [
    "#calculate MSE\n",
    "MSE_baseline = mean_squared_error(df.tax_value, df.baseline)\n",
    "MSE = mean_squared_error(df.tax_value, df.predictions)\n",
    "print(\"MSE:\", MSE) "
   ]
  },
  {
   "cell_type": "code",
   "execution_count": 36,
   "id": "3cd2bab3",
   "metadata": {},
   "outputs": [
    {
     "name": "stdout",
     "output_type": "stream",
     "text": [
      "RMSE 185732.59512752213\n"
     ]
    }
   ],
   "source": [
    "#calcuate RMSE\n",
    "RMSE_baseline = MSE_baseline**.5\n",
    "RMSE = MSE**.5\n",
    "print(\"RMSE\", RMSE) "
   ]
  },
  {
   "cell_type": "markdown",
   "id": "e3e5897f",
   "metadata": {},
   "source": [
    "### 5. Calculate the sum of squared errors, mean squared error, and root mean squared error for the baseline model (i.e. a model that always predicts the average taxvaluedollarcnt amount)."
   ]
  },
  {
   "cell_type": "code",
   "execution_count": 17,
   "id": "2af5d1f0",
   "metadata": {},
   "outputs": [],
   "source": [
    "# Calculate Mean Squared Error(MSE)\n",
    "MSE_baseline = mean_squared_error(df.tax_value, df.baseline)\n",
    "MSE = mean_squared_error(df.tax_value, df.predictions)\n"
   ]
  },
  {
   "cell_type": "code",
   "execution_count": 18,
   "id": "1765644d",
   "metadata": {},
   "outputs": [
    {
     "name": "stdout",
     "output_type": "stream",
     "text": [
      "MSE baseline: 42422527376.16448\n",
      "MSE: 34496596892.804054\n"
     ]
    }
   ],
   "source": [
    "print(\"MSE baseline:\", MSE_baseline) \n",
    "print(\"MSE:\", MSE) "
   ]
  },
  {
   "cell_type": "code",
   "execution_count": 19,
   "id": "ace07bba",
   "metadata": {},
   "outputs": [],
   "source": [
    "# Calculate SSE (Sum of Squared Errors)\n",
    "SSE_baseline =  MSE_baseline * len(df)\n",
    "SSE = MSE * len(df)"
   ]
  },
  {
   "cell_type": "code",
   "execution_count": 20,
   "id": "80c802f3",
   "metadata": {},
   "outputs": [
    {
     "name": "stdout",
     "output_type": "stream",
     "text": [
      "SSE baseline 4.651617400038222e+16\n",
      "SSE 3.782541500316897e+16\n"
     ]
    }
   ],
   "source": [
    "print(\"SSE baseline\", SSE_baseline)\n",
    "print(\"SSE\", SSE)\n"
   ]
  },
  {
   "cell_type": "code",
   "execution_count": 21,
   "id": "f84fadbe",
   "metadata": {},
   "outputs": [],
   "source": [
    "# Calculate root mean squared error\n",
    "RMSE_baseline = MSE_baseline**.5\n",
    "RMSE = MSE**.5"
   ]
  },
  {
   "cell_type": "code",
   "execution_count": 22,
   "id": "95305fcf",
   "metadata": {},
   "outputs": [
    {
     "name": "stdout",
     "output_type": "stream",
     "text": [
      "RMSE baseline 205967.2968608475\n",
      "RMSE 185732.59512752213\n"
     ]
    }
   ],
   "source": [
    "print(\"RMSE baseline\" ,RMSE_baseline)\n",
    "print(\"RMSE\", RMSE) "
   ]
  },
  {
   "cell_type": "markdown",
   "id": "fdb58329",
   "metadata": {},
   "source": [
    "### 7. What is the amount of variance explained in your model?\n",
    "\n"
   ]
  },
  {
   "cell_type": "code",
   "execution_count": 23,
   "id": "00574eff",
   "metadata": {},
   "outputs": [],
   "source": [
    "# calculate root\n",
    "# r2 score = expected variance\n",
    "\n",
    "\n",
    "#import r2_score from sklearn\n",
    "from sklearn.metrics import r2_score"
   ]
  },
  {
   "cell_type": "code",
   "execution_count": 24,
   "id": "e396daa7",
   "metadata": {},
   "outputs": [
    {
     "data": {
      "text/html": [
       "<div>\n",
       "<style scoped>\n",
       "    .dataframe tbody tr th:only-of-type {\n",
       "        vertical-align: middle;\n",
       "    }\n",
       "\n",
       "    .dataframe tbody tr th {\n",
       "        vertical-align: top;\n",
       "    }\n",
       "\n",
       "    .dataframe thead th {\n",
       "        text-align: right;\n",
       "    }\n",
       "</style>\n",
       "<table border=\"1\" class=\"dataframe\">\n",
       "  <thead>\n",
       "    <tr style=\"text-align: right;\">\n",
       "      <th></th>\n",
       "      <th>area</th>\n",
       "      <th>tax_value</th>\n",
       "      <th>baseline</th>\n",
       "      <th>predictions</th>\n",
       "      <th>baseline_residual</th>\n",
       "      <th>residual</th>\n",
       "    </tr>\n",
       "  </thead>\n",
       "  <tbody>\n",
       "    <tr>\n",
       "      <th>511824</th>\n",
       "      <td>1845</td>\n",
       "      <td>497915</td>\n",
       "      <td>334464.971072</td>\n",
       "      <td>363084.845412</td>\n",
       "      <td>163450.028928</td>\n",
       "      <td>134830.154588</td>\n",
       "    </tr>\n",
       "    <tr>\n",
       "      <th>986893</th>\n",
       "      <td>1524</td>\n",
       "      <td>320818</td>\n",
       "      <td>334464.971072</td>\n",
       "      <td>312802.237467</td>\n",
       "      <td>-13646.971072</td>\n",
       "      <td>8015.762533</td>\n",
       "    </tr>\n",
       "    <tr>\n",
       "      <th>1462975</th>\n",
       "      <td>1651</td>\n",
       "      <td>608536</td>\n",
       "      <td>334464.971072</td>\n",
       "      <td>332695.979551</td>\n",
       "      <td>274071.028928</td>\n",
       "      <td>275840.020449</td>\n",
       "    </tr>\n",
       "    <tr>\n",
       "      <th>1152928</th>\n",
       "      <td>1112</td>\n",
       "      <td>372790</td>\n",
       "      <td>334464.971072</td>\n",
       "      <td>248265.058423</td>\n",
       "      <td>38325.028928</td>\n",
       "      <td>124524.941577</td>\n",
       "    </tr>\n",
       "    <tr>\n",
       "      <th>816888</th>\n",
       "      <td>1424</td>\n",
       "      <td>340818</td>\n",
       "      <td>334464.971072</td>\n",
       "      <td>297137.873621</td>\n",
       "      <td>6353.028928</td>\n",
       "      <td>43680.126379</td>\n",
       "    </tr>\n",
       "    <tr>\n",
       "      <th>...</th>\n",
       "      <td>...</td>\n",
       "      <td>...</td>\n",
       "      <td>...</td>\n",
       "      <td>...</td>\n",
       "      <td>...</td>\n",
       "      <td>...</td>\n",
       "    </tr>\n",
       "    <tr>\n",
       "      <th>1055694</th>\n",
       "      <td>1675</td>\n",
       "      <td>282434</td>\n",
       "      <td>334464.971072</td>\n",
       "      <td>336455.426874</td>\n",
       "      <td>-52030.971072</td>\n",
       "      <td>-54021.426874</td>\n",
       "    </tr>\n",
       "    <tr>\n",
       "      <th>488948</th>\n",
       "      <td>2146</td>\n",
       "      <td>412986</td>\n",
       "      <td>334464.971072</td>\n",
       "      <td>410234.580587</td>\n",
       "      <td>78521.028928</td>\n",
       "      <td>2751.419413</td>\n",
       "    </tr>\n",
       "    <tr>\n",
       "      <th>1828724</th>\n",
       "      <td>1775</td>\n",
       "      <td>456392</td>\n",
       "      <td>334464.971072</td>\n",
       "      <td>352119.790720</td>\n",
       "      <td>121927.028928</td>\n",
       "      <td>104272.209280</td>\n",
       "    </tr>\n",
       "    <tr>\n",
       "      <th>1189611</th>\n",
       "      <td>1440</td>\n",
       "      <td>353677</td>\n",
       "      <td>334464.971072</td>\n",
       "      <td>299644.171837</td>\n",
       "      <td>19212.028928</td>\n",
       "      <td>54032.828163</td>\n",
       "    </tr>\n",
       "    <tr>\n",
       "      <th>55990</th>\n",
       "      <td>2743</td>\n",
       "      <td>269908</td>\n",
       "      <td>334464.971072</td>\n",
       "      <td>503750.832745</td>\n",
       "      <td>-64556.971072</td>\n",
       "      <td>-233842.832745</td>\n",
       "    </tr>\n",
       "  </tbody>\n",
       "</table>\n",
       "<p>1096497 rows × 6 columns</p>\n",
       "</div>"
      ],
      "text/plain": [
       "         area  tax_value       baseline    predictions  baseline_residual  \\\n",
       "511824   1845     497915  334464.971072  363084.845412      163450.028928   \n",
       "986893   1524     320818  334464.971072  312802.237467      -13646.971072   \n",
       "1462975  1651     608536  334464.971072  332695.979551      274071.028928   \n",
       "1152928  1112     372790  334464.971072  248265.058423       38325.028928   \n",
       "816888   1424     340818  334464.971072  297137.873621        6353.028928   \n",
       "...       ...        ...            ...            ...                ...   \n",
       "1055694  1675     282434  334464.971072  336455.426874      -52030.971072   \n",
       "488948   2146     412986  334464.971072  410234.580587       78521.028928   \n",
       "1828724  1775     456392  334464.971072  352119.790720      121927.028928   \n",
       "1189611  1440     353677  334464.971072  299644.171837       19212.028928   \n",
       "55990    2743     269908  334464.971072  503750.832745      -64556.971072   \n",
       "\n",
       "              residual  \n",
       "511824   134830.154588  \n",
       "986893     8015.762533  \n",
       "1462975  275840.020449  \n",
       "1152928  124524.941577  \n",
       "816888    43680.126379  \n",
       "...                ...  \n",
       "1055694  -54021.426874  \n",
       "488948     2751.419413  \n",
       "1828724  104272.209280  \n",
       "1189611   54032.828163  \n",
       "55990   -233842.832745  \n",
       "\n",
       "[1096497 rows x 6 columns]"
      ]
     },
     "execution_count": 24,
     "metadata": {},
     "output_type": "execute_result"
    }
   ],
   "source": [
    "df"
   ]
  },
  {
   "cell_type": "code",
   "execution_count": 25,
   "id": "19258fea",
   "metadata": {},
   "outputs": [
    {
     "data": {
      "text/plain": [
       "0.1868330571887069"
      ]
     },
     "execution_count": 25,
     "metadata": {},
     "output_type": "execute_result"
    }
   ],
   "source": [
    "#My model\n",
    "#use r2_score to calculate my model\n",
    "r2_score(df.tax_value, df.predictions)"
   ]
  },
  {
   "cell_type": "code",
   "execution_count": 26,
   "id": "e8c907de",
   "metadata": {},
   "outputs": [
    {
     "data": {
      "text/plain": [
       "0.0"
      ]
     },
     "execution_count": 26,
     "metadata": {},
     "output_type": "execute_result"
    }
   ],
   "source": [
    "#Baseline\n",
    "#use r2 score to calculate baseline\n",
    "r2_score(df.tax_value, df.baseline)\n"
   ]
  },
  {
   "cell_type": "markdown",
   "id": "27c895e4",
   "metadata": {},
   "source": [
    "### 8. Is your model better than the baseline model?\n",
    "\n"
   ]
  },
  {
   "cell_type": "code",
   "execution_count": 27,
   "id": "f2a202c8",
   "metadata": {},
   "outputs": [],
   "source": [
    "# Yes\n",
    "# My model has 0.18 while baseline has 0.0 "
   ]
  },
  {
   "cell_type": "markdown",
   "id": "f88f71c7",
   "metadata": {},
   "source": [
    "### 9. Create a file named evaluate.py that contains the following functions.\n",
    "\n",
    "### . plot_residuals(y, yhat): creates a residual plot\n"
   ]
  },
  {
   "cell_type": "code",
   "execution_count": 28,
   "id": "f4dbab4e",
   "metadata": {},
   "outputs": [
    {
     "data": {
      "image/png": "[encoded data removed]",
      "text/plain": [
       "<Figure size 432x288 with 1 Axes>"
      ]
     },
     "metadata": {
      "needs_background": "light"
     },
     "output_type": "display_data"
    }
   ],
   "source": [
    "evaluate.plot_residual(df.tax_value, df.predictions)\n"
   ]
  },
  {
   "cell_type": "code",
   "execution_count": null,
   "id": "b89f4733",
   "metadata": {},
   "outputs": [],
   "source": []
  },
  {
   "cell_type": "markdown",
   "id": "47df18ee",
   "metadata": {},
   "source": [
    "### . regression_errors(y, yhat): returns the following values:\n",
    "#### sum of squared errors (SSE)\n",
    "#### explained sum of squares (ESS)\n",
    "#### total sum of squares (TSS)\n",
    "#### mean squared error (MSE)\n",
    "#### root mean squared error (RMSE)"
   ]
  },
  {
   "cell_type": "code",
   "execution_count": null,
   "id": "99674bc3",
   "metadata": {},
   "outputs": [],
   "source": []
  }
 ],
 "metadata": {
  "kernelspec": {
   "display_name": "Python 3 (ipykernel)",
   "language": "python",
   "name": "python3"
  },
  "language_info": {
   "codemirror_mode": {
    "name": "ipython",
    "version": 3
   },
   "file_extension": ".py",
   "mimetype": "text/x-python",
   "name": "python",
   "nbconvert_exporter": "python",
   "pygments_lexer": "ipython3",
   "version": "3.9.12"
  }
 },
 "nbformat": 4,
 "nbformat_minor": 5
}
