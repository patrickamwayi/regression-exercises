{
 "cells": [
  {
   "cell_type": "code",
   "execution_count": 1,
   "id": "791493c9",
   "metadata": {},
   "outputs": [],
   "source": [
    "import pandas as pd\n",
    "import numpy as np\n",
    "\n",
    "#viz and stats\n",
    "import pydataset\n",
    "%matplotlib inline\n",
    "import matplotlib.pyplot as plt\n",
    "import seaborn as sns\n",
    "from sklearn.linear_model import LinearRegression\n",
    "from sklearn.neighbors import KNeighborsClassifier\n",
    "from scipy.stats import pearsonr, spearmanr\n",
    "\n",
    "#import sklearn mean_square_error\n",
    "from sklearn.metrics import mean_squared_error\n",
    "\n",
    "#import r2_score from sklearn\n",
    "from sklearn.metrics import r2_score\n",
    "\n",
    "import sklearn.preprocessing\n",
    "import warnings\n",
    "warnings.filterwarnings(\"ignore\")\n",
    "#my wrangle file \n",
    "import wrangle\n",
    "#split data\n",
    "from sklearn.model_selection import train_test_split\n",
    "import evaluate\n",
    "\n",
    "import env"
   ]
  },
  {
   "cell_type": "markdown",
   "id": "944bdd7a",
   "metadata": {},
   "source": [
    "### Exercises\n",
    "### Do you work for this exercise in either a jupyter notebook named evaluate within your regression-exercises repository. By the end of this exercise you will also create a python script named evaluate, so the overall deliverables for this exercise are the python script and jupyter notebook both with the name evaluate within your regression-exercises repo."
   ]
  },
  {
   "cell_type": "markdown",
   "id": "51fb959b",
   "metadata": {},
   "source": [
    "### 1. Load your zillow dataset.\n",
    "\n"
   ]
  },
  {
   "cell_type": "code",
   "execution_count": 2,
   "id": "77d60ee2",
   "metadata": {},
   "outputs": [
    {
     "data": {
      "text/html": [
       "<div>\n",
       "<style scoped>\n",
       "    .dataframe tbody tr th:only-of-type {\n",
       "        vertical-align: middle;\n",
       "    }\n",
       "\n",
       "    .dataframe tbody tr th {\n",
       "        vertical-align: top;\n",
       "    }\n",
       "\n",
       "    .dataframe thead th {\n",
       "        text-align: right;\n",
       "    }\n",
       "</style>\n",
       "<table border=\"1\" class=\"dataframe\">\n",
       "  <thead>\n",
       "    <tr style=\"text-align: right;\">\n",
       "      <th></th>\n",
       "      <th>bedrooms</th>\n",
       "      <th>bathrooms</th>\n",
       "      <th>area</th>\n",
       "      <th>tax_value</th>\n",
       "      <th>year_built</th>\n",
       "      <th>tax_amount</th>\n",
       "      <th>fips</th>\n",
       "    </tr>\n",
       "  </thead>\n",
       "  <tbody>\n",
       "    <tr>\n",
       "      <th>7</th>\n",
       "      <td>3</td>\n",
       "      <td>2.0</td>\n",
       "      <td>2077</td>\n",
       "      <td>646760</td>\n",
       "      <td>1926</td>\n",
       "      <td>7924.68</td>\n",
       "      <td>6037</td>\n",
       "    </tr>\n",
       "    <tr>\n",
       "      <th>18</th>\n",
       "      <td>3</td>\n",
       "      <td>1.0</td>\n",
       "      <td>1244</td>\n",
       "      <td>169471</td>\n",
       "      <td>1950</td>\n",
       "      <td>2532.88</td>\n",
       "      <td>6037</td>\n",
       "    </tr>\n",
       "    <tr>\n",
       "      <th>19</th>\n",
       "      <td>3</td>\n",
       "      <td>2.0</td>\n",
       "      <td>1300</td>\n",
       "      <td>233266</td>\n",
       "      <td>1950</td>\n",
       "      <td>3110.99</td>\n",
       "      <td>6037</td>\n",
       "    </tr>\n",
       "    <tr>\n",
       "      <th>20</th>\n",
       "      <td>3</td>\n",
       "      <td>2.0</td>\n",
       "      <td>1222</td>\n",
       "      <td>290492</td>\n",
       "      <td>1951</td>\n",
       "      <td>3870.25</td>\n",
       "      <td>6037</td>\n",
       "    </tr>\n",
       "    <tr>\n",
       "      <th>40</th>\n",
       "      <td>2</td>\n",
       "      <td>1.0</td>\n",
       "      <td>725</td>\n",
       "      <td>37548</td>\n",
       "      <td>1953</td>\n",
       "      <td>576.47</td>\n",
       "      <td>6037</td>\n",
       "    </tr>\n",
       "    <tr>\n",
       "      <th>...</th>\n",
       "      <td>...</td>\n",
       "      <td>...</td>\n",
       "      <td>...</td>\n",
       "      <td>...</td>\n",
       "      <td>...</td>\n",
       "      <td>...</td>\n",
       "      <td>...</td>\n",
       "    </tr>\n",
       "    <tr>\n",
       "      <th>2152815</th>\n",
       "      <td>4</td>\n",
       "      <td>2.0</td>\n",
       "      <td>1484</td>\n",
       "      <td>71859</td>\n",
       "      <td>1955</td>\n",
       "      <td>1135.72</td>\n",
       "      <td>6037</td>\n",
       "    </tr>\n",
       "    <tr>\n",
       "      <th>2152824</th>\n",
       "      <td>2</td>\n",
       "      <td>1.0</td>\n",
       "      <td>710</td>\n",
       "      <td>175319</td>\n",
       "      <td>1940</td>\n",
       "      <td>2040.78</td>\n",
       "      <td>6111</td>\n",
       "    </tr>\n",
       "    <tr>\n",
       "      <th>2152831</th>\n",
       "      <td>3</td>\n",
       "      <td>2.0</td>\n",
       "      <td>1194</td>\n",
       "      <td>271536</td>\n",
       "      <td>1954</td>\n",
       "      <td>3555.73</td>\n",
       "      <td>6037</td>\n",
       "    </tr>\n",
       "    <tr>\n",
       "      <th>2152852</th>\n",
       "      <td>3</td>\n",
       "      <td>2.0</td>\n",
       "      <td>1917</td>\n",
       "      <td>408680</td>\n",
       "      <td>1946</td>\n",
       "      <td>4341.32</td>\n",
       "      <td>6111</td>\n",
       "    </tr>\n",
       "    <tr>\n",
       "      <th>2152853</th>\n",
       "      <td>4</td>\n",
       "      <td>2.0</td>\n",
       "      <td>1987</td>\n",
       "      <td>259913</td>\n",
       "      <td>1955</td>\n",
       "      <td>3175.66</td>\n",
       "      <td>6059</td>\n",
       "    </tr>\n",
       "  </tbody>\n",
       "</table>\n",
       "<p>1827497 rows × 7 columns</p>\n",
       "</div>"
      ],
      "text/plain": [
       "         bedrooms  bathrooms  area  tax_value  year_built  tax_amount  fips\n",
       "7               3        2.0  2077     646760        1926     7924.68  6037\n",
       "18              3        1.0  1244     169471        1950     2532.88  6037\n",
       "19              3        2.0  1300     233266        1950     3110.99  6037\n",
       "20              3        2.0  1222     290492        1951     3870.25  6037\n",
       "40              2        1.0   725      37548        1953      576.47  6037\n",
       "...           ...        ...   ...        ...         ...         ...   ...\n",
       "2152815         4        2.0  1484      71859        1955     1135.72  6037\n",
       "2152824         2        1.0   710     175319        1940     2040.78  6111\n",
       "2152831         3        2.0  1194     271536        1954     3555.73  6037\n",
       "2152852         3        2.0  1917     408680        1946     4341.32  6111\n",
       "2152853         4        2.0  1987     259913        1955     3175.66  6059\n",
       "\n",
       "[1827497 rows x 7 columns]"
      ]
     },
     "execution_count": 2,
     "metadata": {},
     "output_type": "execute_result"
    }
   ],
   "source": [
    "#acquire data\n",
    "df = wrangle.wrangle_zillow()\n",
    "df"
   ]
  },
  {
   "cell_type": "code",
   "execution_count": 3,
   "id": "bb4a1ad1",
   "metadata": {},
   "outputs": [
    {
     "data": {
      "text/plain": [
       "(1827497, 7)"
      ]
     },
     "execution_count": 3,
     "metadata": {},
     "output_type": "execute_result"
    }
   ],
   "source": [
    "#get shape\n",
    "df.shape"
   ]
  },
  {
   "cell_type": "code",
   "execution_count": 4,
   "id": "0fe2bfa3",
   "metadata": {},
   "outputs": [
    {
     "data": {
      "text/plain": [
       "((1096497, 7), (365500, 7), (365500, 7))"
      ]
     },
     "execution_count": 4,
     "metadata": {},
     "output_type": "execute_result"
    }
   ],
   "source": [
    "# split\n",
    "#split data\n",
    "train_validate, test = train_test_split(df, test_size=.2, random_state=123)\n",
    "train, validate = train_test_split(train_validate, test_size=.25, random_state=123)\n",
    "train.shape, validate.shape, test.shape"
   ]
  },
  {
   "cell_type": "code",
   "execution_count": 5,
   "id": "d753372f",
   "metadata": {},
   "outputs": [
    {
     "data": {
      "text/html": [
       "<div>\n",
       "<style scoped>\n",
       "    .dataframe tbody tr th:only-of-type {\n",
       "        vertical-align: middle;\n",
       "    }\n",
       "\n",
       "    .dataframe tbody tr th {\n",
       "        vertical-align: top;\n",
       "    }\n",
       "\n",
       "    .dataframe thead th {\n",
       "        text-align: right;\n",
       "    }\n",
       "</style>\n",
       "<table border=\"1\" class=\"dataframe\">\n",
       "  <thead>\n",
       "    <tr style=\"text-align: right;\">\n",
       "      <th></th>\n",
       "      <th>bedrooms</th>\n",
       "      <th>bathrooms</th>\n",
       "      <th>area</th>\n",
       "      <th>tax_value</th>\n",
       "      <th>year_built</th>\n",
       "      <th>tax_amount</th>\n",
       "      <th>fips</th>\n",
       "    </tr>\n",
       "  </thead>\n",
       "  <tbody>\n",
       "    <tr>\n",
       "      <th>511824</th>\n",
       "      <td>3</td>\n",
       "      <td>2.0</td>\n",
       "      <td>1845</td>\n",
       "      <td>497915</td>\n",
       "      <td>1952</td>\n",
       "      <td>5967.44</td>\n",
       "      <td>6037</td>\n",
       "    </tr>\n",
       "    <tr>\n",
       "      <th>986893</th>\n",
       "      <td>3</td>\n",
       "      <td>2.0</td>\n",
       "      <td>1524</td>\n",
       "      <td>320818</td>\n",
       "      <td>1955</td>\n",
       "      <td>4068.13</td>\n",
       "      <td>6037</td>\n",
       "    </tr>\n",
       "    <tr>\n",
       "      <th>1462975</th>\n",
       "      <td>2</td>\n",
       "      <td>2.0</td>\n",
       "      <td>1651</td>\n",
       "      <td>608536</td>\n",
       "      <td>1984</td>\n",
       "      <td>6639.32</td>\n",
       "      <td>6059</td>\n",
       "    </tr>\n",
       "    <tr>\n",
       "      <th>1152928</th>\n",
       "      <td>3</td>\n",
       "      <td>1.0</td>\n",
       "      <td>1112</td>\n",
       "      <td>372790</td>\n",
       "      <td>1953</td>\n",
       "      <td>4586.50</td>\n",
       "      <td>6037</td>\n",
       "    </tr>\n",
       "    <tr>\n",
       "      <th>816888</th>\n",
       "      <td>3</td>\n",
       "      <td>2.0</td>\n",
       "      <td>1424</td>\n",
       "      <td>340818</td>\n",
       "      <td>1975</td>\n",
       "      <td>4071.32</td>\n",
       "      <td>6059</td>\n",
       "    </tr>\n",
       "  </tbody>\n",
       "</table>\n",
       "</div>"
      ],
      "text/plain": [
       "         bedrooms  bathrooms  area  tax_value  year_built  tax_amount  fips\n",
       "511824          3        2.0  1845     497915        1952     5967.44  6037\n",
       "986893          3        2.0  1524     320818        1955     4068.13  6037\n",
       "1462975         2        2.0  1651     608536        1984     6639.32  6059\n",
       "1152928         3        1.0  1112     372790        1953     4586.50  6037\n",
       "816888          3        2.0  1424     340818        1975     4071.32  6059"
      ]
     },
     "execution_count": 5,
     "metadata": {},
     "output_type": "execute_result"
    }
   ],
   "source": [
    "train.head(5)"
   ]
  },
  {
   "cell_type": "markdown",
   "id": "a6309238",
   "metadata": {},
   "source": [
    "### 2. Fit a linear regression model (ordinary least squares) and compute yhat, predictions of taxvaluedollarcnt using only calculatedfinishedsqft.\n",
    "\n"
   ]
  },
  {
   "cell_type": "code",
   "execution_count": 6,
   "id": "bd294750",
   "metadata": {},
   "outputs": [
    {
     "data": {
      "text/plain": [
       "334280.3382785307"
      ]
     },
     "execution_count": 6,
     "metadata": {},
     "output_type": "execute_result"
    }
   ],
   "source": [
    "#calculate mean\n",
    "baseline = df.tax_value.mean()\n",
    "baseline"
   ]
  },
  {
   "cell_type": "code",
   "execution_count": 7,
   "id": "ca9ee139",
   "metadata": {},
   "outputs": [],
   "source": [
    "#add it to the df to get yhat & predictions\n",
    "df['yhat_baseline'] = baseline\n"
   ]
  },
  {
   "cell_type": "code",
   "execution_count": 8,
   "id": "02701cdf",
   "metadata": {},
   "outputs": [
    {
     "data": {
      "text/html": [
       "<div>\n",
       "<style scoped>\n",
       "    .dataframe tbody tr th:only-of-type {\n",
       "        vertical-align: middle;\n",
       "    }\n",
       "\n",
       "    .dataframe tbody tr th {\n",
       "        vertical-align: top;\n",
       "    }\n",
       "\n",
       "    .dataframe thead th {\n",
       "        text-align: right;\n",
       "    }\n",
       "</style>\n",
       "<table border=\"1\" class=\"dataframe\">\n",
       "  <thead>\n",
       "    <tr style=\"text-align: right;\">\n",
       "      <th></th>\n",
       "      <th>bedrooms</th>\n",
       "      <th>bathrooms</th>\n",
       "      <th>area</th>\n",
       "      <th>tax_value</th>\n",
       "      <th>year_built</th>\n",
       "      <th>tax_amount</th>\n",
       "      <th>fips</th>\n",
       "      <th>yhat_baseline</th>\n",
       "    </tr>\n",
       "  </thead>\n",
       "  <tbody>\n",
       "    <tr>\n",
       "      <th>7</th>\n",
       "      <td>3</td>\n",
       "      <td>2.0</td>\n",
       "      <td>2077</td>\n",
       "      <td>646760</td>\n",
       "      <td>1926</td>\n",
       "      <td>7924.68</td>\n",
       "      <td>6037</td>\n",
       "      <td>334280.338279</td>\n",
       "    </tr>\n",
       "    <tr>\n",
       "      <th>18</th>\n",
       "      <td>3</td>\n",
       "      <td>1.0</td>\n",
       "      <td>1244</td>\n",
       "      <td>169471</td>\n",
       "      <td>1950</td>\n",
       "      <td>2532.88</td>\n",
       "      <td>6037</td>\n",
       "      <td>334280.338279</td>\n",
       "    </tr>\n",
       "    <tr>\n",
       "      <th>19</th>\n",
       "      <td>3</td>\n",
       "      <td>2.0</td>\n",
       "      <td>1300</td>\n",
       "      <td>233266</td>\n",
       "      <td>1950</td>\n",
       "      <td>3110.99</td>\n",
       "      <td>6037</td>\n",
       "      <td>334280.338279</td>\n",
       "    </tr>\n",
       "    <tr>\n",
       "      <th>20</th>\n",
       "      <td>3</td>\n",
       "      <td>2.0</td>\n",
       "      <td>1222</td>\n",
       "      <td>290492</td>\n",
       "      <td>1951</td>\n",
       "      <td>3870.25</td>\n",
       "      <td>6037</td>\n",
       "      <td>334280.338279</td>\n",
       "    </tr>\n",
       "    <tr>\n",
       "      <th>40</th>\n",
       "      <td>2</td>\n",
       "      <td>1.0</td>\n",
       "      <td>725</td>\n",
       "      <td>37548</td>\n",
       "      <td>1953</td>\n",
       "      <td>576.47</td>\n",
       "      <td>6037</td>\n",
       "      <td>334280.338279</td>\n",
       "    </tr>\n",
       "    <tr>\n",
       "      <th>...</th>\n",
       "      <td>...</td>\n",
       "      <td>...</td>\n",
       "      <td>...</td>\n",
       "      <td>...</td>\n",
       "      <td>...</td>\n",
       "      <td>...</td>\n",
       "      <td>...</td>\n",
       "      <td>...</td>\n",
       "    </tr>\n",
       "    <tr>\n",
       "      <th>2152815</th>\n",
       "      <td>4</td>\n",
       "      <td>2.0</td>\n",
       "      <td>1484</td>\n",
       "      <td>71859</td>\n",
       "      <td>1955</td>\n",
       "      <td>1135.72</td>\n",
       "      <td>6037</td>\n",
       "      <td>334280.338279</td>\n",
       "    </tr>\n",
       "    <tr>\n",
       "      <th>2152824</th>\n",
       "      <td>2</td>\n",
       "      <td>1.0</td>\n",
       "      <td>710</td>\n",
       "      <td>175319</td>\n",
       "      <td>1940</td>\n",
       "      <td>2040.78</td>\n",
       "      <td>6111</td>\n",
       "      <td>334280.338279</td>\n",
       "    </tr>\n",
       "    <tr>\n",
       "      <th>2152831</th>\n",
       "      <td>3</td>\n",
       "      <td>2.0</td>\n",
       "      <td>1194</td>\n",
       "      <td>271536</td>\n",
       "      <td>1954</td>\n",
       "      <td>3555.73</td>\n",
       "      <td>6037</td>\n",
       "      <td>334280.338279</td>\n",
       "    </tr>\n",
       "    <tr>\n",
       "      <th>2152852</th>\n",
       "      <td>3</td>\n",
       "      <td>2.0</td>\n",
       "      <td>1917</td>\n",
       "      <td>408680</td>\n",
       "      <td>1946</td>\n",
       "      <td>4341.32</td>\n",
       "      <td>6111</td>\n",
       "      <td>334280.338279</td>\n",
       "    </tr>\n",
       "    <tr>\n",
       "      <th>2152853</th>\n",
       "      <td>4</td>\n",
       "      <td>2.0</td>\n",
       "      <td>1987</td>\n",
       "      <td>259913</td>\n",
       "      <td>1955</td>\n",
       "      <td>3175.66</td>\n",
       "      <td>6059</td>\n",
       "      <td>334280.338279</td>\n",
       "    </tr>\n",
       "  </tbody>\n",
       "</table>\n",
       "<p>1827497 rows × 8 columns</p>\n",
       "</div>"
      ],
      "text/plain": [
       "         bedrooms  bathrooms  area  tax_value  year_built  tax_amount  fips  \\\n",
       "7               3        2.0  2077     646760        1926     7924.68  6037   \n",
       "18              3        1.0  1244     169471        1950     2532.88  6037   \n",
       "19              3        2.0  1300     233266        1950     3110.99  6037   \n",
       "20              3        2.0  1222     290492        1951     3870.25  6037   \n",
       "40              2        1.0   725      37548        1953      576.47  6037   \n",
       "...           ...        ...   ...        ...         ...         ...   ...   \n",
       "2152815         4        2.0  1484      71859        1955     1135.72  6037   \n",
       "2152824         2        1.0   710     175319        1940     2040.78  6111   \n",
       "2152831         3        2.0  1194     271536        1954     3555.73  6037   \n",
       "2152852         3        2.0  1917     408680        1946     4341.32  6111   \n",
       "2152853         4        2.0  1987     259913        1955     3175.66  6059   \n",
       "\n",
       "         yhat_baseline  \n",
       "7        334280.338279  \n",
       "18       334280.338279  \n",
       "19       334280.338279  \n",
       "20       334280.338279  \n",
       "40       334280.338279  \n",
       "...                ...  \n",
       "2152815  334280.338279  \n",
       "2152824  334280.338279  \n",
       "2152831  334280.338279  \n",
       "2152852  334280.338279  \n",
       "2152853  334280.338279  \n",
       "\n",
       "[1827497 rows x 8 columns]"
      ]
     },
     "execution_count": 8,
     "metadata": {},
     "output_type": "execute_result"
    }
   ],
   "source": [
    "df"
   ]
  },
  {
   "cell_type": "code",
   "execution_count": 9,
   "id": "ba996d2b",
   "metadata": {},
   "outputs": [],
   "source": [
    "# get my x & y train into df\n",
    "X_train = pd.DataFrame(train.area)\n",
    "y_train = pd.DataFrame(train.tax_value)"
   ]
  },
  {
   "cell_type": "code",
   "execution_count": 10,
   "id": "e023e025",
   "metadata": {},
   "outputs": [
    {
     "data": {
      "text/html": [
       "<div>\n",
       "<style scoped>\n",
       "    .dataframe tbody tr th:only-of-type {\n",
       "        vertical-align: middle;\n",
       "    }\n",
       "\n",
       "    .dataframe tbody tr th {\n",
       "        vertical-align: top;\n",
       "    }\n",
       "\n",
       "    .dataframe thead th {\n",
       "        text-align: right;\n",
       "    }\n",
       "</style>\n",
       "<table border=\"1\" class=\"dataframe\">\n",
       "  <thead>\n",
       "    <tr style=\"text-align: right;\">\n",
       "      <th></th>\n",
       "      <th>area</th>\n",
       "      <th>tax_value</th>\n",
       "    </tr>\n",
       "  </thead>\n",
       "  <tbody>\n",
       "    <tr>\n",
       "      <th>511824</th>\n",
       "      <td>1845</td>\n",
       "      <td>497915</td>\n",
       "    </tr>\n",
       "    <tr>\n",
       "      <th>986893</th>\n",
       "      <td>1524</td>\n",
       "      <td>320818</td>\n",
       "    </tr>\n",
       "    <tr>\n",
       "      <th>1462975</th>\n",
       "      <td>1651</td>\n",
       "      <td>608536</td>\n",
       "    </tr>\n",
       "    <tr>\n",
       "      <th>1152928</th>\n",
       "      <td>1112</td>\n",
       "      <td>372790</td>\n",
       "    </tr>\n",
       "    <tr>\n",
       "      <th>816888</th>\n",
       "      <td>1424</td>\n",
       "      <td>340818</td>\n",
       "    </tr>\n",
       "  </tbody>\n",
       "</table>\n",
       "</div>"
      ],
      "text/plain": [
       "         area  tax_value\n",
       "511824   1845     497915\n",
       "986893   1524     320818\n",
       "1462975  1651     608536\n",
       "1152928  1112     372790\n",
       "816888   1424     340818"
      ]
     },
     "execution_count": 10,
     "metadata": {},
     "output_type": "execute_result"
    }
   ],
   "source": [
    "df = pd.DataFrame(train[['area', 'tax_value']])\n",
    "df.head()"
   ]
  },
  {
   "cell_type": "code",
   "execution_count": 37,
   "id": "35f91158",
   "metadata": {},
   "outputs": [],
   "source": [
    "#split into my X_train and y_train\n",
    "X_train = train[['area']]\n",
    "y_train = train.tax_value\n",
    "\n",
    "X_validate = validate[['area']]\n",
    "y_validate = validate.tax_value\n",
    "\n",
    "X_test = test[['area']]\n",
    "y_test = test.tax_value\n"
   ]
  },
  {
   "cell_type": "code",
   "execution_count": 38,
   "id": "1eefebee",
   "metadata": {},
   "outputs": [
    {
     "data": {
      "text/html": [
       "<div>\n",
       "<style scoped>\n",
       "    .dataframe tbody tr th:only-of-type {\n",
       "        vertical-align: middle;\n",
       "    }\n",
       "\n",
       "    .dataframe tbody tr th {\n",
       "        vertical-align: top;\n",
       "    }\n",
       "\n",
       "    .dataframe thead th {\n",
       "        text-align: right;\n",
       "    }\n",
       "</style>\n",
       "<table border=\"1\" class=\"dataframe\">\n",
       "  <thead>\n",
       "    <tr style=\"text-align: right;\">\n",
       "      <th></th>\n",
       "      <th>area</th>\n",
       "    </tr>\n",
       "  </thead>\n",
       "  <tbody>\n",
       "    <tr>\n",
       "      <th>511824</th>\n",
       "      <td>1845</td>\n",
       "    </tr>\n",
       "    <tr>\n",
       "      <th>986893</th>\n",
       "      <td>1524</td>\n",
       "    </tr>\n",
       "    <tr>\n",
       "      <th>1462975</th>\n",
       "      <td>1651</td>\n",
       "    </tr>\n",
       "    <tr>\n",
       "      <th>1152928</th>\n",
       "      <td>1112</td>\n",
       "    </tr>\n",
       "    <tr>\n",
       "      <th>816888</th>\n",
       "      <td>1424</td>\n",
       "    </tr>\n",
       "  </tbody>\n",
       "</table>\n",
       "</div>"
      ],
      "text/plain": [
       "         area\n",
       "511824   1845\n",
       "986893   1524\n",
       "1462975  1651\n",
       "1152928  1112\n",
       "816888   1424"
      ]
     },
     "execution_count": 38,
     "metadata": {},
     "output_type": "execute_result"
    }
   ],
   "source": [
    "X_train.head()"
   ]
  },
  {
   "cell_type": "code",
   "execution_count": 39,
   "id": "0414a25d",
   "metadata": {},
   "outputs": [
    {
     "data": {
      "text/plain": [
       "511824     497915\n",
       "986893     320818\n",
       "1462975    608536\n",
       "1152928    372790\n",
       "816888     340818\n",
       "Name: tax_value, dtype: int64"
      ]
     },
     "execution_count": 39,
     "metadata": {},
     "output_type": "execute_result"
    }
   ],
   "source": [
    "y_train.head()"
   ]
  },
  {
   "cell_type": "code",
   "execution_count": 41,
   "id": "8235fc78",
   "metadata": {},
   "outputs": [
    {
     "data": {
      "text/plain": [
       "LinearRegression()"
      ]
     },
     "execution_count": 41,
     "metadata": {},
     "output_type": "execute_result"
    }
   ],
   "source": [
    "model = LinearRegression().fit(X_train, y_train)\n",
    "model"
   ]
  },
  {
   "cell_type": "code",
   "execution_count": 42,
   "id": "c2bb463f",
   "metadata": {},
   "outputs": [
    {
     "data": {
      "text/plain": [
       "array([363084.84541151, 312802.2374671 , 332695.97955103, ...,\n",
       "       352119.79071958, 299644.17183679, 503750.83274509])"
      ]
     },
     "execution_count": 42,
     "metadata": {},
     "output_type": "execute_result"
    }
   ],
   "source": [
    "#get array of predictions\n",
    "predictions = model.predict(X_train)\n",
    "predictions"
   ]
  },
  {
   "cell_type": "code",
   "execution_count": 43,
   "id": "a2f2165e",
   "metadata": {},
   "outputs": [],
   "source": [
    "#save predictions into train df\n",
    "train['yhat'] = predictions"
   ]
  },
  {
   "cell_type": "code",
   "execution_count": 44,
   "id": "c36ac20b",
   "metadata": {},
   "outputs": [
    {
     "data": {
      "text/html": [
       "<div>\n",
       "<style scoped>\n",
       "    .dataframe tbody tr th:only-of-type {\n",
       "        vertical-align: middle;\n",
       "    }\n",
       "\n",
       "    .dataframe tbody tr th {\n",
       "        vertical-align: top;\n",
       "    }\n",
       "\n",
       "    .dataframe thead th {\n",
       "        text-align: right;\n",
       "    }\n",
       "</style>\n",
       "<table border=\"1\" class=\"dataframe\">\n",
       "  <thead>\n",
       "    <tr style=\"text-align: right;\">\n",
       "      <th></th>\n",
       "      <th>bedrooms</th>\n",
       "      <th>bathrooms</th>\n",
       "      <th>area</th>\n",
       "      <th>tax_value</th>\n",
       "      <th>year_built</th>\n",
       "      <th>tax_amount</th>\n",
       "      <th>fips</th>\n",
       "      <th>yhat</th>\n",
       "    </tr>\n",
       "  </thead>\n",
       "  <tbody>\n",
       "    <tr>\n",
       "      <th>511824</th>\n",
       "      <td>3</td>\n",
       "      <td>2.0</td>\n",
       "      <td>1845</td>\n",
       "      <td>497915</td>\n",
       "      <td>1952</td>\n",
       "      <td>5967.44</td>\n",
       "      <td>6037</td>\n",
       "      <td>363084.845412</td>\n",
       "    </tr>\n",
       "    <tr>\n",
       "      <th>986893</th>\n",
       "      <td>3</td>\n",
       "      <td>2.0</td>\n",
       "      <td>1524</td>\n",
       "      <td>320818</td>\n",
       "      <td>1955</td>\n",
       "      <td>4068.13</td>\n",
       "      <td>6037</td>\n",
       "      <td>312802.237467</td>\n",
       "    </tr>\n",
       "    <tr>\n",
       "      <th>1462975</th>\n",
       "      <td>2</td>\n",
       "      <td>2.0</td>\n",
       "      <td>1651</td>\n",
       "      <td>608536</td>\n",
       "      <td>1984</td>\n",
       "      <td>6639.32</td>\n",
       "      <td>6059</td>\n",
       "      <td>332695.979551</td>\n",
       "    </tr>\n",
       "    <tr>\n",
       "      <th>1152928</th>\n",
       "      <td>3</td>\n",
       "      <td>1.0</td>\n",
       "      <td>1112</td>\n",
       "      <td>372790</td>\n",
       "      <td>1953</td>\n",
       "      <td>4586.50</td>\n",
       "      <td>6037</td>\n",
       "      <td>248265.058423</td>\n",
       "    </tr>\n",
       "    <tr>\n",
       "      <th>816888</th>\n",
       "      <td>3</td>\n",
       "      <td>2.0</td>\n",
       "      <td>1424</td>\n",
       "      <td>340818</td>\n",
       "      <td>1975</td>\n",
       "      <td>4071.32</td>\n",
       "      <td>6059</td>\n",
       "      <td>297137.873621</td>\n",
       "    </tr>\n",
       "  </tbody>\n",
       "</table>\n",
       "</div>"
      ],
      "text/plain": [
       "         bedrooms  bathrooms  area  tax_value  year_built  tax_amount  fips  \\\n",
       "511824          3        2.0  1845     497915        1952     5967.44  6037   \n",
       "986893          3        2.0  1524     320818        1955     4068.13  6037   \n",
       "1462975         2        2.0  1651     608536        1984     6639.32  6059   \n",
       "1152928         3        1.0  1112     372790        1953     4586.50  6037   \n",
       "816888          3        2.0  1424     340818        1975     4071.32  6059   \n",
       "\n",
       "                  yhat  \n",
       "511824   363084.845412  \n",
       "986893   312802.237467  \n",
       "1462975  332695.979551  \n",
       "1152928  248265.058423  \n",
       "816888   297137.873621  "
      ]
     },
     "execution_count": 44,
     "metadata": {},
     "output_type": "execute_result"
    }
   ],
   "source": [
    "train.head()"
   ]
  },
  {
   "cell_type": "markdown",
   "id": "351a03fa",
   "metadata": {},
   "source": [
    "### 3. Plot the residuals for the linear regression model that you made.\n",
    "\n"
   ]
  },
  {
   "cell_type": "code",
   "execution_count": 55,
   "id": "5b3e85a5",
   "metadata": {},
   "outputs": [],
   "source": [
    "#calculate residuals (acutal - prediction)\n",
    "train['residuals'] = train.tax_value - train.yhat"
   ]
  },
  {
   "cell_type": "code",
   "execution_count": 56,
   "id": "2a307fba",
   "metadata": {},
   "outputs": [
    {
     "data": {
      "text/html": [
       "<div>\n",
       "<style scoped>\n",
       "    .dataframe tbody tr th:only-of-type {\n",
       "        vertical-align: middle;\n",
       "    }\n",
       "\n",
       "    .dataframe tbody tr th {\n",
       "        vertical-align: top;\n",
       "    }\n",
       "\n",
       "    .dataframe thead th {\n",
       "        text-align: right;\n",
       "    }\n",
       "</style>\n",
       "<table border=\"1\" class=\"dataframe\">\n",
       "  <thead>\n",
       "    <tr style=\"text-align: right;\">\n",
       "      <th></th>\n",
       "      <th>bedrooms</th>\n",
       "      <th>bathrooms</th>\n",
       "      <th>area</th>\n",
       "      <th>tax_value</th>\n",
       "      <th>year_built</th>\n",
       "      <th>tax_amount</th>\n",
       "      <th>fips</th>\n",
       "      <th>yhat</th>\n",
       "      <th>residuals</th>\n",
       "    </tr>\n",
       "  </thead>\n",
       "  <tbody>\n",
       "    <tr>\n",
       "      <th>511824</th>\n",
       "      <td>3</td>\n",
       "      <td>2.0</td>\n",
       "      <td>1845</td>\n",
       "      <td>497915</td>\n",
       "      <td>1952</td>\n",
       "      <td>5967.44</td>\n",
       "      <td>6037</td>\n",
       "      <td>363084.845412</td>\n",
       "      <td>134830.154588</td>\n",
       "    </tr>\n",
       "    <tr>\n",
       "      <th>986893</th>\n",
       "      <td>3</td>\n",
       "      <td>2.0</td>\n",
       "      <td>1524</td>\n",
       "      <td>320818</td>\n",
       "      <td>1955</td>\n",
       "      <td>4068.13</td>\n",
       "      <td>6037</td>\n",
       "      <td>312802.237467</td>\n",
       "      <td>8015.762533</td>\n",
       "    </tr>\n",
       "    <tr>\n",
       "      <th>1462975</th>\n",
       "      <td>2</td>\n",
       "      <td>2.0</td>\n",
       "      <td>1651</td>\n",
       "      <td>608536</td>\n",
       "      <td>1984</td>\n",
       "      <td>6639.32</td>\n",
       "      <td>6059</td>\n",
       "      <td>332695.979551</td>\n",
       "      <td>275840.020449</td>\n",
       "    </tr>\n",
       "    <tr>\n",
       "      <th>1152928</th>\n",
       "      <td>3</td>\n",
       "      <td>1.0</td>\n",
       "      <td>1112</td>\n",
       "      <td>372790</td>\n",
       "      <td>1953</td>\n",
       "      <td>4586.50</td>\n",
       "      <td>6037</td>\n",
       "      <td>248265.058423</td>\n",
       "      <td>124524.941577</td>\n",
       "    </tr>\n",
       "    <tr>\n",
       "      <th>816888</th>\n",
       "      <td>3</td>\n",
       "      <td>2.0</td>\n",
       "      <td>1424</td>\n",
       "      <td>340818</td>\n",
       "      <td>1975</td>\n",
       "      <td>4071.32</td>\n",
       "      <td>6059</td>\n",
       "      <td>297137.873621</td>\n",
       "      <td>43680.126379</td>\n",
       "    </tr>\n",
       "  </tbody>\n",
       "</table>\n",
       "</div>"
      ],
      "text/plain": [
       "         bedrooms  bathrooms  area  tax_value  year_built  tax_amount  fips  \\\n",
       "511824          3        2.0  1845     497915        1952     5967.44  6037   \n",
       "986893          3        2.0  1524     320818        1955     4068.13  6037   \n",
       "1462975         2        2.0  1651     608536        1984     6639.32  6059   \n",
       "1152928         3        1.0  1112     372790        1953     4586.50  6037   \n",
       "816888          3        2.0  1424     340818        1975     4071.32  6059   \n",
       "\n",
       "                  yhat      residuals  \n",
       "511824   363084.845412  134830.154588  \n",
       "986893   312802.237467    8015.762533  \n",
       "1462975  332695.979551  275840.020449  \n",
       "1152928  248265.058423  124524.941577  \n",
       "816888   297137.873621   43680.126379  "
      ]
     },
     "execution_count": 56,
     "metadata": {},
     "output_type": "execute_result"
    }
   ],
   "source": [
    "train.head()"
   ]
  },
  {
   "cell_type": "code",
   "execution_count": 58,
   "id": "82df6f47",
   "metadata": {},
   "outputs": [
    {
     "data": {
      "image/png": "[encoded data removed]",
      "text/plain": [
       "<Figure size 432x288 with 1 Axes>"
      ]
     },
     "metadata": {
      "needs_background": "light"
     },
     "output_type": "display_data"
    }
   ],
   "source": [
    "#make scatterplot of y-value vs residuals\n",
    "plt.scatter(data=train, x='tax_value', y='residuals')\n",
    "\n",
    "plt.xlabel('Home Value')\n",
    "plt.ylabel('Residuals')\n",
    "plt.title('Residual vs Home Value Plot')\n",
    "plt.show()"
   ]
  },
  {
   "cell_type": "markdown",
   "id": "0af9c6f2",
   "metadata": {},
   "source": [
    "### 4. Calculate the sum of squared errors, explained sum of squares, total sum of squares, mean squared error, and root mean squared error for your model.\n",
    "\n"
   ]
  },
  {
   "cell_type": "code",
   "execution_count": 34,
   "id": "285a2390",
   "metadata": {},
   "outputs": [
    {
     "name": "stdout",
     "output_type": "stream",
     "text": [
      "SSE 3.782541500316897e+16\n"
     ]
    }
   ],
   "source": [
    "#calculate SSE\n",
    "SSE_baseline =  MSE_baseline * len(df)\n",
    "SSE = MSE * len(df)\n",
    "print(\"SSE\", SSE)\n"
   ]
  },
  {
   "cell_type": "code",
   "execution_count": 59,
   "id": "e821646c",
   "metadata": {},
   "outputs": [
    {
     "data": {
      "text/plain": [
       "8690758997213477.0"
      ]
     },
     "execution_count": 59,
     "metadata": {},
     "output_type": "execute_result"
    }
   ],
   "source": [
    "#calculate ESS\n",
    "\n",
    "ESS = ((train.yhat - train.tax_value.mean())**2).sum()\n",
    "ESS\n"
   ]
  },
  {
   "cell_type": "code",
   "execution_count": 60,
   "id": "ab9ebae7",
   "metadata": {},
   "outputs": [
    {
     "data": {
      "text/plain": [
       "4.651617400038245e+16"
      ]
     },
     "execution_count": 60,
     "metadata": {},
     "output_type": "execute_result"
    }
   ],
   "source": [
    "#calculate TSS\n",
    "# SSE_Baseline = TSS\n",
    "# TSS = 4.65\n",
    "#OR\n",
    "TSS = ESS + SSE\n",
    "TSS"
   ]
  },
  {
   "cell_type": "code",
   "execution_count": 35,
   "id": "9fac4c6a",
   "metadata": {},
   "outputs": [
    {
     "name": "stdout",
     "output_type": "stream",
     "text": [
      "MSE: 34496596892.804054\n"
     ]
    }
   ],
   "source": [
    "#calculate MSE\n",
    "MSE_baseline = mean_squared_error(df.tax_value, df.baseline)\n",
    "MSE = mean_squared_error(df.tax_value, df.predictions)\n",
    "print(\"MSE:\", MSE) "
   ]
  },
  {
   "cell_type": "code",
   "execution_count": 36,
   "id": "dd0718db",
   "metadata": {},
   "outputs": [
    {
     "name": "stdout",
     "output_type": "stream",
     "text": [
      "RMSE 185732.59512752213\n"
     ]
    }
   ],
   "source": [
    "#calcuate RMSE\n",
    "RMSE_baseline = MSE_baseline**.5\n",
    "RMSE = MSE**.5\n",
    "print(\"RMSE\", RMSE) "
   ]
  },
  {
   "cell_type": "markdown",
   "id": "0f0489d5",
   "metadata": {},
   "source": [
    "### 5. Calculate the sum of squared errors, mean squared error, and root mean squared error for the baseline model (i.e. a model that always predicts the average taxvaluedollarcnt amount)."
   ]
  },
  {
   "cell_type": "code",
   "execution_count": 62,
   "id": "88cef4c8",
   "metadata": {},
   "outputs": [],
   "source": [
    "#calculate baseline\n",
    "train['baseline'] = train.tax_value.mean()\n"
   ]
  },
  {
   "cell_type": "code",
   "execution_count": 63,
   "id": "448d87db",
   "metadata": {},
   "outputs": [
    {
     "data": {
      "text/html": [
       "<div>\n",
       "<style scoped>\n",
       "    .dataframe tbody tr th:only-of-type {\n",
       "        vertical-align: middle;\n",
       "    }\n",
       "\n",
       "    .dataframe tbody tr th {\n",
       "        vertical-align: top;\n",
       "    }\n",
       "\n",
       "    .dataframe thead th {\n",
       "        text-align: right;\n",
       "    }\n",
       "</style>\n",
       "<table border=\"1\" class=\"dataframe\">\n",
       "  <thead>\n",
       "    <tr style=\"text-align: right;\">\n",
       "      <th></th>\n",
       "      <th>bedrooms</th>\n",
       "      <th>bathrooms</th>\n",
       "      <th>area</th>\n",
       "      <th>tax_value</th>\n",
       "      <th>year_built</th>\n",
       "      <th>tax_amount</th>\n",
       "      <th>fips</th>\n",
       "      <th>yhat</th>\n",
       "      <th>residuals</th>\n",
       "      <th>baseline</th>\n",
       "    </tr>\n",
       "  </thead>\n",
       "  <tbody>\n",
       "    <tr>\n",
       "      <th>511824</th>\n",
       "      <td>3</td>\n",
       "      <td>2.0</td>\n",
       "      <td>1845</td>\n",
       "      <td>497915</td>\n",
       "      <td>1952</td>\n",
       "      <td>5967.44</td>\n",
       "      <td>6037</td>\n",
       "      <td>363084.845412</td>\n",
       "      <td>134830.154588</td>\n",
       "      <td>334464.971072</td>\n",
       "    </tr>\n",
       "    <tr>\n",
       "      <th>986893</th>\n",
       "      <td>3</td>\n",
       "      <td>2.0</td>\n",
       "      <td>1524</td>\n",
       "      <td>320818</td>\n",
       "      <td>1955</td>\n",
       "      <td>4068.13</td>\n",
       "      <td>6037</td>\n",
       "      <td>312802.237467</td>\n",
       "      <td>8015.762533</td>\n",
       "      <td>334464.971072</td>\n",
       "    </tr>\n",
       "    <tr>\n",
       "      <th>1462975</th>\n",
       "      <td>2</td>\n",
       "      <td>2.0</td>\n",
       "      <td>1651</td>\n",
       "      <td>608536</td>\n",
       "      <td>1984</td>\n",
       "      <td>6639.32</td>\n",
       "      <td>6059</td>\n",
       "      <td>332695.979551</td>\n",
       "      <td>275840.020449</td>\n",
       "      <td>334464.971072</td>\n",
       "    </tr>\n",
       "    <tr>\n",
       "      <th>1152928</th>\n",
       "      <td>3</td>\n",
       "      <td>1.0</td>\n",
       "      <td>1112</td>\n",
       "      <td>372790</td>\n",
       "      <td>1953</td>\n",
       "      <td>4586.50</td>\n",
       "      <td>6037</td>\n",
       "      <td>248265.058423</td>\n",
       "      <td>124524.941577</td>\n",
       "      <td>334464.971072</td>\n",
       "    </tr>\n",
       "    <tr>\n",
       "      <th>816888</th>\n",
       "      <td>3</td>\n",
       "      <td>2.0</td>\n",
       "      <td>1424</td>\n",
       "      <td>340818</td>\n",
       "      <td>1975</td>\n",
       "      <td>4071.32</td>\n",
       "      <td>6059</td>\n",
       "      <td>297137.873621</td>\n",
       "      <td>43680.126379</td>\n",
       "      <td>334464.971072</td>\n",
       "    </tr>\n",
       "  </tbody>\n",
       "</table>\n",
       "</div>"
      ],
      "text/plain": [
       "         bedrooms  bathrooms  area  tax_value  year_built  tax_amount  fips  \\\n",
       "511824          3        2.0  1845     497915        1952     5967.44  6037   \n",
       "986893          3        2.0  1524     320818        1955     4068.13  6037   \n",
       "1462975         2        2.0  1651     608536        1984     6639.32  6059   \n",
       "1152928         3        1.0  1112     372790        1953     4586.50  6037   \n",
       "816888          3        2.0  1424     340818        1975     4071.32  6059   \n",
       "\n",
       "                  yhat      residuals       baseline  \n",
       "511824   363084.845412  134830.154588  334464.971072  \n",
       "986893   312802.237467    8015.762533  334464.971072  \n",
       "1462975  332695.979551  275840.020449  334464.971072  \n",
       "1152928  248265.058423  124524.941577  334464.971072  \n",
       "816888   297137.873621   43680.126379  334464.971072  "
      ]
     },
     "execution_count": 63,
     "metadata": {},
     "output_type": "execute_result"
    }
   ],
   "source": [
    "train.head()"
   ]
  },
  {
   "cell_type": "code",
   "execution_count": 17,
   "id": "15ecc788",
   "metadata": {},
   "outputs": [],
   "source": [
    "# Calculate Mean Squared Error(MSE)\n",
    "MSE_baseline = mean_squared_error(df.tax_value, df.baseline)\n",
    "MSE = mean_squared_error(df.tax_value, df.predictions)\n"
   ]
  },
  {
   "cell_type": "code",
   "execution_count": 18,
   "id": "b1ad44a4",
   "metadata": {},
   "outputs": [
    {
     "name": "stdout",
     "output_type": "stream",
     "text": [
      "MSE baseline: 42422527376.16448\n",
      "MSE: 34496596892.804054\n"
     ]
    }
   ],
   "source": [
    "print(\"MSE baseline:\", MSE_baseline) \n",
    "print(\"MSE:\", MSE) "
   ]
  },
  {
   "cell_type": "code",
   "execution_count": 19,
   "id": "0afebff5",
   "metadata": {},
   "outputs": [],
   "source": [
    "# Calculate SSE (Sum of Squared Errors)\n",
    "SSE_baseline =  MSE_baseline * len(df)\n",
    "SSE = MSE * len(df)"
   ]
  },
  {
   "cell_type": "code",
   "execution_count": 20,
   "id": "cef97adc",
   "metadata": {},
   "outputs": [
    {
     "name": "stdout",
     "output_type": "stream",
     "text": [
      "SSE baseline 4.651617400038222e+16\n",
      "SSE 3.782541500316897e+16\n"
     ]
    }
   ],
   "source": [
    "print(\"SSE baseline\", SSE_baseline)\n",
    "print(\"SSE\", SSE)\n"
   ]
  },
  {
   "cell_type": "code",
   "execution_count": 21,
   "id": "ca1c7c91",
   "metadata": {},
   "outputs": [],
   "source": [
    "# Calculate root mean squared error\n",
    "RMSE_baseline = MSE_baseline**.5\n",
    "RMSE = MSE**.5"
   ]
  },
  {
   "cell_type": "code",
   "execution_count": 22,
   "id": "c06e580a",
   "metadata": {},
   "outputs": [
    {
     "name": "stdout",
     "output_type": "stream",
     "text": [
      "RMSE baseline 205967.2968608475\n",
      "RMSE 185732.59512752213\n"
     ]
    }
   ],
   "source": [
    "print(\"RMSE baseline\" ,RMSE_baseline)\n",
    "print(\"RMSE\", RMSE) "
   ]
  },
  {
   "cell_type": "markdown",
   "id": "3ae19f90",
   "metadata": {},
   "source": [
    "### 7. What is the amount of variance explained in your model?\n",
    "\n"
   ]
  },
  {
   "cell_type": "code",
   "execution_count": 23,
   "id": "4113f1f4",
   "metadata": {},
   "outputs": [],
   "source": [
    "# calculate root\n",
    "# r2 score = expected variance\n",
    "\n",
    "\n",
    "#import r2_score from sklearn\n",
    "from sklearn.metrics import r2_score"
   ]
  },
  {
   "cell_type": "code",
   "execution_count": 24,
   "id": "ec4b9ef8",
   "metadata": {},
   "outputs": [
    {
     "data": {
      "text/html": [
       "<div>\n",
       "<style scoped>\n",
       "    .dataframe tbody tr th:only-of-type {\n",
       "        vertical-align: middle;\n",
       "    }\n",
       "\n",
       "    .dataframe tbody tr th {\n",
       "        vertical-align: top;\n",
       "    }\n",
       "\n",
       "    .dataframe thead th {\n",
       "        text-align: right;\n",
       "    }\n",
       "</style>\n",
       "<table border=\"1\" class=\"dataframe\">\n",
       "  <thead>\n",
       "    <tr style=\"text-align: right;\">\n",
       "      <th></th>\n",
       "      <th>area</th>\n",
       "      <th>tax_value</th>\n",
       "      <th>baseline</th>\n",
       "      <th>predictions</th>\n",
       "      <th>baseline_residual</th>\n",
       "      <th>residual</th>\n",
       "    </tr>\n",
       "  </thead>\n",
       "  <tbody>\n",
       "    <tr>\n",
       "      <th>511824</th>\n",
       "      <td>1845</td>\n",
       "      <td>497915</td>\n",
       "      <td>334464.971072</td>\n",
       "      <td>363084.845412</td>\n",
       "      <td>163450.028928</td>\n",
       "      <td>134830.154588</td>\n",
       "    </tr>\n",
       "    <tr>\n",
       "      <th>986893</th>\n",
       "      <td>1524</td>\n",
       "      <td>320818</td>\n",
       "      <td>334464.971072</td>\n",
       "      <td>312802.237467</td>\n",
       "      <td>-13646.971072</td>\n",
       "      <td>8015.762533</td>\n",
       "    </tr>\n",
       "    <tr>\n",
       "      <th>1462975</th>\n",
       "      <td>1651</td>\n",
       "      <td>608536</td>\n",
       "      <td>334464.971072</td>\n",
       "      <td>332695.979551</td>\n",
       "      <td>274071.028928</td>\n",
       "      <td>275840.020449</td>\n",
       "    </tr>\n",
       "    <tr>\n",
       "      <th>1152928</th>\n",
       "      <td>1112</td>\n",
       "      <td>372790</td>\n",
       "      <td>334464.971072</td>\n",
       "      <td>248265.058423</td>\n",
       "      <td>38325.028928</td>\n",
       "      <td>124524.941577</td>\n",
       "    </tr>\n",
       "    <tr>\n",
       "      <th>816888</th>\n",
       "      <td>1424</td>\n",
       "      <td>340818</td>\n",
       "      <td>334464.971072</td>\n",
       "      <td>297137.873621</td>\n",
       "      <td>6353.028928</td>\n",
       "      <td>43680.126379</td>\n",
       "    </tr>\n",
       "    <tr>\n",
       "      <th>...</th>\n",
       "      <td>...</td>\n",
       "      <td>...</td>\n",
       "      <td>...</td>\n",
       "      <td>...</td>\n",
       "      <td>...</td>\n",
       "      <td>...</td>\n",
       "    </tr>\n",
       "    <tr>\n",
       "      <th>1055694</th>\n",
       "      <td>1675</td>\n",
       "      <td>282434</td>\n",
       "      <td>334464.971072</td>\n",
       "      <td>336455.426874</td>\n",
       "      <td>-52030.971072</td>\n",
       "      <td>-54021.426874</td>\n",
       "    </tr>\n",
       "    <tr>\n",
       "      <th>488948</th>\n",
       "      <td>2146</td>\n",
       "      <td>412986</td>\n",
       "      <td>334464.971072</td>\n",
       "      <td>410234.580587</td>\n",
       "      <td>78521.028928</td>\n",
       "      <td>2751.419413</td>\n",
       "    </tr>\n",
       "    <tr>\n",
       "      <th>1828724</th>\n",
       "      <td>1775</td>\n",
       "      <td>456392</td>\n",
       "      <td>334464.971072</td>\n",
       "      <td>352119.790720</td>\n",
       "      <td>121927.028928</td>\n",
       "      <td>104272.209280</td>\n",
       "    </tr>\n",
       "    <tr>\n",
       "      <th>1189611</th>\n",
       "      <td>1440</td>\n",
       "      <td>353677</td>\n",
       "      <td>334464.971072</td>\n",
       "      <td>299644.171837</td>\n",
       "      <td>19212.028928</td>\n",
       "      <td>54032.828163</td>\n",
       "    </tr>\n",
       "    <tr>\n",
       "      <th>55990</th>\n",
       "      <td>2743</td>\n",
       "      <td>269908</td>\n",
       "      <td>334464.971072</td>\n",
       "      <td>503750.832745</td>\n",
       "      <td>-64556.971072</td>\n",
       "      <td>-233842.832745</td>\n",
       "    </tr>\n",
       "  </tbody>\n",
       "</table>\n",
       "<p>1096497 rows × 6 columns</p>\n",
       "</div>"
      ],
      "text/plain": [
       "         area  tax_value       baseline    predictions  baseline_residual  \\\n",
       "511824   1845     497915  334464.971072  363084.845412      163450.028928   \n",
       "986893   1524     320818  334464.971072  312802.237467      -13646.971072   \n",
       "1462975  1651     608536  334464.971072  332695.979551      274071.028928   \n",
       "1152928  1112     372790  334464.971072  248265.058423       38325.028928   \n",
       "816888   1424     340818  334464.971072  297137.873621        6353.028928   \n",
       "...       ...        ...            ...            ...                ...   \n",
       "1055694  1675     282434  334464.971072  336455.426874      -52030.971072   \n",
       "488948   2146     412986  334464.971072  410234.580587       78521.028928   \n",
       "1828724  1775     456392  334464.971072  352119.790720      121927.028928   \n",
       "1189611  1440     353677  334464.971072  299644.171837       19212.028928   \n",
       "55990    2743     269908  334464.971072  503750.832745      -64556.971072   \n",
       "\n",
       "              residual  \n",
       "511824   134830.154588  \n",
       "986893     8015.762533  \n",
       "1462975  275840.020449  \n",
       "1152928  124524.941577  \n",
       "816888    43680.126379  \n",
       "...                ...  \n",
       "1055694  -54021.426874  \n",
       "488948     2751.419413  \n",
       "1828724  104272.209280  \n",
       "1189611   54032.828163  \n",
       "55990   -233842.832745  \n",
       "\n",
       "[1096497 rows x 6 columns]"
      ]
     },
     "execution_count": 24,
     "metadata": {},
     "output_type": "execute_result"
    }
   ],
   "source": [
    "df"
   ]
  },
  {
   "cell_type": "code",
   "execution_count": 25,
   "id": "4970621f",
   "metadata": {},
   "outputs": [
    {
     "data": {
      "text/plain": [
       "0.1868330571887069"
      ]
     },
     "execution_count": 25,
     "metadata": {},
     "output_type": "execute_result"
    }
   ],
   "source": [
    "#My model\n",
    "#use r2_score to calculate my model\n",
    "r2_score(df.tax_value, df.predictions)"
   ]
  },
  {
   "cell_type": "code",
   "execution_count": 26,
   "id": "a10c2fab",
   "metadata": {},
   "outputs": [
    {
     "data": {
      "text/plain": [
       "0.0"
      ]
     },
     "execution_count": 26,
     "metadata": {},
     "output_type": "execute_result"
    }
   ],
   "source": [
    "#Baseline\n",
    "#use r2 score to calculate baseline\n",
    "r2_score(df.tax_value, df.baseline)\n"
   ]
  },
  {
   "cell_type": "markdown",
   "id": "c9dad159",
   "metadata": {},
   "source": [
    "### 8. Is your model better than the baseline model?\n",
    "\n"
   ]
  },
  {
   "cell_type": "code",
   "execution_count": 27,
   "id": "5c5bc632",
   "metadata": {},
   "outputs": [],
   "source": [
    "# Yes\n",
    "# My model has 0.18 while baseline has 0.0 "
   ]
  },
  {
   "cell_type": "markdown",
   "id": "1a8ea70b",
   "metadata": {},
   "source": [
    "### 9. Create a file named evaluate.py that contains the following functions.\n",
    "\n",
    "### . plot_residuals(y, yhat): creates a residual plot\n"
   ]
  },
  {
   "cell_type": "code",
   "execution_count": 73,
   "id": "02baee2a",
   "metadata": {},
   "outputs": [],
   "source": [
    "def plot_residual(y, yhat):\n",
    "    '''\n",
    "    \"creates a residual plot from y and yhat\"\n",
    "    '''\n",
    "    # compute residuals\n",
    "    residual = (yhat - y)\n",
    "    sns.scatterplot(x=y, y=residual,color='blue', label='residual of regression')\n",
    "    plt.axhline(y=0)\n",
    "    plt.legend()\n",
    "    plt.title(\"Residual scatter plot\")\n",
    "    plt.show()"
   ]
  },
  {
   "cell_type": "code",
   "execution_count": 74,
   "id": "743018f5",
   "metadata": {},
   "outputs": [
    {
     "data": {
      "image/png": "[encoded data removed]",
      "text/plain": [
       "<Figure size 432x288 with 1 Axes>"
      ]
     },
     "metadata": {
      "needs_background": "light"
     },
     "output_type": "display_data"
    }
   ],
   "source": [
    "# plot 1\n",
    "evaluate.plot_residual(df.tax_value, df.predictions)\n"
   ]
  },
  {
   "cell_type": "code",
   "execution_count": 69,
   "id": "fe1744c7",
   "metadata": {},
   "outputs": [
    {
     "data": {
      "image/png": "[encoded data removed]",
      "text/plain": [
       "<Figure size 432x288 with 1 Axes>"
      ]
     },
     "metadata": {
      "needs_background": "light"
     },
     "output_type": "display_data"
    }
   ],
   "source": [
    "#plot 2\n",
    "def plot_residuals(y, yhat):\n",
    "    residuals = y - yhat\n",
    "    \n",
    "    plt.scatter(x=y, y=residuals)\n",
    "    plt.xlabel('Home Value')\n",
    "    plt.ylabel('Residuals')\n",
    "    plt.title('Residual vs Home value plot')\n",
    "    plt.show()\n",
    "    \n",
    "plot_residuals(train.tax_value, train.yhat)\n"
   ]
  },
  {
   "cell_type": "markdown",
   "id": "b2a711e9",
   "metadata": {},
   "source": [
    "### . regression_errors(y, yhat): returns the following values:\n",
    "#### sum of squared errors (SSE)\n",
    "#### explained sum of squares (ESS)\n",
    "#### total sum of squares (TSS)\n",
    "#### mean squared error (MSE)\n",
    "#### root mean squared error (RMSE)"
   ]
  },
  {
   "cell_type": "code",
   "execution_count": 70,
   "id": "34f26839",
   "metadata": {},
   "outputs": [
    {
     "data": {
      "text/plain": [
       "(3.782541500316897e+16,\n",
       " 8690758997213477.0,\n",
       " 4.651617400038245e+16,\n",
       " 34496596892.804054,\n",
       " 185732.59512752213)"
      ]
     },
     "execution_count": 70,
     "metadata": {},
     "output_type": "execute_result"
    }
   ],
   "source": [
    "def regression_errors(y, yhat):\n",
    "    MSE = mean_squared_error(y, yhat)\n",
    "    SSE = MSE * len(y)\n",
    "    RMSE = MSE**.5\n",
    "    \n",
    "    ESS = ((yhat - y.mean())**2).sum()\n",
    "    TSS = ESS + SSE\n",
    "    \n",
    "    return SSE, ESS, TSS, MSE, RMSE\n",
    "\n",
    "regression_errors(train.tax_value, train.yhat)"
   ]
  },
  {
   "cell_type": "markdown",
   "id": "bf121a0f",
   "metadata": {},
   "source": [
    "### . baseline_mean_errors(y): computes the SSE, MSE, and RMSE for the baseline model"
   ]
  },
  {
   "cell_type": "code",
   "execution_count": 71,
   "id": "634122c8",
   "metadata": {},
   "outputs": [
    {
     "data": {
      "text/plain": [
       "(4.651617400038222e+16, 42422527376.16448, 205967.2968608475)"
      ]
     },
     "execution_count": 71,
     "metadata": {},
     "output_type": "execute_result"
    }
   ],
   "source": [
    "def baseline_mean_errors(y):\n",
    "    baseline = np.repeat(y.mean(), len(y))\n",
    "    \n",
    "    MSE = mean_squared_error(y, baseline)\n",
    "    SSE = MSE * len(y)\n",
    "    RMSE = MSE**.5\n",
    "    \n",
    "    return SSE, MSE, RMSE\n",
    "\n",
    "baseline_mean_errors(train.tax_value)"
   ]
  },
  {
   "cell_type": "markdown",
   "id": "1d0e0889",
   "metadata": {},
   "source": [
    "### . better_than_baseline(y, yhat): returns true if your model performs better than the baseline, otherwise false"
   ]
  },
  {
   "cell_type": "code",
   "execution_count": 72,
   "id": "b9b1d273",
   "metadata": {},
   "outputs": [
    {
     "name": "stdout",
     "output_type": "stream",
     "text": [
      "My OSL model performs better than baseline\n"
     ]
    }
   ],
   "source": [
    "def better_than_baseline(y, yhat):\n",
    "    SSE, ESS, TSS, MSE, RMSE = regression_errors(y, yhat)\n",
    "    \n",
    "    SSE_baseline, MSE_baseline, RMSE_baseline = baseline_mean_errors(y)\n",
    "    \n",
    "    if SSE < SSE_baseline:\n",
    "        print('My OSL model performs better than baseline')\n",
    "    else:\n",
    "        print('My OSL model performs worse than baseline. :( )')\n",
    "        \n",
    "better_than_baseline(train.tax_value, train.yhat)"
   ]
  },
  {
   "cell_type": "code",
   "execution_count": null,
   "id": "c2f02ca5",
   "metadata": {},
   "outputs": [],
   "source": []
  }
 ],
 "metadata": {
  "kernelspec": {
   "display_name": "Python 3 (ipykernel)",
   "language": "python",
   "name": "python3"
  },
  "language_info": {
   "codemirror_mode": {
    "name": "ipython",
    "version": 3
   },
   "file_extension": ".py",
   "mimetype": "text/x-python",
   "name": "python",
   "nbconvert_exporter": "python",
   "pygments_lexer": "ipython3",
   "version": "3.9.12"
  }
 },
 "nbformat": 4,
 "nbformat_minor": 5
}
