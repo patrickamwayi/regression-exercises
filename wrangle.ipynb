{
 "cells": [
  {
   "cell_type": "code",
   "execution_count": 1,
   "id": "46bdfdf4",
   "metadata": {},
   "outputs": [],
   "source": [
    "import warnings\n",
    "warnings.filterwarnings(\"ignore\")\n",
    "# tabular data stuff: numpy and pandas\n",
    "import numpy as np\n",
    "import pandas as pd\n",
    "# data viz:\n",
    "import matplotlib.pyplot as plt\n",
    "import seaborn as sns\n",
    "\n",
    "import env\n"
   ]
  },
  {
   "cell_type": "code",
   "execution_count": 2,
   "id": "64defa8a",
   "metadata": {},
   "outputs": [],
   "source": [
    "sql='''\n",
    "SELECT bedroomcnt, bathroomcnt, calculatedfinishedsquarefeet, taxvaluedollarcnt, yearbuilt, taxamount, fips\n",
    "FROM properties_2017\n",
    "WHERE propertylandusetypeid=261\n",
    "\n",
    "'''"
   ]
  },
  {
   "cell_type": "markdown",
   "id": "73debb72",
   "metadata": {},
   "source": [
    "### Exercises II\n",
    "### Let's set up an example scenario as perspective for our regression exercises using the Zillow dataset.\n",
    "\n",
    "### As a Codeup data science graduate, you want to show off your skills to the Zillow data science team in hopes of getting an interview for a position you saw pop up on LinkedIn. You thought it might look impressive to build an end-to-end project in which you use some of their Kaggle data to predict property values using some of their available features; who knows, you might even do some feature engineering to blow them away. Your goal is to predict the values of single unit properties using the obervations from 2017.\n",
    "\n",
    "### In these exercises, you will complete the first step toward the above goal: acquire and prepare the necessary Zillow data from the zillow database in the Codeup database server."
   ]
  },
  {
   "cell_type": "markdown",
   "id": "3102ad05",
   "metadata": {},
   "source": [
    "### 1. Acquire bedroomcnt, bathroomcnt, calculatedfinishedsquarefeet, taxvaluedollarcnt, yearbuilt, taxamount, and fips from the zillow database for all 'Single Family Residential' properties."
   ]
  },
  {
   "cell_type": "markdown",
   "id": "9fb2fd65",
   "metadata": {},
   "source": [
    "### 2. Using your acquired Zillow data, walk through the summarization and cleaning steps in your wrangle.ipynb file like we did above. You may handle the missing values however you feel is appropriate and meaningful; remember to document your process and decisions using markdown and code commenting where helpful."
   ]
  },
  {
   "cell_type": "markdown",
   "id": "9c2ec179",
   "metadata": {},
   "source": [
    "### 3. Store all of the necessary functions to automate your process from acquiring the data to returning a cleaned dataframe with no missing values in your wrangle.py file. Name your final function wrangle_zillow."
   ]
  },
  {
   "cell_type": "code",
   "execution_count": 3,
   "id": "f6dff18e",
   "metadata": {},
   "outputs": [],
   "source": [
    "database_url_base = f'mysql+pymysql://{env.username}:{env.password}@{env.host}/zillow'"
   ]
  },
  {
   "cell_type": "code",
   "execution_count": 4,
   "id": "67b2cbb1",
   "metadata": {},
   "outputs": [
    {
     "data": {
      "text/html": [
       "<div>\n",
       "<style scoped>\n",
       "    .dataframe tbody tr th:only-of-type {\n",
       "        vertical-align: middle;\n",
       "    }\n",
       "\n",
       "    .dataframe tbody tr th {\n",
       "        vertical-align: top;\n",
       "    }\n",
       "\n",
       "    .dataframe thead th {\n",
       "        text-align: right;\n",
       "    }\n",
       "</style>\n",
       "<table border=\"1\" class=\"dataframe\">\n",
       "  <thead>\n",
       "    <tr style=\"text-align: right;\">\n",
       "      <th></th>\n",
       "      <th>bedroomcnt</th>\n",
       "      <th>bathroomcnt</th>\n",
       "      <th>calculatedfinishedsquarefeet</th>\n",
       "      <th>taxvaluedollarcnt</th>\n",
       "      <th>yearbuilt</th>\n",
       "      <th>taxamount</th>\n",
       "      <th>fips</th>\n",
       "    </tr>\n",
       "  </thead>\n",
       "  <tbody>\n",
       "    <tr>\n",
       "      <th>0</th>\n",
       "      <td>0.0</td>\n",
       "      <td>0.0</td>\n",
       "      <td>NaN</td>\n",
       "      <td>27516.0</td>\n",
       "      <td>NaN</td>\n",
       "      <td>NaN</td>\n",
       "      <td>6037.0</td>\n",
       "    </tr>\n",
       "    <tr>\n",
       "      <th>1</th>\n",
       "      <td>0.0</td>\n",
       "      <td>0.0</td>\n",
       "      <td>NaN</td>\n",
       "      <td>10.0</td>\n",
       "      <td>NaN</td>\n",
       "      <td>NaN</td>\n",
       "      <td>6037.0</td>\n",
       "    </tr>\n",
       "    <tr>\n",
       "      <th>2</th>\n",
       "      <td>0.0</td>\n",
       "      <td>0.0</td>\n",
       "      <td>NaN</td>\n",
       "      <td>10.0</td>\n",
       "      <td>NaN</td>\n",
       "      <td>NaN</td>\n",
       "      <td>6037.0</td>\n",
       "    </tr>\n",
       "    <tr>\n",
       "      <th>3</th>\n",
       "      <td>0.0</td>\n",
       "      <td>0.0</td>\n",
       "      <td>NaN</td>\n",
       "      <td>2108.0</td>\n",
       "      <td>NaN</td>\n",
       "      <td>174.21</td>\n",
       "      <td>6037.0</td>\n",
       "    </tr>\n",
       "    <tr>\n",
       "      <th>4</th>\n",
       "      <td>4.0</td>\n",
       "      <td>2.0</td>\n",
       "      <td>3633.0</td>\n",
       "      <td>296425.0</td>\n",
       "      <td>2005.0</td>\n",
       "      <td>6941.39</td>\n",
       "      <td>6037.0</td>\n",
       "    </tr>\n",
       "    <tr>\n",
       "      <th>...</th>\n",
       "      <td>...</td>\n",
       "      <td>...</td>\n",
       "      <td>...</td>\n",
       "      <td>...</td>\n",
       "      <td>...</td>\n",
       "      <td>...</td>\n",
       "      <td>...</td>\n",
       "    </tr>\n",
       "    <tr>\n",
       "      <th>2152858</th>\n",
       "      <td>4.0</td>\n",
       "      <td>3.0</td>\n",
       "      <td>2262.0</td>\n",
       "      <td>960756.0</td>\n",
       "      <td>2015.0</td>\n",
       "      <td>13494.52</td>\n",
       "      <td>6059.0</td>\n",
       "    </tr>\n",
       "    <tr>\n",
       "      <th>2152859</th>\n",
       "      <td>4.0</td>\n",
       "      <td>4.5</td>\n",
       "      <td>3127.0</td>\n",
       "      <td>536061.0</td>\n",
       "      <td>2014.0</td>\n",
       "      <td>6244.16</td>\n",
       "      <td>6059.0</td>\n",
       "    </tr>\n",
       "    <tr>\n",
       "      <th>2152860</th>\n",
       "      <td>0.0</td>\n",
       "      <td>0.0</td>\n",
       "      <td>NaN</td>\n",
       "      <td>208057.0</td>\n",
       "      <td>NaN</td>\n",
       "      <td>5783.88</td>\n",
       "      <td>6059.0</td>\n",
       "    </tr>\n",
       "    <tr>\n",
       "      <th>2152861</th>\n",
       "      <td>3.0</td>\n",
       "      <td>2.5</td>\n",
       "      <td>1974.0</td>\n",
       "      <td>424353.0</td>\n",
       "      <td>2015.0</td>\n",
       "      <td>5302.70</td>\n",
       "      <td>6059.0</td>\n",
       "    </tr>\n",
       "    <tr>\n",
       "      <th>2152862</th>\n",
       "      <td>4.0</td>\n",
       "      <td>4.0</td>\n",
       "      <td>2110.0</td>\n",
       "      <td>554009.0</td>\n",
       "      <td>2014.0</td>\n",
       "      <td>6761.20</td>\n",
       "      <td>6037.0</td>\n",
       "    </tr>\n",
       "  </tbody>\n",
       "</table>\n",
       "<p>2152863 rows × 7 columns</p>\n",
       "</div>"
      ],
      "text/plain": [
       "         bedroomcnt  bathroomcnt  calculatedfinishedsquarefeet  \\\n",
       "0               0.0          0.0                           NaN   \n",
       "1               0.0          0.0                           NaN   \n",
       "2               0.0          0.0                           NaN   \n",
       "3               0.0          0.0                           NaN   \n",
       "4               4.0          2.0                        3633.0   \n",
       "...             ...          ...                           ...   \n",
       "2152858         4.0          3.0                        2262.0   \n",
       "2152859         4.0          4.5                        3127.0   \n",
       "2152860         0.0          0.0                           NaN   \n",
       "2152861         3.0          2.5                        1974.0   \n",
       "2152862         4.0          4.0                        2110.0   \n",
       "\n",
       "         taxvaluedollarcnt  yearbuilt  taxamount    fips  \n",
       "0                  27516.0        NaN        NaN  6037.0  \n",
       "1                     10.0        NaN        NaN  6037.0  \n",
       "2                     10.0        NaN        NaN  6037.0  \n",
       "3                   2108.0        NaN     174.21  6037.0  \n",
       "4                 296425.0     2005.0    6941.39  6037.0  \n",
       "...                    ...        ...        ...     ...  \n",
       "2152858           960756.0     2015.0   13494.52  6059.0  \n",
       "2152859           536061.0     2014.0    6244.16  6059.0  \n",
       "2152860           208057.0        NaN    5783.88  6059.0  \n",
       "2152861           424353.0     2015.0    5302.70  6059.0  \n",
       "2152862           554009.0     2014.0    6761.20  6037.0  \n",
       "\n",
       "[2152863 rows x 7 columns]"
      ]
     },
     "execution_count": 4,
     "metadata": {},
     "output_type": "execute_result"
    }
   ],
   "source": [
    "#acquire dataframe\n",
    "df = pd.read_sql(sql, database_url_base)\n",
    "df"
   ]
  },
  {
   "cell_type": "code",
   "execution_count": 5,
   "id": "e4954397",
   "metadata": {},
   "outputs": [
    {
     "name": "stdout",
     "output_type": "stream",
     "text": [
      "<class 'pandas.core.frame.DataFrame'>\n",
      "RangeIndex: 2152863 entries, 0 to 2152862\n",
      "Data columns (total 7 columns):\n",
      " #   Column                        Non-Null Count    Dtype  \n",
      "---  ------                        --------------    -----  \n",
      " 0   bedroomcnt                    2152852 non-null  float64\n",
      " 1   bathroomcnt                   2152852 non-null  float64\n",
      " 2   calculatedfinishedsquarefeet  2144379 non-null  float64\n",
      " 3   taxvaluedollarcnt             2152370 non-null  float64\n",
      " 4   yearbuilt                     2143526 non-null  float64\n",
      " 5   taxamount                     2148421 non-null  float64\n",
      " 6   fips                          2152863 non-null  float64\n",
      "dtypes: float64(7)\n",
      "memory usage: 115.0 MB\n"
     ]
    }
   ],
   "source": [
    "#show info with counts\n",
    "df.info(show_counts=True)"
   ]
  },
  {
   "cell_type": "code",
   "execution_count": 6,
   "id": "4150e3b5",
   "metadata": {},
   "outputs": [
    {
     "data": {
      "text/html": [
       "<div>\n",
       "<style scoped>\n",
       "    .dataframe tbody tr th:only-of-type {\n",
       "        vertical-align: middle;\n",
       "    }\n",
       "\n",
       "    .dataframe tbody tr th {\n",
       "        vertical-align: top;\n",
       "    }\n",
       "\n",
       "    .dataframe thead th {\n",
       "        text-align: right;\n",
       "    }\n",
       "</style>\n",
       "<table border=\"1\" class=\"dataframe\">\n",
       "  <thead>\n",
       "    <tr style=\"text-align: right;\">\n",
       "      <th></th>\n",
       "      <th>bedroomcnt</th>\n",
       "      <th>bathroomcnt</th>\n",
       "      <th>calculatedfinishedsquarefeet</th>\n",
       "      <th>taxvaluedollarcnt</th>\n",
       "      <th>yearbuilt</th>\n",
       "      <th>taxamount</th>\n",
       "      <th>fips</th>\n",
       "    </tr>\n",
       "  </thead>\n",
       "  <tbody>\n",
       "    <tr>\n",
       "      <th>0</th>\n",
       "      <td>0.0</td>\n",
       "      <td>0.0</td>\n",
       "      <td>NaN</td>\n",
       "      <td>27516.0</td>\n",
       "      <td>NaN</td>\n",
       "      <td>NaN</td>\n",
       "      <td>6037.0</td>\n",
       "    </tr>\n",
       "    <tr>\n",
       "      <th>1</th>\n",
       "      <td>0.0</td>\n",
       "      <td>0.0</td>\n",
       "      <td>NaN</td>\n",
       "      <td>10.0</td>\n",
       "      <td>NaN</td>\n",
       "      <td>NaN</td>\n",
       "      <td>6037.0</td>\n",
       "    </tr>\n",
       "    <tr>\n",
       "      <th>2</th>\n",
       "      <td>0.0</td>\n",
       "      <td>0.0</td>\n",
       "      <td>NaN</td>\n",
       "      <td>10.0</td>\n",
       "      <td>NaN</td>\n",
       "      <td>NaN</td>\n",
       "      <td>6037.0</td>\n",
       "    </tr>\n",
       "    <tr>\n",
       "      <th>3</th>\n",
       "      <td>0.0</td>\n",
       "      <td>0.0</td>\n",
       "      <td>NaN</td>\n",
       "      <td>2108.0</td>\n",
       "      <td>NaN</td>\n",
       "      <td>174.21</td>\n",
       "      <td>6037.0</td>\n",
       "    </tr>\n",
       "    <tr>\n",
       "      <th>4</th>\n",
       "      <td>4.0</td>\n",
       "      <td>2.0</td>\n",
       "      <td>3633.0</td>\n",
       "      <td>296425.0</td>\n",
       "      <td>2005.0</td>\n",
       "      <td>6941.39</td>\n",
       "      <td>6037.0</td>\n",
       "    </tr>\n",
       "  </tbody>\n",
       "</table>\n",
       "</div>"
      ],
      "text/plain": [
       "   bedroomcnt  bathroomcnt  calculatedfinishedsquarefeet  taxvaluedollarcnt  \\\n",
       "0         0.0          0.0                           NaN            27516.0   \n",
       "1         0.0          0.0                           NaN               10.0   \n",
       "2         0.0          0.0                           NaN               10.0   \n",
       "3         0.0          0.0                           NaN             2108.0   \n",
       "4         4.0          2.0                        3633.0           296425.0   \n",
       "\n",
       "   yearbuilt  taxamount    fips  \n",
       "0        NaN        NaN  6037.0  \n",
       "1        NaN        NaN  6037.0  \n",
       "2        NaN        NaN  6037.0  \n",
       "3        NaN     174.21  6037.0  \n",
       "4     2005.0    6941.39  6037.0  "
      ]
     },
     "execution_count": 6,
     "metadata": {},
     "output_type": "execute_result"
    }
   ],
   "source": [
    "#look at dataframe\n",
    "df.head()"
   ]
  },
  {
   "cell_type": "code",
   "execution_count": 7,
   "id": "e3496785",
   "metadata": {},
   "outputs": [
    {
     "data": {
      "text/plain": [
       "(15070041, (2152863, 7))"
      ]
     },
     "execution_count": 7,
     "metadata": {},
     "output_type": "execute_result"
    }
   ],
   "source": [
    "# 2152863 rows and 7 columns coming in.\n",
    "\n",
    "df.size, df.shape"
   ]
  },
  {
   "cell_type": "code",
   "execution_count": 8,
   "id": "e9b9da1e",
   "metadata": {},
   "outputs": [
    {
     "data": {
      "text/html": [
       "<div>\n",
       "<style scoped>\n",
       "    .dataframe tbody tr th:only-of-type {\n",
       "        vertical-align: middle;\n",
       "    }\n",
       "\n",
       "    .dataframe tbody tr th {\n",
       "        vertical-align: top;\n",
       "    }\n",
       "\n",
       "    .dataframe thead th {\n",
       "        text-align: right;\n",
       "    }\n",
       "</style>\n",
       "<table border=\"1\" class=\"dataframe\">\n",
       "  <thead>\n",
       "    <tr style=\"text-align: right;\">\n",
       "      <th></th>\n",
       "      <th>count</th>\n",
       "      <th>mean</th>\n",
       "      <th>std</th>\n",
       "      <th>min</th>\n",
       "      <th>25%</th>\n",
       "      <th>50%</th>\n",
       "      <th>75%</th>\n",
       "      <th>max</th>\n",
       "    </tr>\n",
       "  </thead>\n",
       "  <tbody>\n",
       "    <tr>\n",
       "      <th>bedroomcnt</th>\n",
       "      <td>2152852.0</td>\n",
       "      <td>3.287196</td>\n",
       "      <td>0.954754</td>\n",
       "      <td>0.00</td>\n",
       "      <td>3.00</td>\n",
       "      <td>3.00</td>\n",
       "      <td>4.00</td>\n",
       "      <td>25.00</td>\n",
       "    </tr>\n",
       "    <tr>\n",
       "      <th>bathroomcnt</th>\n",
       "      <td>2152852.0</td>\n",
       "      <td>2.230688</td>\n",
       "      <td>0.999280</td>\n",
       "      <td>0.00</td>\n",
       "      <td>2.00</td>\n",
       "      <td>2.00</td>\n",
       "      <td>3.00</td>\n",
       "      <td>32.00</td>\n",
       "    </tr>\n",
       "    <tr>\n",
       "      <th>calculatedfinishedsquarefeet</th>\n",
       "      <td>2144379.0</td>\n",
       "      <td>1862.855178</td>\n",
       "      <td>1222.125124</td>\n",
       "      <td>1.00</td>\n",
       "      <td>1257.00</td>\n",
       "      <td>1623.00</td>\n",
       "      <td>2208.00</td>\n",
       "      <td>952576.00</td>\n",
       "    </tr>\n",
       "    <tr>\n",
       "      <th>taxvaluedollarcnt</th>\n",
       "      <td>2152370.0</td>\n",
       "      <td>461896.237963</td>\n",
       "      <td>699676.049600</td>\n",
       "      <td>1.00</td>\n",
       "      <td>188170.25</td>\n",
       "      <td>327671.00</td>\n",
       "      <td>534527.00</td>\n",
       "      <td>98428909.00</td>\n",
       "    </tr>\n",
       "    <tr>\n",
       "      <th>yearbuilt</th>\n",
       "      <td>2143526.0</td>\n",
       "      <td>1960.949681</td>\n",
       "      <td>22.162196</td>\n",
       "      <td>1801.00</td>\n",
       "      <td>1949.00</td>\n",
       "      <td>1958.00</td>\n",
       "      <td>1976.00</td>\n",
       "      <td>2016.00</td>\n",
       "    </tr>\n",
       "    <tr>\n",
       "      <th>taxamount</th>\n",
       "      <td>2148421.0</td>\n",
       "      <td>5634.865978</td>\n",
       "      <td>8178.910249</td>\n",
       "      <td>1.85</td>\n",
       "      <td>2534.98</td>\n",
       "      <td>4108.95</td>\n",
       "      <td>6414.32</td>\n",
       "      <td>1337755.86</td>\n",
       "    </tr>\n",
       "    <tr>\n",
       "      <th>fips</th>\n",
       "      <td>2152863.0</td>\n",
       "      <td>6048.377335</td>\n",
       "      <td>20.433292</td>\n",
       "      <td>6037.00</td>\n",
       "      <td>6037.00</td>\n",
       "      <td>6037.00</td>\n",
       "      <td>6059.00</td>\n",
       "      <td>6111.00</td>\n",
       "    </tr>\n",
       "  </tbody>\n",
       "</table>\n",
       "</div>"
      ],
      "text/plain": [
       "                                  count           mean            std  \\\n",
       "bedroomcnt                    2152852.0       3.287196       0.954754   \n",
       "bathroomcnt                   2152852.0       2.230688       0.999280   \n",
       "calculatedfinishedsquarefeet  2144379.0    1862.855178    1222.125124   \n",
       "taxvaluedollarcnt             2152370.0  461896.237963  699676.049600   \n",
       "yearbuilt                     2143526.0    1960.949681      22.162196   \n",
       "taxamount                     2148421.0    5634.865978    8178.910249   \n",
       "fips                          2152863.0    6048.377335      20.433292   \n",
       "\n",
       "                                  min        25%        50%        75%  \\\n",
       "bedroomcnt                       0.00       3.00       3.00       4.00   \n",
       "bathroomcnt                      0.00       2.00       2.00       3.00   \n",
       "calculatedfinishedsquarefeet     1.00    1257.00    1623.00    2208.00   \n",
       "taxvaluedollarcnt                1.00  188170.25  327671.00  534527.00   \n",
       "yearbuilt                     1801.00    1949.00    1958.00    1976.00   \n",
       "taxamount                        1.85    2534.98    4108.95    6414.32   \n",
       "fips                          6037.00    6037.00    6037.00    6059.00   \n",
       "\n",
       "                                      max  \n",
       "bedroomcnt                          25.00  \n",
       "bathroomcnt                         32.00  \n",
       "calculatedfinishedsquarefeet    952576.00  \n",
       "taxvaluedollarcnt             98428909.00  \n",
       "yearbuilt                         2016.00  \n",
       "taxamount                      1337755.86  \n",
       "fips                              6111.00  "
      ]
     },
     "execution_count": 8,
     "metadata": {},
     "output_type": "execute_result"
    }
   ],
   "source": [
    "#display numerical values\n",
    "df.describe().T"
   ]
  },
  {
   "cell_type": "code",
   "execution_count": 9,
   "id": "44c19650",
   "metadata": {},
   "outputs": [
    {
     "name": "stdout",
     "output_type": "stream",
     "text": [
      "<class 'pandas.core.frame.DataFrame'>\n",
      "RangeIndex: 2152863 entries, 0 to 2152862\n",
      "Data columns (total 7 columns):\n",
      " #   Column                        Dtype  \n",
      "---  ------                        -----  \n",
      " 0   bedroomcnt                    float64\n",
      " 1   bathroomcnt                   float64\n",
      " 2   calculatedfinishedsquarefeet  float64\n",
      " 3   taxvaluedollarcnt             float64\n",
      " 4   yearbuilt                     float64\n",
      " 5   taxamount                     float64\n",
      " 6   fips                          float64\n",
      "dtypes: float64(7)\n",
      "memory usage: 115.0 MB\n"
     ]
    }
   ],
   "source": [
    "#run info to see numeric dataframe\n",
    "df.info()"
   ]
  },
  {
   "cell_type": "markdown",
   "id": "69a231a5",
   "metadata": {},
   "source": [
    "### Prepare data"
   ]
  },
  {
   "cell_type": "code",
   "execution_count": 10,
   "id": "08fa184d",
   "metadata": {},
   "outputs": [
    {
     "data": {
      "text/plain": [
       "bedroomcnt                        11\n",
       "bathroomcnt                       11\n",
       "calculatedfinishedsquarefeet    8484\n",
       "taxvaluedollarcnt                493\n",
       "yearbuilt                       9337\n",
       "taxamount                       4442\n",
       "fips                               0\n",
       "dtype: int64"
      ]
     },
     "execution_count": 10,
     "metadata": {},
     "output_type": "execute_result"
    }
   ],
   "source": [
    "#prepare the data check sum of null values\n",
    "df.isna().sum()"
   ]
  },
  {
   "cell_type": "code",
   "execution_count": 12,
   "id": "1ad9a882",
   "metadata": {},
   "outputs": [
    {
     "data": {
      "text/plain": [
       "bedroomcnt                       True\n",
       "bathroomcnt                      True\n",
       "calculatedfinishedsquarefeet     True\n",
       "taxvaluedollarcnt                True\n",
       "yearbuilt                        True\n",
       "taxamount                        True\n",
       "fips                            False\n",
       "dtype: bool"
      ]
     },
     "execution_count": 12,
     "metadata": {},
     "output_type": "execute_result"
    }
   ],
   "source": [
    "# Check for any Null values in each column of our DataFrame.\n",
    "df.isna().any()"
   ]
  },
  {
   "cell_type": "code",
   "execution_count": 13,
   "id": "5cc61ecf",
   "metadata": {},
   "outputs": [
    {
     "data": {
      "text/plain": [
       "bedroomcnt                      0.000511\n",
       "bathroomcnt                     0.000511\n",
       "calculatedfinishedsquarefeet    0.394080\n",
       "taxvaluedollarcnt               0.022900\n",
       "yearbuilt                       0.433702\n",
       "taxamount                       0.206330\n",
       "fips                            0.000000\n",
       "dtype: float64"
      ]
     },
     "execution_count": 13,
     "metadata": {},
     "output_type": "execute_result"
    }
   ],
   "source": [
    "# find null percentage null\n",
    "df.isna().mean().mul(100)"
   ]
  },
  {
   "cell_type": "code",
   "execution_count": 14,
   "id": "851719a1",
   "metadata": {},
   "outputs": [],
   "source": [
    "#drop all the null and assign \n",
    "df=df.dropna()"
   ]
  },
  {
   "cell_type": "markdown",
   "id": "3a58ebea",
   "metadata": {},
   "source": [
    "### Finding odd values"
   ]
  },
  {
   "cell_type": "code",
   "execution_count": 15,
   "id": "27432aab",
   "metadata": {},
   "outputs": [
    {
     "name": "stdout",
     "output_type": "stream",
     "text": [
      "<class 'pandas.core.frame.DataFrame'>\n",
      "Int64Index: 2140235 entries, 4 to 2152862\n",
      "Data columns (total 7 columns):\n",
      " #   Column                        Non-Null Count    Dtype  \n",
      "---  ------                        --------------    -----  \n",
      " 0   bedroomcnt                    2140235 non-null  float64\n",
      " 1   bathroomcnt                   2140235 non-null  float64\n",
      " 2   calculatedfinishedsquarefeet  2140235 non-null  float64\n",
      " 3   taxvaluedollarcnt             2140235 non-null  float64\n",
      " 4   yearbuilt                     2140235 non-null  float64\n",
      " 5   taxamount                     2140235 non-null  float64\n",
      " 6   fips                          2140235 non-null  float64\n",
      "dtypes: float64(7)\n",
      "memory usage: 130.6 MB\n"
     ]
    }
   ],
   "source": [
    "df.info(show_counts = True)"
   ]
  },
  {
   "cell_type": "code",
   "execution_count": 16,
   "id": "c5844f4a",
   "metadata": {},
   "outputs": [
    {
     "data": {
      "text/plain": [
       "3.0     962944\n",
       "4.0     633608\n",
       "2.0     334221\n",
       "5.0     150671\n",
       "6.0      25117\n",
       "1.0      22895\n",
       "7.0       4792\n",
       "0.0       4397\n",
       "8.0       1103\n",
       "9.0        290\n",
       "10.0       118\n",
       "11.0        34\n",
       "13.0        15\n",
       "12.0        12\n",
       "14.0         7\n",
       "15.0         5\n",
       "18.0         3\n",
       "16.0         2\n",
       "25.0         1\n",
       "Name: bedroomcnt, dtype: int64"
      ]
     },
     "execution_count": 16,
     "metadata": {},
     "output_type": "execute_result"
    }
   ],
   "source": [
    "#check bedroom count and change to int\n",
    "df.bedroomcnt.value_counts()"
   ]
  },
  {
   "cell_type": "code",
   "execution_count": 17,
   "id": "49cb0f9a",
   "metadata": {},
   "outputs": [],
   "source": [
    "#convert float to int\n",
    "df.bedroomcnt = df.bedroomcnt.astype(\"int64\")"
   ]
  },
  {
   "cell_type": "code",
   "execution_count": 18,
   "id": "5ff6c006",
   "metadata": {},
   "outputs": [
    {
     "data": {
      "text/plain": [
       "2.00     942463\n",
       "3.00     422398\n",
       "1.00     412582\n",
       "2.50     142827\n",
       "4.00      82039\n",
       "1.50      31157\n",
       "3.50      28464\n",
       "5.00      28306\n",
       "4.50      19474\n",
       "6.00      10717\n",
       "5.50       6201\n",
       "7.00       4381\n",
       "0.00       4274\n",
       "8.00       1681\n",
       "6.50       1330\n",
       "9.00        707\n",
       "7.50        382\n",
       "10.00       322\n",
       "11.00       145\n",
       "8.50        108\n",
       "12.00        73\n",
       "9.50         50\n",
       "13.00        39\n",
       "14.00        25\n",
       "15.00        17\n",
       "0.50         16\n",
       "10.50        14\n",
       "16.00        12\n",
       "18.00         8\n",
       "20.00         6\n",
       "17.00         4\n",
       "1.75          3\n",
       "12.50         3\n",
       "11.50         3\n",
       "19.50         1\n",
       "14.50         1\n",
       "32.00         1\n",
       "19.00         1\n",
       "Name: bathroomcnt, dtype: int64"
      ]
     },
     "execution_count": 18,
     "metadata": {},
     "output_type": "execute_result"
    }
   ],
   "source": [
    "#value count for bathroom\n",
    "df.bathroomcnt.value_counts()"
   ]
  },
  {
   "cell_type": "code",
   "execution_count": 19,
   "id": "d9c5942c",
   "metadata": {},
   "outputs": [
    {
     "data": {
      "text/plain": [
       "1200.0     5184\n",
       "1080.0     4376\n",
       "1120.0     4354\n",
       "1400.0     3828\n",
       "1440.0     3684\n",
       "           ... \n",
       "10180.0       1\n",
       "13169.0       1\n",
       "9095.0        1\n",
       "10525.0       1\n",
       "24920.0       1\n",
       "Name: calculatedfinishedsquarefeet, Length: 10557, dtype: int64"
      ]
     },
     "execution_count": 19,
     "metadata": {},
     "output_type": "execute_result"
    }
   ],
   "source": [
    "#get value count\n",
    "df.calculatedfinishedsquarefeet.value_counts()"
   ]
  },
  {
   "cell_type": "markdown",
   "id": "647675b9",
   "metadata": {},
   "source": [
    "### Convert data types"
   ]
  },
  {
   "cell_type": "code",
   "execution_count": 20,
   "id": "1255aa39",
   "metadata": {},
   "outputs": [
    {
     "data": {
      "text/plain": [
       "1.0"
      ]
     },
     "execution_count": 20,
     "metadata": {},
     "output_type": "execute_result"
    }
   ],
   "source": [
    "#check for data loss\n",
    "df.yearbuilt.mean()/df.yearbuilt.astype(\"int64\").mean()"
   ]
  },
  {
   "cell_type": "code",
   "execution_count": 21,
   "id": "88002cc8",
   "metadata": {},
   "outputs": [],
   "source": [
    "#no data loss, convert to int\n",
    "df.yearbuilt = df.yearbuilt.astype(\"int64\")"
   ]
  },
  {
   "cell_type": "code",
   "execution_count": 22,
   "id": "afb2b79c",
   "metadata": {},
   "outputs": [
    {
     "data": {
      "text/plain": [
       "345.72      172\n",
       "344.18       76\n",
       "343.52       74\n",
       "49.18        46\n",
       "388.18       37\n",
       "           ... \n",
       "8191.38       1\n",
       "11627.92      1\n",
       "15008.68      1\n",
       "9227.22       1\n",
       "13494.52      1\n",
       "Name: taxamount, Length: 915868, dtype: int64"
      ]
     },
     "execution_count": 22,
     "metadata": {},
     "output_type": "execute_result"
    }
   ],
   "source": [
    "#continuos data\n",
    "df.taxamount.value_counts()"
   ]
  },
  {
   "cell_type": "code",
   "execution_count": 23,
   "id": "cbc08aad",
   "metadata": {},
   "outputs": [
    {
     "data": {
      "text/plain": [
       "6037.0    1425207\n",
       "6059.0     552057\n",
       "6111.0     162971\n",
       "Name: fips, dtype: int64"
      ]
     },
     "execution_count": 23,
     "metadata": {},
     "output_type": "execute_result"
    }
   ],
   "source": [
    "#value count of fips\n",
    "df.fips.value_counts()"
   ]
  },
  {
   "cell_type": "code",
   "execution_count": 24,
   "id": "161a0d08",
   "metadata": {},
   "outputs": [],
   "source": [
    "# convert fips into int \n",
    "df.fips = df.fips.astype(\"int64\")"
   ]
  },
  {
   "cell_type": "code",
   "execution_count": 35,
   "id": "9c9c6bc4",
   "metadata": {},
   "outputs": [],
   "source": [
    "#convert bathroomcnt into int\n",
    "df.bathroomcnt = df.bathroomcnt.astype(\"int64\")"
   ]
  },
  {
   "cell_type": "code",
   "execution_count": 41,
   "id": "2bae860a",
   "metadata": {},
   "outputs": [],
   "source": [
    "#convert calculatedfinishedsquarefeet into int\n",
    "df.calculatedfinishedsquarefeet = df.calculatedfinishedsquarefeet.astype(\"int64\")"
   ]
  },
  {
   "cell_type": "code",
   "execution_count": 43,
   "id": "148dc65b",
   "metadata": {},
   "outputs": [],
   "source": [
    "# convert taxvaluedollarcnt into int \n",
    "df.taxvaluedollarcnt = df.taxvaluedollarcnt.astype(\"int64\")"
   ]
  },
  {
   "cell_type": "code",
   "execution_count": 45,
   "id": "2d4898fa",
   "metadata": {},
   "outputs": [],
   "source": [
    "# convert taxamount into int \n",
    "df.taxamount = df.taxamount.astype(\"int64\")"
   ]
  },
  {
   "cell_type": "code",
   "execution_count": 46,
   "id": "a17cfd0b",
   "metadata": {},
   "outputs": [
    {
     "name": "stdout",
     "output_type": "stream",
     "text": [
      "<class 'pandas.core.frame.DataFrame'>\n",
      "Int64Index: 2140235 entries, 4 to 2152862\n",
      "Data columns (total 7 columns):\n",
      " #   Column                        Dtype\n",
      "---  ------                        -----\n",
      " 0   bedroomcnt                    int64\n",
      " 1   bathroomcnt                   int64\n",
      " 2   calculatedfinishedsquarefeet  int64\n",
      " 3   taxvaluedollarcnt             int64\n",
      " 4   yearbuilt                     int64\n",
      " 5   taxamount                     int64\n",
      " 6   fips                          int64\n",
      "dtypes: int64(7)\n",
      "memory usage: 195.1 MB\n"
     ]
    }
   ],
   "source": [
    "#how did casting work?\n",
    "df.info()"
   ]
  },
  {
   "cell_type": "markdown",
   "id": "5251ee44",
   "metadata": {},
   "source": [
    "### Visualize distributions"
   ]
  },
  {
   "cell_type": "code",
   "execution_count": 48,
   "id": "d20d9675",
   "metadata": {},
   "outputs": [
    {
     "data": {
      "image/png": "[encoded data removed]",
      "text/plain": [
       "<Figure size 432x288 with 1 Axes>"
      ]
     },
     "metadata": {
      "needs_background": "light"
     },
     "output_type": "display_data"
    },
    {
     "data": {
      "image/png": "[encoded data removed]",
      "text/plain": [
       "<Figure size 432x288 with 1 Axes>"
      ]
     },
     "metadata": {
      "needs_background": "light"
     },
     "output_type": "display_data"
    },
    {
     "data": {
      "image/png": "[encoded data removed]",
      "text/plain": [
       "<Figure size 432x288 with 1 Axes>"
      ]
     },
     "metadata": {
      "needs_background": "light"
     },
     "output_type": "display_data"
    },
    {
     "data": {
      "image/png": "[encoded data removed]",
      "text/plain": [
       "<Figure size 432x288 with 1 Axes>"
      ]
     },
     "metadata": {
      "needs_background": "light"
     },
     "output_type": "display_data"
    },
    {
     "data": {
      "image/png": "[encoded data removed]",
      "text/plain": [
       "<Figure size 432x288 with 1 Axes>"
      ]
     },
     "metadata": {
      "needs_background": "light"
     },
     "output_type": "display_data"
    },
    {
     "data": {
      "image/png": "[encoded data removed]",
      "text/plain": [
       "<Figure size 432x288 with 1 Axes>"
      ]
     },
     "metadata": {
      "needs_background": "light"
     },
     "output_type": "display_data"
    },
    {
     "data": {
      "image/png": "[encoded data removed]",
      "text/plain": [
       "<Figure size 432x288 with 1 Axes>"
      ]
     },
     "metadata": {
      "needs_background": "light"
     },
     "output_type": "display_data"
    }
   ],
   "source": [
    "#plot histoplot to see distribution of data\n",
    "for i in df.columns:\n",
    "    sns.histplot(df[i], bins = 20)\n",
    "    plt.title(i)\n",
    "    plt.show()"
   ]
  },
  {
   "cell_type": "code",
   "execution_count": null,
   "id": "d28ef6d0",
   "metadata": {},
   "outputs": [],
   "source": []
  }
 ],
 "metadata": {
  "kernelspec": {
   "display_name": "Python 3 (ipykernel)",
   "language": "python",
   "name": "python3"
  },
  "language_info": {
   "codemirror_mode": {
    "name": "ipython",
    "version": 3
   },
   "file_extension": ".py",
   "mimetype": "text/x-python",
   "name": "python",
   "nbconvert_exporter": "python",
   "pygments_lexer": "ipython3",
   "version": "3.9.12"
  }
 },
 "nbformat": 4,
 "nbformat_minor": 5
}
