{
 "cells": [
  {
   "cell_type": "code",
   "execution_count": 1,
   "id": "481d5ada",
   "metadata": {},
   "outputs": [],
   "source": [
    "import warnings\n",
    "warnings.filterwarnings(\"ignore\")\n",
    "# tabular data stuff: numpy and pandas\n",
    "import numpy as np\n",
    "import pandas as pd\n",
    "# data viz:\n",
    "import matplotlib.pyplot as plt\n",
    "import seaborn as sns\n",
    "\n",
    "import env\n"
   ]
  },
  {
   "cell_type": "code",
   "execution_count": 2,
   "id": "64797572",
   "metadata": {},
   "outputs": [],
   "source": [
    "sql='''\n",
    "SELECT bedroomcnt, bathroomcnt, calculatedfinishedsquarefeet, taxvaluedollarcnt, yearbuilt, taxamount, fips\n",
    "FROM properties_2017\n",
    "WHERE propertylandusetypeid=261\n",
    "\n",
    "'''"
   ]
  },
  {
   "cell_type": "markdown",
   "id": "b1e2d478",
   "metadata": {},
   "source": [
    "### Exercises II\n",
    "### Let's set up an example scenario as perspective for our regression exercises using the Zillow dataset.\n",
    "\n",
    "### As a Codeup data science graduate, you want to show off your skills to the Zillow data science team in hopes of getting an interview for a position you saw pop up on LinkedIn. You thought it might look impressive to build an end-to-end project in which you use some of their Kaggle data to predict property values using some of their available features; who knows, you might even do some feature engineering to blow them away. Your goal is to predict the values of single unit properties using the obervations from 2017.\n",
    "\n",
    "### In these exercises, you will complete the first step toward the above goal: acquire and prepare the necessary Zillow data from the zillow database in the Codeup database server."
   ]
  },
  {
   "cell_type": "markdown",
   "id": "9facc13a",
   "metadata": {},
   "source": [
    "### 1. Acquire bedroomcnt, bathroomcnt, calculatedfinishedsquarefeet, taxvaluedollarcnt, yearbuilt, taxamount, and fips from the zillow database for all 'Single Family Residential' properties."
   ]
  },
  {
   "cell_type": "markdown",
   "id": "652ce3d9",
   "metadata": {},
   "source": [
    "### 2. Using your acquired Zillow data, walk through the summarization and cleaning steps in your wrangle.ipynb file like we did above. You may handle the missing values however you feel is appropriate and meaningful; remember to document your process and decisions using markdown and code commenting where helpful."
   ]
  },
  {
   "cell_type": "markdown",
   "id": "0ed9ab79",
   "metadata": {},
   "source": [
    "### 3. Store all of the necessary functions to automate your process from acquiring the data to returning a cleaned dataframe with no missing values in your wrangle.py file. Name your final function wrangle_zillow."
   ]
  },
  {
   "cell_type": "code",
   "execution_count": 3,
   "id": "1e6f90ca",
   "metadata": {},
   "outputs": [],
   "source": [
    "database_url_base = f'mysql+pymysql://{env.username}:{env.password}@{env.host}/zillow'"
   ]
  },
  {
   "cell_type": "code",
   "execution_count": 4,
   "id": "789d2532",
   "metadata": {},
   "outputs": [
    {
     "data": {
      "text/html": [
       "<div>\n",
       "<style scoped>\n",
       "    .dataframe tbody tr th:only-of-type {\n",
       "        vertical-align: middle;\n",
       "    }\n",
       "\n",
       "    .dataframe tbody tr th {\n",
       "        vertical-align: top;\n",
       "    }\n",
       "\n",
       "    .dataframe thead th {\n",
       "        text-align: right;\n",
       "    }\n",
       "</style>\n",
       "<table border=\"1\" class=\"dataframe\">\n",
       "  <thead>\n",
       "    <tr style=\"text-align: right;\">\n",
       "      <th></th>\n",
       "      <th>bedroomcnt</th>\n",
       "      <th>bathroomcnt</th>\n",
       "      <th>calculatedfinishedsquarefeet</th>\n",
       "      <th>taxvaluedollarcnt</th>\n",
       "      <th>yearbuilt</th>\n",
       "      <th>taxamount</th>\n",
       "      <th>fips</th>\n",
       "    </tr>\n",
       "  </thead>\n",
       "  <tbody>\n",
       "    <tr>\n",
       "      <th>0</th>\n",
       "      <td>0.0</td>\n",
       "      <td>0.0</td>\n",
       "      <td>NaN</td>\n",
       "      <td>27516.0</td>\n",
       "      <td>NaN</td>\n",
       "      <td>NaN</td>\n",
       "      <td>6037.0</td>\n",
       "    </tr>\n",
       "    <tr>\n",
       "      <th>1</th>\n",
       "      <td>0.0</td>\n",
       "      <td>0.0</td>\n",
       "      <td>NaN</td>\n",
       "      <td>10.0</td>\n",
       "      <td>NaN</td>\n",
       "      <td>NaN</td>\n",
       "      <td>6037.0</td>\n",
       "    </tr>\n",
       "    <tr>\n",
       "      <th>2</th>\n",
       "      <td>0.0</td>\n",
       "      <td>0.0</td>\n",
       "      <td>NaN</td>\n",
       "      <td>10.0</td>\n",
       "      <td>NaN</td>\n",
       "      <td>NaN</td>\n",
       "      <td>6037.0</td>\n",
       "    </tr>\n",
       "    <tr>\n",
       "      <th>3</th>\n",
       "      <td>0.0</td>\n",
       "      <td>0.0</td>\n",
       "      <td>NaN</td>\n",
       "      <td>2108.0</td>\n",
       "      <td>NaN</td>\n",
       "      <td>174.21</td>\n",
       "      <td>6037.0</td>\n",
       "    </tr>\n",
       "    <tr>\n",
       "      <th>4</th>\n",
       "      <td>4.0</td>\n",
       "      <td>2.0</td>\n",
       "      <td>3633.0</td>\n",
       "      <td>296425.0</td>\n",
       "      <td>2005.0</td>\n",
       "      <td>6941.39</td>\n",
       "      <td>6037.0</td>\n",
       "    </tr>\n",
       "    <tr>\n",
       "      <th>...</th>\n",
       "      <td>...</td>\n",
       "      <td>...</td>\n",
       "      <td>...</td>\n",
       "      <td>...</td>\n",
       "      <td>...</td>\n",
       "      <td>...</td>\n",
       "      <td>...</td>\n",
       "    </tr>\n",
       "    <tr>\n",
       "      <th>2152858</th>\n",
       "      <td>4.0</td>\n",
       "      <td>3.0</td>\n",
       "      <td>2262.0</td>\n",
       "      <td>960756.0</td>\n",
       "      <td>2015.0</td>\n",
       "      <td>13494.52</td>\n",
       "      <td>6059.0</td>\n",
       "    </tr>\n",
       "    <tr>\n",
       "      <th>2152859</th>\n",
       "      <td>4.0</td>\n",
       "      <td>4.5</td>\n",
       "      <td>3127.0</td>\n",
       "      <td>536061.0</td>\n",
       "      <td>2014.0</td>\n",
       "      <td>6244.16</td>\n",
       "      <td>6059.0</td>\n",
       "    </tr>\n",
       "    <tr>\n",
       "      <th>2152860</th>\n",
       "      <td>0.0</td>\n",
       "      <td>0.0</td>\n",
       "      <td>NaN</td>\n",
       "      <td>208057.0</td>\n",
       "      <td>NaN</td>\n",
       "      <td>5783.88</td>\n",
       "      <td>6059.0</td>\n",
       "    </tr>\n",
       "    <tr>\n",
       "      <th>2152861</th>\n",
       "      <td>3.0</td>\n",
       "      <td>2.5</td>\n",
       "      <td>1974.0</td>\n",
       "      <td>424353.0</td>\n",
       "      <td>2015.0</td>\n",
       "      <td>5302.70</td>\n",
       "      <td>6059.0</td>\n",
       "    </tr>\n",
       "    <tr>\n",
       "      <th>2152862</th>\n",
       "      <td>4.0</td>\n",
       "      <td>4.0</td>\n",
       "      <td>2110.0</td>\n",
       "      <td>554009.0</td>\n",
       "      <td>2014.0</td>\n",
       "      <td>6761.20</td>\n",
       "      <td>6037.0</td>\n",
       "    </tr>\n",
       "  </tbody>\n",
       "</table>\n",
       "<p>2152863 rows × 7 columns</p>\n",
       "</div>"
      ],
      "text/plain": [
       "         bedroomcnt  bathroomcnt  calculatedfinishedsquarefeet  \\\n",
       "0               0.0          0.0                           NaN   \n",
       "1               0.0          0.0                           NaN   \n",
       "2               0.0          0.0                           NaN   \n",
       "3               0.0          0.0                           NaN   \n",
       "4               4.0          2.0                        3633.0   \n",
       "...             ...          ...                           ...   \n",
       "2152858         4.0          3.0                        2262.0   \n",
       "2152859         4.0          4.5                        3127.0   \n",
       "2152860         0.0          0.0                           NaN   \n",
       "2152861         3.0          2.5                        1974.0   \n",
       "2152862         4.0          4.0                        2110.0   \n",
       "\n",
       "         taxvaluedollarcnt  yearbuilt  taxamount    fips  \n",
       "0                  27516.0        NaN        NaN  6037.0  \n",
       "1                     10.0        NaN        NaN  6037.0  \n",
       "2                     10.0        NaN        NaN  6037.0  \n",
       "3                   2108.0        NaN     174.21  6037.0  \n",
       "4                 296425.0     2005.0    6941.39  6037.0  \n",
       "...                    ...        ...        ...     ...  \n",
       "2152858           960756.0     2015.0   13494.52  6059.0  \n",
       "2152859           536061.0     2014.0    6244.16  6059.0  \n",
       "2152860           208057.0        NaN    5783.88  6059.0  \n",
       "2152861           424353.0     2015.0    5302.70  6059.0  \n",
       "2152862           554009.0     2014.0    6761.20  6037.0  \n",
       "\n",
       "[2152863 rows x 7 columns]"
      ]
     },
     "execution_count": 4,
     "metadata": {},
     "output_type": "execute_result"
    }
   ],
   "source": [
    "#acquire dataframe\n",
    "df = pd.read_sql(sql, database_url_base)\n",
    "df"
   ]
  },
  {
   "cell_type": "code",
   "execution_count": 54,
   "id": "0ec844bd",
   "metadata": {},
   "outputs": [
    {
     "name": "stdout",
     "output_type": "stream",
     "text": [
      "<class 'pandas.core.frame.DataFrame'>\n",
      "Int64Index: 2140235 entries, 4 to 2152862\n",
      "Data columns (total 7 columns):\n",
      " #   Column                        Non-Null Count    Dtype\n",
      "---  ------                        --------------    -----\n",
      " 0   bedroomcnt                    2140235 non-null  int64\n",
      " 1   bathroomcnt                   2140235 non-null  int64\n",
      " 2   calculatedfinishedsquarefeet  2140235 non-null  int64\n",
      " 3   taxvaluedollarcnt             2140235 non-null  int64\n",
      " 4   yearbuilt                     2140235 non-null  int64\n",
      " 5   taxamount                     2140235 non-null  int64\n",
      " 6   fips                          2140235 non-null  int64\n",
      "dtypes: int64(7)\n",
      "memory usage: 195.1 MB\n"
     ]
    }
   ],
   "source": [
    "#show info with counts\n",
    "df.info(show_counts=True)"
   ]
  },
  {
   "cell_type": "code",
   "execution_count": 55,
   "id": "cc33ab26",
   "metadata": {},
   "outputs": [
    {
     "data": {
      "text/html": [
       "<div>\n",
       "<style scoped>\n",
       "    .dataframe tbody tr th:only-of-type {\n",
       "        vertical-align: middle;\n",
       "    }\n",
       "\n",
       "    .dataframe tbody tr th {\n",
       "        vertical-align: top;\n",
       "    }\n",
       "\n",
       "    .dataframe thead th {\n",
       "        text-align: right;\n",
       "    }\n",
       "</style>\n",
       "<table border=\"1\" class=\"dataframe\">\n",
       "  <thead>\n",
       "    <tr style=\"text-align: right;\">\n",
       "      <th></th>\n",
       "      <th>bedroomcnt</th>\n",
       "      <th>bathroomcnt</th>\n",
       "      <th>calculatedfinishedsquarefeet</th>\n",
       "      <th>taxvaluedollarcnt</th>\n",
       "      <th>yearbuilt</th>\n",
       "      <th>taxamount</th>\n",
       "      <th>fips</th>\n",
       "    </tr>\n",
       "  </thead>\n",
       "  <tbody>\n",
       "    <tr>\n",
       "      <th>4</th>\n",
       "      <td>4</td>\n",
       "      <td>3633</td>\n",
       "      <td>3633</td>\n",
       "      <td>296425</td>\n",
       "      <td>2005</td>\n",
       "      <td>6941</td>\n",
       "      <td>6037</td>\n",
       "    </tr>\n",
       "    <tr>\n",
       "      <th>6</th>\n",
       "      <td>3</td>\n",
       "      <td>1620</td>\n",
       "      <td>1620</td>\n",
       "      <td>847770</td>\n",
       "      <td>2011</td>\n",
       "      <td>10244</td>\n",
       "      <td>6037</td>\n",
       "    </tr>\n",
       "    <tr>\n",
       "      <th>7</th>\n",
       "      <td>3</td>\n",
       "      <td>2077</td>\n",
       "      <td>2077</td>\n",
       "      <td>646760</td>\n",
       "      <td>1926</td>\n",
       "      <td>7924</td>\n",
       "      <td>6037</td>\n",
       "    </tr>\n",
       "    <tr>\n",
       "      <th>11</th>\n",
       "      <td>0</td>\n",
       "      <td>1200</td>\n",
       "      <td>1200</td>\n",
       "      <td>5328</td>\n",
       "      <td>1972</td>\n",
       "      <td>91</td>\n",
       "      <td>6037</td>\n",
       "    </tr>\n",
       "    <tr>\n",
       "      <th>14</th>\n",
       "      <td>0</td>\n",
       "      <td>171</td>\n",
       "      <td>171</td>\n",
       "      <td>6920</td>\n",
       "      <td>1973</td>\n",
       "      <td>255</td>\n",
       "      <td>6037</td>\n",
       "    </tr>\n",
       "  </tbody>\n",
       "</table>\n",
       "</div>"
      ],
      "text/plain": [
       "    bedroomcnt  bathroomcnt  calculatedfinishedsquarefeet  taxvaluedollarcnt  \\\n",
       "4            4         3633                          3633             296425   \n",
       "6            3         1620                          1620             847770   \n",
       "7            3         2077                          2077             646760   \n",
       "11           0         1200                          1200               5328   \n",
       "14           0          171                           171               6920   \n",
       "\n",
       "    yearbuilt  taxamount  fips  \n",
       "4        2005       6941  6037  \n",
       "6        2011      10244  6037  \n",
       "7        1926       7924  6037  \n",
       "11       1972         91  6037  \n",
       "14       1973        255  6037  "
      ]
     },
     "execution_count": 55,
     "metadata": {},
     "output_type": "execute_result"
    }
   ],
   "source": [
    "#look at dataframe\n",
    "df.head()"
   ]
  },
  {
   "cell_type": "code",
   "execution_count": 56,
   "id": "415d0e96",
   "metadata": {},
   "outputs": [],
   "source": [
    "#renaming columns\n",
    "df = df.rename(columns = {'bedroomcnt':'bedrooms', \n",
    "                          'bathroomcnt':'bathrooms', \n",
    "                          'calculatedfinishedsquarefeet':'area',\n",
    "                          'taxvaluedollarcnt':'tax_value', \n",
    "                          'yearbuilt':'year_built'})"
   ]
  },
  {
   "cell_type": "code",
   "execution_count": 58,
   "id": "b9dd7e39",
   "metadata": {},
   "outputs": [
    {
     "data": {
      "text/plain": [
       "(14981645, (2140235, 7))"
      ]
     },
     "execution_count": 58,
     "metadata": {},
     "output_type": "execute_result"
    }
   ],
   "source": [
    "# 14981645 rows and 7 columns coming in.\n",
    "\n",
    "df.size, df.shape"
   ]
  },
  {
   "cell_type": "code",
   "execution_count": 59,
   "id": "ade9e639",
   "metadata": {},
   "outputs": [
    {
     "data": {
      "text/html": [
       "<div>\n",
       "<style scoped>\n",
       "    .dataframe tbody tr th:only-of-type {\n",
       "        vertical-align: middle;\n",
       "    }\n",
       "\n",
       "    .dataframe tbody tr th {\n",
       "        vertical-align: top;\n",
       "    }\n",
       "\n",
       "    .dataframe thead th {\n",
       "        text-align: right;\n",
       "    }\n",
       "</style>\n",
       "<table border=\"1\" class=\"dataframe\">\n",
       "  <thead>\n",
       "    <tr style=\"text-align: right;\">\n",
       "      <th></th>\n",
       "      <th>count</th>\n",
       "      <th>mean</th>\n",
       "      <th>std</th>\n",
       "      <th>min</th>\n",
       "      <th>25%</th>\n",
       "      <th>50%</th>\n",
       "      <th>75%</th>\n",
       "      <th>max</th>\n",
       "    </tr>\n",
       "  </thead>\n",
       "  <tbody>\n",
       "    <tr>\n",
       "      <th>bedrooms</th>\n",
       "      <td>2140235.0</td>\n",
       "      <td>3.301419</td>\n",
       "      <td>0.932600</td>\n",
       "      <td>0.0</td>\n",
       "      <td>3.0</td>\n",
       "      <td>3.0</td>\n",
       "      <td>4.0</td>\n",
       "      <td>25.0</td>\n",
       "    </tr>\n",
       "    <tr>\n",
       "      <th>bathrooms</th>\n",
       "      <td>2140235.0</td>\n",
       "      <td>1863.193970</td>\n",
       "      <td>1221.754161</td>\n",
       "      <td>1.0</td>\n",
       "      <td>1258.0</td>\n",
       "      <td>1623.0</td>\n",
       "      <td>2208.0</td>\n",
       "      <td>952576.0</td>\n",
       "    </tr>\n",
       "    <tr>\n",
       "      <th>area</th>\n",
       "      <td>2140235.0</td>\n",
       "      <td>1863.193970</td>\n",
       "      <td>1221.754161</td>\n",
       "      <td>1.0</td>\n",
       "      <td>1258.0</td>\n",
       "      <td>1623.0</td>\n",
       "      <td>2208.0</td>\n",
       "      <td>952576.0</td>\n",
       "    </tr>\n",
       "    <tr>\n",
       "      <th>tax_value</th>\n",
       "      <td>2140235.0</td>\n",
       "      <td>460641.625164</td>\n",
       "      <td>677157.635675</td>\n",
       "      <td>22.0</td>\n",
       "      <td>189166.0</td>\n",
       "      <td>328296.0</td>\n",
       "      <td>534606.0</td>\n",
       "      <td>90188462.0</td>\n",
       "    </tr>\n",
       "    <tr>\n",
       "      <th>year_built</th>\n",
       "      <td>2140235.0</td>\n",
       "      <td>1960.967545</td>\n",
       "      <td>22.150563</td>\n",
       "      <td>1801.0</td>\n",
       "      <td>1949.0</td>\n",
       "      <td>1958.0</td>\n",
       "      <td>1976.0</td>\n",
       "      <td>2016.0</td>\n",
       "    </tr>\n",
       "    <tr>\n",
       "      <th>taxamount</th>\n",
       "      <td>2140235.0</td>\n",
       "      <td>5616.218147</td>\n",
       "      <td>7814.562814</td>\n",
       "      <td>6.0</td>\n",
       "      <td>2540.0</td>\n",
       "      <td>4111.0</td>\n",
       "      <td>6411.0</td>\n",
       "      <td>1078101.0</td>\n",
       "    </tr>\n",
       "    <tr>\n",
       "      <th>fips</th>\n",
       "      <td>2140235.0</td>\n",
       "      <td>6048.309556</td>\n",
       "      <td>20.344910</td>\n",
       "      <td>6037.0</td>\n",
       "      <td>6037.0</td>\n",
       "      <td>6037.0</td>\n",
       "      <td>6059.0</td>\n",
       "      <td>6111.0</td>\n",
       "    </tr>\n",
       "  </tbody>\n",
       "</table>\n",
       "</div>"
      ],
      "text/plain": [
       "                count           mean            std     min       25%  \\\n",
       "bedrooms    2140235.0       3.301419       0.932600     0.0       3.0   \n",
       "bathrooms   2140235.0    1863.193970    1221.754161     1.0    1258.0   \n",
       "area        2140235.0    1863.193970    1221.754161     1.0    1258.0   \n",
       "tax_value   2140235.0  460641.625164  677157.635675    22.0  189166.0   \n",
       "year_built  2140235.0    1960.967545      22.150563  1801.0    1949.0   \n",
       "taxamount   2140235.0    5616.218147    7814.562814     6.0    2540.0   \n",
       "fips        2140235.0    6048.309556      20.344910  6037.0    6037.0   \n",
       "\n",
       "                 50%       75%         max  \n",
       "bedrooms         3.0       4.0        25.0  \n",
       "bathrooms     1623.0    2208.0    952576.0  \n",
       "area          1623.0    2208.0    952576.0  \n",
       "tax_value   328296.0  534606.0  90188462.0  \n",
       "year_built    1958.0    1976.0      2016.0  \n",
       "taxamount     4111.0    6411.0   1078101.0  \n",
       "fips          6037.0    6059.0      6111.0  "
      ]
     },
     "execution_count": 59,
     "metadata": {},
     "output_type": "execute_result"
    }
   ],
   "source": [
    "#display numerical values\n",
    "df.describe().T"
   ]
  },
  {
   "cell_type": "code",
   "execution_count": 60,
   "id": "3f770166",
   "metadata": {},
   "outputs": [
    {
     "name": "stdout",
     "output_type": "stream",
     "text": [
      "<class 'pandas.core.frame.DataFrame'>\n",
      "Int64Index: 2140235 entries, 4 to 2152862\n",
      "Data columns (total 7 columns):\n",
      " #   Column      Dtype\n",
      "---  ------      -----\n",
      " 0   bedrooms    int64\n",
      " 1   bathrooms   int64\n",
      " 2   area        int64\n",
      " 3   tax_value   int64\n",
      " 4   year_built  int64\n",
      " 5   taxamount   int64\n",
      " 6   fips        int64\n",
      "dtypes: int64(7)\n",
      "memory usage: 195.1 MB\n"
     ]
    }
   ],
   "source": [
    "#run info to see numeric dataframe\n",
    "df.info()"
   ]
  },
  {
   "cell_type": "markdown",
   "id": "967dc062",
   "metadata": {},
   "source": [
    "### Prepare data"
   ]
  },
  {
   "cell_type": "code",
   "execution_count": 61,
   "id": "2184ec17",
   "metadata": {},
   "outputs": [
    {
     "data": {
      "text/plain": [
       "bedrooms      0\n",
       "bathrooms     0\n",
       "area          0\n",
       "tax_value     0\n",
       "year_built    0\n",
       "taxamount     0\n",
       "fips          0\n",
       "dtype: int64"
      ]
     },
     "execution_count": 61,
     "metadata": {},
     "output_type": "execute_result"
    }
   ],
   "source": [
    "#prepare the data check sum of null values\n",
    "df.isna().sum()"
   ]
  },
  {
   "cell_type": "code",
   "execution_count": 62,
   "id": "4331ce17",
   "metadata": {},
   "outputs": [],
   "source": [
    "#takeaways\n",
    "#large number of outliers in some columns\n",
    "#real estate data may be heavily skewed\n"
   ]
  },
  {
   "cell_type": "code",
   "execution_count": 63,
   "id": "ecfaff41",
   "metadata": {},
   "outputs": [
    {
     "data": {
      "text/plain": [
       "bedrooms      False\n",
       "bathrooms     False\n",
       "area          False\n",
       "tax_value     False\n",
       "year_built    False\n",
       "taxamount     False\n",
       "fips          False\n",
       "dtype: bool"
      ]
     },
     "execution_count": 63,
     "metadata": {},
     "output_type": "execute_result"
    }
   ],
   "source": [
    "# Check for any Null values in each column of our DataFrame.\n",
    "df.isna().any()"
   ]
  },
  {
   "cell_type": "code",
   "execution_count": 64,
   "id": "9802e5e4",
   "metadata": {},
   "outputs": [
    {
     "data": {
      "text/plain": [
       "bedrooms      0.0\n",
       "bathrooms     0.0\n",
       "area          0.0\n",
       "tax_value     0.0\n",
       "year_built    0.0\n",
       "taxamount     0.0\n",
       "fips          0.0\n",
       "dtype: float64"
      ]
     },
     "execution_count": 64,
     "metadata": {},
     "output_type": "execute_result"
    }
   ],
   "source": [
    "# find null percentage null\n",
    "df.isna().mean().mul(100)"
   ]
  },
  {
   "cell_type": "code",
   "execution_count": 65,
   "id": "05c172df",
   "metadata": {},
   "outputs": [],
   "source": [
    "#drop all the null and assign \n",
    "df=df.dropna()"
   ]
  },
  {
   "cell_type": "markdown",
   "id": "84873997",
   "metadata": {},
   "source": [
    "### Finding odd values"
   ]
  },
  {
   "cell_type": "code",
   "execution_count": 66,
   "id": "7df0286e",
   "metadata": {},
   "outputs": [
    {
     "name": "stdout",
     "output_type": "stream",
     "text": [
      "<class 'pandas.core.frame.DataFrame'>\n",
      "Int64Index: 2140235 entries, 4 to 2152862\n",
      "Data columns (total 7 columns):\n",
      " #   Column      Non-Null Count    Dtype\n",
      "---  ------      --------------    -----\n",
      " 0   bedrooms    2140235 non-null  int64\n",
      " 1   bathrooms   2140235 non-null  int64\n",
      " 2   area        2140235 non-null  int64\n",
      " 3   tax_value   2140235 non-null  int64\n",
      " 4   year_built  2140235 non-null  int64\n",
      " 5   taxamount   2140235 non-null  int64\n",
      " 6   fips        2140235 non-null  int64\n",
      "dtypes: int64(7)\n",
      "memory usage: 195.1 MB\n"
     ]
    }
   ],
   "source": [
    "df.info(show_counts = True)"
   ]
  },
  {
   "cell_type": "code",
   "execution_count": 68,
   "id": "e57a125f",
   "metadata": {},
   "outputs": [
    {
     "data": {
      "text/plain": [
       "3     962944\n",
       "4     633608\n",
       "2     334221\n",
       "5     150671\n",
       "6      25117\n",
       "1      22895\n",
       "7       4792\n",
       "0       4397\n",
       "8       1103\n",
       "9        290\n",
       "10       118\n",
       "11        34\n",
       "13        15\n",
       "12        12\n",
       "14         7\n",
       "15         5\n",
       "18         3\n",
       "16         2\n",
       "25         1\n",
       "Name: bedrooms, dtype: int64"
      ]
     },
     "execution_count": 68,
     "metadata": {},
     "output_type": "execute_result"
    }
   ],
   "source": [
    "#check bedroom count and change to int\n",
    "df.bedrooms.value_counts()"
   ]
  },
  {
   "cell_type": "code",
   "execution_count": 70,
   "id": "4384577f",
   "metadata": {},
   "outputs": [],
   "source": [
    "#convert float to int\n",
    "df.bedrooms = df.bedrooms.astype(\"int64\")"
   ]
  },
  {
   "cell_type": "code",
   "execution_count": 18,
   "id": "6fd5a481",
   "metadata": {},
   "outputs": [
    {
     "data": {
      "text/plain": [
       "2.00     942463\n",
       "3.00     422398\n",
       "1.00     412582\n",
       "2.50     142827\n",
       "4.00      82039\n",
       "1.50      31157\n",
       "3.50      28464\n",
       "5.00      28306\n",
       "4.50      19474\n",
       "6.00      10717\n",
       "5.50       6201\n",
       "7.00       4381\n",
       "0.00       4274\n",
       "8.00       1681\n",
       "6.50       1330\n",
       "9.00        707\n",
       "7.50        382\n",
       "10.00       322\n",
       "11.00       145\n",
       "8.50        108\n",
       "12.00        73\n",
       "9.50         50\n",
       "13.00        39\n",
       "14.00        25\n",
       "15.00        17\n",
       "0.50         16\n",
       "10.50        14\n",
       "16.00        12\n",
       "18.00         8\n",
       "20.00         6\n",
       "17.00         4\n",
       "1.75          3\n",
       "12.50         3\n",
       "11.50         3\n",
       "19.50         1\n",
       "14.50         1\n",
       "32.00         1\n",
       "19.00         1\n",
       "Name: bathroomcnt, dtype: int64"
      ]
     },
     "execution_count": 18,
     "metadata": {},
     "output_type": "execute_result"
    }
   ],
   "source": [
    "#value count for bathroom\n",
    "df.bathroomcnt.value_counts()"
   ]
  },
  {
   "cell_type": "code",
   "execution_count": 71,
   "id": "4094cad2",
   "metadata": {},
   "outputs": [
    {
     "data": {
      "text/plain": [
       "1200     5184\n",
       "1080     4376\n",
       "1120     4354\n",
       "1400     3828\n",
       "1440     3684\n",
       "         ... \n",
       "10180       1\n",
       "13169       1\n",
       "9095        1\n",
       "10525       1\n",
       "24920       1\n",
       "Name: area, Length: 10557, dtype: int64"
      ]
     },
     "execution_count": 71,
     "metadata": {},
     "output_type": "execute_result"
    }
   ],
   "source": [
    "#get value count\n",
    "df.area.value_counts()"
   ]
  },
  {
   "cell_type": "markdown",
   "id": "0e33946f",
   "metadata": {},
   "source": [
    "### Convert data types"
   ]
  },
  {
   "cell_type": "code",
   "execution_count": 72,
   "id": "36a1d9e6",
   "metadata": {},
   "outputs": [
    {
     "data": {
      "text/plain": [
       "1.0"
      ]
     },
     "execution_count": 72,
     "metadata": {},
     "output_type": "execute_result"
    }
   ],
   "source": [
    "#check for data loss\n",
    "df.year_built.mean()/df.year_built.astype(\"int64\").mean()"
   ]
  },
  {
   "cell_type": "code",
   "execution_count": 73,
   "id": "73138e06",
   "metadata": {},
   "outputs": [],
   "source": [
    "#no data loss, convert to int\n",
    "df.year_built = df.year_built.astype(\"int64\")"
   ]
  },
  {
   "cell_type": "code",
   "execution_count": 74,
   "id": "c264d1ed",
   "metadata": {},
   "outputs": [
    {
     "data": {
      "text/plain": [
       "3032      424\n",
       "1109      416\n",
       "3034      415\n",
       "3038      412\n",
       "2802      411\n",
       "         ... \n",
       "93351       1\n",
       "156648      1\n",
       "55033       1\n",
       "43475       1\n",
       "166153      1\n",
       "Name: taxamount, Length: 46583, dtype: int64"
      ]
     },
     "execution_count": 74,
     "metadata": {},
     "output_type": "execute_result"
    }
   ],
   "source": [
    "#continuos data\n",
    "df.taxamount.value_counts()"
   ]
  },
  {
   "cell_type": "code",
   "execution_count": 75,
   "id": "b016b2c1",
   "metadata": {},
   "outputs": [
    {
     "data": {
      "text/plain": [
       "6037    1425207\n",
       "6059     552057\n",
       "6111     162971\n",
       "Name: fips, dtype: int64"
      ]
     },
     "execution_count": 75,
     "metadata": {},
     "output_type": "execute_result"
    }
   ],
   "source": [
    "#value count of fips\n",
    "df.fips.value_counts()"
   ]
  },
  {
   "cell_type": "code",
   "execution_count": 76,
   "id": "e020765f",
   "metadata": {},
   "outputs": [],
   "source": [
    "# convert fips into int \n",
    "df.fips = df.fips.astype(\"int64\")"
   ]
  },
  {
   "cell_type": "code",
   "execution_count": 77,
   "id": "111d7978",
   "metadata": {},
   "outputs": [],
   "source": [
    "#convert bathrooms into int\n",
    "df.bathrooms = df.bathrooms.astype(\"int64\")"
   ]
  },
  {
   "cell_type": "code",
   "execution_count": 78,
   "id": "d524f397",
   "metadata": {},
   "outputs": [],
   "source": [
    "#convert calculatedfinishedsquarefeet into int\n",
    "df.area = df.area.astype(\"int64\")"
   ]
  },
  {
   "cell_type": "code",
   "execution_count": 79,
   "id": "bdf856ce",
   "metadata": {},
   "outputs": [],
   "source": [
    "# convert tax_value into int \n",
    "df.tax_value = df.tax_value.astype(\"int64\")"
   ]
  },
  {
   "cell_type": "code",
   "execution_count": 81,
   "id": "f69cfabc",
   "metadata": {},
   "outputs": [],
   "source": [
    "# convert taxamount into int \n",
    "df.taxamount = df.taxamount.astype(\"int64\")"
   ]
  },
  {
   "cell_type": "code",
   "execution_count": 82,
   "id": "015cc0d9",
   "metadata": {},
   "outputs": [
    {
     "name": "stdout",
     "output_type": "stream",
     "text": [
      "<class 'pandas.core.frame.DataFrame'>\n",
      "Int64Index: 2140235 entries, 4 to 2152862\n",
      "Data columns (total 7 columns):\n",
      " #   Column      Dtype\n",
      "---  ------      -----\n",
      " 0   bedrooms    int64\n",
      " 1   bathrooms   int64\n",
      " 2   area        int64\n",
      " 3   tax_value   int64\n",
      " 4   year_built  int64\n",
      " 5   taxamount   int64\n",
      " 6   fips        int64\n",
      "dtypes: int64(7)\n",
      "memory usage: 195.1 MB\n"
     ]
    }
   ],
   "source": [
    "#how did casting work?\n",
    "df.info()"
   ]
  },
  {
   "cell_type": "markdown",
   "id": "8c1b9972",
   "metadata": {},
   "source": [
    "### Visualize distributions & outliers"
   ]
  },
  {
   "cell_type": "markdown",
   "id": "a902361a",
   "metadata": {},
   "source": [
    "#### histplots"
   ]
  },
  {
   "cell_type": "code",
   "execution_count": 83,
   "id": "37dbd247",
   "metadata": {},
   "outputs": [
    {
     "data": {
      "image/png": "[encoded data removed]",
      "text/plain": [
       "<Figure size 432x288 with 1 Axes>"
      ]
     },
     "metadata": {
      "needs_background": "light"
     },
     "output_type": "display_data"
    },
    {
     "data": {
      "image/png": "[encoded data removed]",
      "text/plain": [
       "<Figure size 432x288 with 1 Axes>"
      ]
     },
     "metadata": {
      "needs_background": "light"
     },
     "output_type": "display_data"
    },
    {
     "data": {
      "image/png": "[encoded data removed]",
      "text/plain": [
       "<Figure size 432x288 with 1 Axes>"
      ]
     },
     "metadata": {
      "needs_background": "light"
     },
     "output_type": "display_data"
    },
    {
     "data": {
      "image/png": "[encoded data removed]",
      "text/plain": [
       "<Figure size 432x288 with 1 Axes>"
      ]
     },
     "metadata": {
      "needs_background": "light"
     },
     "output_type": "display_data"
    },
    {
     "data": {
      "image/png": "[encoded data removed]",
      "text/plain": [
       "<Figure size 432x288 with 1 Axes>"
      ]
     },
     "metadata": {
      "needs_background": "light"
     },
     "output_type": "display_data"
    },
    {
     "data": {
      "image/png": "[encoded data removed]",
      "text/plain": [
       "<Figure size 432x288 with 1 Axes>"
      ]
     },
     "metadata": {
      "needs_background": "light"
     },
     "output_type": "display_data"
    },
    {
     "data": {
      "image/png": "[encoded data removed]",
      "text/plain": [
       "<Figure size 432x288 with 1 Axes>"
      ]
     },
     "metadata": {
      "needs_background": "light"
     },
     "output_type": "display_data"
    }
   ],
   "source": [
    "#plot histoplot to see distribution of data\n",
    "for i in df.columns:\n",
    "    sns.histplot(df[i], bins = 20)\n",
    "    plt.title(i)\n",
    "    plt.show()"
   ]
  },
  {
   "cell_type": "markdown",
   "id": "7b970ff2",
   "metadata": {},
   "source": [
    "#### boxplots"
   ]
  },
  {
   "cell_type": "code",
   "execution_count": 84,
   "id": "281ee260",
   "metadata": {},
   "outputs": [
    {
     "data": {
      "text/plain": [
       "<seaborn.axisgrid.FacetGrid at 0x2ae1e2b50>"
      ]
     },
     "execution_count": 84,
     "metadata": {},
     "output_type": "execute_result"
    },
    {
     "data": {
      "image/png": "[encoded data removed]",
      "text/plain": [
       "<Figure size 360x360 with 1 Axes>"
      ]
     },
     "metadata": {
      "needs_background": "light"
     },
     "output_type": "display_data"
    }
   ],
   "source": [
    "\n",
    "sns.displot(x='year_built', data=df)"
   ]
  },
  {
   "cell_type": "code",
   "execution_count": 53,
   "id": "7a583893",
   "metadata": {},
   "outputs": [
    {
     "data": {
      "text/plain": [
       "<seaborn.axisgrid.FacetGrid at 0x2c6da2cd0>"
      ]
     },
     "execution_count": 53,
     "metadata": {},
     "output_type": "execute_result"
    },
    {
     "data": {
      "image/png": "[encoded data removed]",
      "text/plain": [
       "<Figure size 360x360 with 1 Axes>"
      ]
     },
     "metadata": {
      "needs_background": "light"
     },
     "output_type": "display_data"
    }
   ],
   "source": [
    "\n",
    "sns.displot(x='fips', data=df)"
   ]
  },
  {
   "cell_type": "code",
   "execution_count": 88,
   "id": "56d5649a",
   "metadata": {},
   "outputs": [
    {
     "data": {
      "image/png": "[encoded data removed]",
      "text/plain": [
       "<Figure size 1152x216 with 5 Axes>"
      ]
     },
     "metadata": {
      "needs_background": "light"
     },
     "output_type": "display_data"
    }
   ],
   "source": [
    "plt.figure(figsize=(16, 3))\n",
    "\n",
    "# List of columns\n",
    "cols = [col for col in df.columns if col not in ['fips', 'year_built']]\n",
    "\n",
    "for i, col in enumerate(cols):\n",
    "\n",
    "    # i starts at 0, but plot nos should start at 1\n",
    "    plot_number = i + 1 \n",
    "\n",
    "    # Create subplot.\n",
    "    plt.subplot(1, len(cols), plot_number)\n",
    "\n",
    "    # Title with column name.\n",
    "    plt.title(col)\n",
    "\n",
    "    # Display histogram for column.\n",
    "    df[col].hist(bins=5)\n",
    "\n",
    "    # Hide gridlines.\n",
    "    plt.grid(False)\n",
    "    \n",
    "    # turn off scientific notation\n",
    "    plt.ticklabel_format(useOffset=False)\n",
    "    \n",
    "plt.show()"
   ]
  },
  {
   "cell_type": "code",
   "execution_count": null,
   "id": "f420e670",
   "metadata": {},
   "outputs": [],
   "source": [
    "#takeaways\n",
    "# outliers must exist in each column for x axis to have the range shown\n",
    "# tax value is looking like it has severe skew"
   ]
  },
  {
   "cell_type": "code",
   "execution_count": 90,
   "id": "ea43a78c",
   "metadata": {},
   "outputs": [
    {
     "data": {
      "image/png": "[encoded data removed]",
      "text/plain": [
       "<Figure size 576x288 with 1 Axes>"
      ]
     },
     "metadata": {
      "needs_background": "light"
     },
     "output_type": "display_data"
    }
   ],
   "source": [
    "plt.figure(figsize=(8,4))\n",
    "\n",
    "plt.ticklabel_format(useOffset=False, style='plain')\n",
    "sns.boxplot(data=df.drop(columns=['fips']))\n",
    "\n",
    "plt.show()\n"
   ]
  },
  {
   "cell_type": "code",
   "execution_count": 91,
   "id": "5f4d9da7",
   "metadata": {},
   "outputs": [],
   "source": [
    "#takeaways\n",
    "#outliers are black diamonds"
   ]
  },
  {
   "cell_type": "code",
   "execution_count": 93,
   "id": "ceca89db",
   "metadata": {},
   "outputs": [
    {
     "data": {
      "text/html": [
       "<div>\n",
       "<style scoped>\n",
       "    .dataframe tbody tr th:only-of-type {\n",
       "        vertical-align: middle;\n",
       "    }\n",
       "\n",
       "    .dataframe tbody tr th {\n",
       "        vertical-align: top;\n",
       "    }\n",
       "\n",
       "    .dataframe thead th {\n",
       "        text-align: right;\n",
       "    }\n",
       "</style>\n",
       "<table border=\"1\" class=\"dataframe\">\n",
       "  <thead>\n",
       "    <tr style=\"text-align: right;\">\n",
       "      <th></th>\n",
       "      <th>count</th>\n",
       "      <th>mean</th>\n",
       "      <th>std</th>\n",
       "      <th>min</th>\n",
       "      <th>25%</th>\n",
       "      <th>50%</th>\n",
       "      <th>75%</th>\n",
       "      <th>max</th>\n",
       "    </tr>\n",
       "  </thead>\n",
       "  <tbody>\n",
       "    <tr>\n",
       "      <th>bedrooms</th>\n",
       "      <td>2140235.0</td>\n",
       "      <td>3.301419</td>\n",
       "      <td>0.932600</td>\n",
       "      <td>0.0</td>\n",
       "      <td>3.0</td>\n",
       "      <td>3.0</td>\n",
       "      <td>4.0</td>\n",
       "      <td>25.0</td>\n",
       "    </tr>\n",
       "    <tr>\n",
       "      <th>bathrooms</th>\n",
       "      <td>2140235.0</td>\n",
       "      <td>1863.193970</td>\n",
       "      <td>1221.754161</td>\n",
       "      <td>1.0</td>\n",
       "      <td>1258.0</td>\n",
       "      <td>1623.0</td>\n",
       "      <td>2208.0</td>\n",
       "      <td>952576.0</td>\n",
       "    </tr>\n",
       "    <tr>\n",
       "      <th>area</th>\n",
       "      <td>2140235.0</td>\n",
       "      <td>1863.193970</td>\n",
       "      <td>1221.754161</td>\n",
       "      <td>1.0</td>\n",
       "      <td>1258.0</td>\n",
       "      <td>1623.0</td>\n",
       "      <td>2208.0</td>\n",
       "      <td>952576.0</td>\n",
       "    </tr>\n",
       "    <tr>\n",
       "      <th>tax_value</th>\n",
       "      <td>2140235.0</td>\n",
       "      <td>460641.625164</td>\n",
       "      <td>677157.635675</td>\n",
       "      <td>22.0</td>\n",
       "      <td>189166.0</td>\n",
       "      <td>328296.0</td>\n",
       "      <td>534606.0</td>\n",
       "      <td>90188462.0</td>\n",
       "    </tr>\n",
       "    <tr>\n",
       "      <th>year_built</th>\n",
       "      <td>2140235.0</td>\n",
       "      <td>1960.967545</td>\n",
       "      <td>22.150563</td>\n",
       "      <td>1801.0</td>\n",
       "      <td>1949.0</td>\n",
       "      <td>1958.0</td>\n",
       "      <td>1976.0</td>\n",
       "      <td>2016.0</td>\n",
       "    </tr>\n",
       "    <tr>\n",
       "      <th>taxamount</th>\n",
       "      <td>2140235.0</td>\n",
       "      <td>5616.218147</td>\n",
       "      <td>7814.562814</td>\n",
       "      <td>6.0</td>\n",
       "      <td>2540.0</td>\n",
       "      <td>4111.0</td>\n",
       "      <td>6411.0</td>\n",
       "      <td>1078101.0</td>\n",
       "    </tr>\n",
       "    <tr>\n",
       "      <th>fips</th>\n",
       "      <td>2140235.0</td>\n",
       "      <td>6048.309556</td>\n",
       "      <td>20.344910</td>\n",
       "      <td>6037.0</td>\n",
       "      <td>6037.0</td>\n",
       "      <td>6037.0</td>\n",
       "      <td>6059.0</td>\n",
       "      <td>6111.0</td>\n",
       "    </tr>\n",
       "  </tbody>\n",
       "</table>\n",
       "</div>"
      ],
      "text/plain": [
       "                count           mean            std     min       25%  \\\n",
       "bedrooms    2140235.0       3.301419       0.932600     0.0       3.0   \n",
       "bathrooms   2140235.0    1863.193970    1221.754161     1.0    1258.0   \n",
       "area        2140235.0    1863.193970    1221.754161     1.0    1258.0   \n",
       "tax_value   2140235.0  460641.625164  677157.635675    22.0  189166.0   \n",
       "year_built  2140235.0    1960.967545      22.150563  1801.0    1949.0   \n",
       "taxamount   2140235.0    5616.218147    7814.562814     6.0    2540.0   \n",
       "fips        2140235.0    6048.309556      20.344910  6037.0    6037.0   \n",
       "\n",
       "                 50%       75%         max  \n",
       "bedrooms         3.0       4.0        25.0  \n",
       "bathrooms     1623.0    2208.0    952576.0  \n",
       "area          1623.0    2208.0    952576.0  \n",
       "tax_value   328296.0  534606.0  90188462.0  \n",
       "year_built    1958.0    1976.0      2016.0  \n",
       "taxamount     4111.0    6411.0   1078101.0  \n",
       "fips          6037.0    6059.0      6111.0  "
      ]
     },
     "execution_count": 93,
     "metadata": {},
     "output_type": "execute_result"
    }
   ],
   "source": [
    "df.describe().T"
   ]
  },
  {
   "cell_type": "code",
   "execution_count": null,
   "id": "872dbd3d",
   "metadata": {},
   "outputs": [],
   "source": [
    "#takeaways\n",
    "#should drop outliers that still exist"
   ]
  },
  {
   "cell_type": "code",
   "execution_count": 94,
   "id": "fa12322f",
   "metadata": {},
   "outputs": [],
   "source": [
    "#functions to remove outliers\n",
    "def remove_outliers(df, k, col_list):\n",
    "    ''' remove outliers from a list of columns in a dataframe \n",
    "        and return that dataframe\n",
    "    '''\n",
    "    \n",
    "    for col in col_list:\n",
    "\n",
    "        q1, q3 = df[col].quantile([.25, .75])  # get quartiles\n",
    "        \n",
    "        iqr = q3 - q1   # calculate interquartile range\n",
    "        \n",
    "        upper_bound = q3 + k * iqr   # get upper bound\n",
    "        lower_bound = q1 - k * iqr   # get lower bound\n",
    "\n",
    "        # return dataframe without outliers\n",
    "        \n",
    "        df = df[(df[col] > lower_bound) & (df[col] < upper_bound)]\n",
    "        \n",
    "    return df"
   ]
  },
  {
   "cell_type": "code",
   "execution_count": 95,
   "id": "fc43e1fe",
   "metadata": {},
   "outputs": [],
   "source": [
    "def remove_outliers_v2(df, k, col_list):\n",
    "    ''' remove outliers from a list of columns in a dataframe \n",
    "        and return that dataframe\n",
    "    '''\n",
    "    # Create a column that will label our rows as containing an outlier value or not\n",
    "    num_obs = df.shape[0]\n",
    "    df['outlier'] = False\n",
    "    for col in col_list:\n",
    "\n",
    "        q1, q3 = df[col].quantile([.25, .75])  # get quartiles\n",
    "        \n",
    "        iqr = q3 - q1   # calculate interquartile range\n",
    "        \n",
    "        upper_bound = q3 + k * iqr   # get upper bound\n",
    "        lower_bound = q1 - k * iqr   # get lower bound\n",
    "\n",
    "        # update the outlier label any time that the value is outside of boundaries\n",
    "        df['outlier'] = np.where(((df[col] < lower_bound) | (df[col] > upper_bound)) & (df.outlier == False), True, df.outlier)\n",
    "    \n",
    "    df = df[df.outlier == False]\n",
    "    df.drop(columns=['outlier'], inplace=True)\n",
    "    print(f\"Number of observations removed: {num_obs - df.shape[0]}\")\n",
    "        \n",
    "    return df"
   ]
  },
  {
   "cell_type": "code",
   "execution_count": 96,
   "id": "bdf68ab1",
   "metadata": {},
   "outputs": [
    {
     "data": {
      "text/html": [
       "<div>\n",
       "<style scoped>\n",
       "    .dataframe tbody tr th:only-of-type {\n",
       "        vertical-align: middle;\n",
       "    }\n",
       "\n",
       "    .dataframe tbody tr th {\n",
       "        vertical-align: top;\n",
       "    }\n",
       "\n",
       "    .dataframe thead th {\n",
       "        text-align: right;\n",
       "    }\n",
       "</style>\n",
       "<table border=\"1\" class=\"dataframe\">\n",
       "  <thead>\n",
       "    <tr style=\"text-align: right;\">\n",
       "      <th></th>\n",
       "      <th>bedrooms</th>\n",
       "      <th>bathrooms</th>\n",
       "      <th>area</th>\n",
       "      <th>tax_value</th>\n",
       "      <th>year_built</th>\n",
       "      <th>taxamount</th>\n",
       "      <th>fips</th>\n",
       "    </tr>\n",
       "  </thead>\n",
       "  <tbody>\n",
       "    <tr>\n",
       "      <th>6</th>\n",
       "      <td>3</td>\n",
       "      <td>1620</td>\n",
       "      <td>1620</td>\n",
       "      <td>847770</td>\n",
       "      <td>2011</td>\n",
       "      <td>10244</td>\n",
       "      <td>6037</td>\n",
       "    </tr>\n",
       "    <tr>\n",
       "      <th>7</th>\n",
       "      <td>3</td>\n",
       "      <td>2077</td>\n",
       "      <td>2077</td>\n",
       "      <td>646760</td>\n",
       "      <td>1926</td>\n",
       "      <td>7924</td>\n",
       "      <td>6037</td>\n",
       "    </tr>\n",
       "    <tr>\n",
       "      <th>18</th>\n",
       "      <td>3</td>\n",
       "      <td>1244</td>\n",
       "      <td>1244</td>\n",
       "      <td>169471</td>\n",
       "      <td>1950</td>\n",
       "      <td>2532</td>\n",
       "      <td>6037</td>\n",
       "    </tr>\n",
       "    <tr>\n",
       "      <th>19</th>\n",
       "      <td>3</td>\n",
       "      <td>1300</td>\n",
       "      <td>1300</td>\n",
       "      <td>233266</td>\n",
       "      <td>1950</td>\n",
       "      <td>3110</td>\n",
       "      <td>6037</td>\n",
       "    </tr>\n",
       "    <tr>\n",
       "      <th>20</th>\n",
       "      <td>3</td>\n",
       "      <td>1222</td>\n",
       "      <td>1222</td>\n",
       "      <td>290492</td>\n",
       "      <td>1951</td>\n",
       "      <td>3870</td>\n",
       "      <td>6037</td>\n",
       "    </tr>\n",
       "    <tr>\n",
       "      <th>...</th>\n",
       "      <td>...</td>\n",
       "      <td>...</td>\n",
       "      <td>...</td>\n",
       "      <td>...</td>\n",
       "      <td>...</td>\n",
       "      <td>...</td>\n",
       "      <td>...</td>\n",
       "    </tr>\n",
       "    <tr>\n",
       "      <th>2152853</th>\n",
       "      <td>4</td>\n",
       "      <td>1987</td>\n",
       "      <td>1987</td>\n",
       "      <td>259913</td>\n",
       "      <td>1955</td>\n",
       "      <td>3175</td>\n",
       "      <td>6059</td>\n",
       "    </tr>\n",
       "    <tr>\n",
       "      <th>2152855</th>\n",
       "      <td>3</td>\n",
       "      <td>1809</td>\n",
       "      <td>1809</td>\n",
       "      <td>405547</td>\n",
       "      <td>2012</td>\n",
       "      <td>4181</td>\n",
       "      <td>6059</td>\n",
       "    </tr>\n",
       "    <tr>\n",
       "      <th>2152859</th>\n",
       "      <td>4</td>\n",
       "      <td>3127</td>\n",
       "      <td>3127</td>\n",
       "      <td>536061</td>\n",
       "      <td>2014</td>\n",
       "      <td>6244</td>\n",
       "      <td>6059</td>\n",
       "    </tr>\n",
       "    <tr>\n",
       "      <th>2152861</th>\n",
       "      <td>3</td>\n",
       "      <td>1974</td>\n",
       "      <td>1974</td>\n",
       "      <td>424353</td>\n",
       "      <td>2015</td>\n",
       "      <td>5302</td>\n",
       "      <td>6059</td>\n",
       "    </tr>\n",
       "    <tr>\n",
       "      <th>2152862</th>\n",
       "      <td>4</td>\n",
       "      <td>2110</td>\n",
       "      <td>2110</td>\n",
       "      <td>554009</td>\n",
       "      <td>2014</td>\n",
       "      <td>6761</td>\n",
       "      <td>6037</td>\n",
       "    </tr>\n",
       "  </tbody>\n",
       "</table>\n",
       "<p>1853694 rows × 7 columns</p>\n",
       "</div>"
      ],
      "text/plain": [
       "         bedrooms  bathrooms  area  tax_value  year_built  taxamount  fips\n",
       "6               3       1620  1620     847770        2011      10244  6037\n",
       "7               3       2077  2077     646760        1926       7924  6037\n",
       "18              3       1244  1244     169471        1950       2532  6037\n",
       "19              3       1300  1300     233266        1950       3110  6037\n",
       "20              3       1222  1222     290492        1951       3870  6037\n",
       "...           ...        ...   ...        ...         ...        ...   ...\n",
       "2152853         4       1987  1987     259913        1955       3175  6059\n",
       "2152855         3       1809  1809     405547        2012       4181  6059\n",
       "2152859         4       3127  3127     536061        2014       6244  6059\n",
       "2152861         3       1974  1974     424353        2015       5302  6059\n",
       "2152862         4       2110  2110     554009        2014       6761  6037\n",
       "\n",
       "[1853694 rows x 7 columns]"
      ]
     },
     "execution_count": 96,
     "metadata": {},
     "output_type": "execute_result"
    }
   ],
   "source": [
    "df = remove_outliers(df, 1.5, ['bedrooms', 'bathrooms', 'area', 'tax_value', 'taxamount'])\n",
    "df"
   ]
  },
  {
   "cell_type": "markdown",
   "id": "e7298599",
   "metadata": {},
   "source": [
    "### Revisualize distribution"
   ]
  },
  {
   "cell_type": "code",
   "execution_count": 97,
   "id": "4bc6a3a0",
   "metadata": {},
   "outputs": [
    {
     "data": {
      "image/png": "[encoded data removed]",
      "text/plain": [
       "<Figure size 1152x216 with 5 Axes>"
      ]
     },
     "metadata": {
      "needs_background": "light"
     },
     "output_type": "display_data"
    }
   ],
   "source": [
    "plt.figure(figsize=(16, 3))\n",
    "\n",
    "# List of columns\n",
    "cols = [col for col in df.columns if col not in ['fips', 'year_built']]\n",
    "\n",
    "for i, col in enumerate(cols):\n",
    "\n",
    "    # i starts at 0, but plot nos should start at 1\n",
    "    plot_number = i + 1 \n",
    "\n",
    "    # Create subplot.\n",
    "    plt.subplot(1, len(cols), plot_number)\n",
    "\n",
    "    # Title with column name.\n",
    "    plt.title(col)\n",
    "\n",
    "    # Display histogram for column.\n",
    "    df[col].hist(bins=5)\n",
    "\n",
    "    # Hide gridlines.\n",
    "    plt.grid(False)\n",
    "    \n",
    "    # turn off scientific notation\n",
    "    plt.ticklabel_format(useOffset=False)\n",
    "    \n",
    "plt.show()"
   ]
  },
  {
   "cell_type": "code",
   "execution_count": 98,
   "id": "3b9c0f69",
   "metadata": {},
   "outputs": [],
   "source": [
    "# takeaways\n",
    "#bedroms & bathrooms are not distributed\n",
    "#area, tax value & taxamount are skewed although close to a normal distribution"
   ]
  },
  {
   "cell_type": "code",
   "execution_count": 100,
   "id": "f49921bf",
   "metadata": {},
   "outputs": [
    {
     "data": {
      "image/png": "[encoded data removed]",
      "text/plain": [
       "<Figure size 1152x216 with 5 Axes>"
      ]
     },
     "metadata": {
      "needs_background": "light"
     },
     "output_type": "display_data"
    }
   ],
   "source": [
    "# List of columns\n",
    "cols = ['bedrooms', 'bathrooms', 'area', 'tax_value', 'taxamount']\n",
    "\n",
    "plt.figure(figsize=(16, 3))\n",
    "\n",
    "for i, col in enumerate(cols):\n",
    "\n",
    "    # i starts at 0, but plot should start at 1\n",
    "    plot_number = i + 1 \n",
    "\n",
    "    # Create subplot.\n",
    "    plt.subplot(1, len(cols), plot_number)\n",
    "\n",
    "    # Title with column name.\n",
    "    plt.title(col)\n",
    "\n",
    "    # Display boxplot for column.\n",
    "    sns.boxplot(data=df[[col]])\n",
    "\n",
    "    # Hide gridlines.\n",
    "    plt.grid(False)\n",
    "\n",
    "    # sets proper spacing between plots\n",
    "    plt.tight_layout()\n",
    "    \n",
    "plt.show()"
   ]
  },
  {
   "cell_type": "code",
   "execution_count": 101,
   "id": "aa36697e",
   "metadata": {},
   "outputs": [],
   "source": [
    "#takeaways\n",
    "# a few outliers but no need to remove them"
   ]
  },
  {
   "cell_type": "markdown",
   "id": "7b8c09a0",
   "metadata": {},
   "source": [
    "### Look for null values"
   ]
  },
  {
   "cell_type": "code",
   "execution_count": 103,
   "id": "78ac9a97",
   "metadata": {},
   "outputs": [
    {
     "data": {
      "text/plain": [
       "bedrooms      0\n",
       "bathrooms     0\n",
       "area          0\n",
       "tax_value     0\n",
       "year_built    0\n",
       "taxamount     0\n",
       "fips          0\n",
       "dtype: int64"
      ]
     },
     "execution_count": 103,
     "metadata": {},
     "output_type": "execute_result"
    }
   ],
   "source": [
    "#total row nulls \n",
    "df.isnull().sum()"
   ]
  },
  {
   "cell_type": "code",
   "execution_count": 104,
   "id": "969820d8",
   "metadata": {},
   "outputs": [
    {
     "data": {
      "text/plain": [
       "1955    80481\n",
       "1950    66907\n",
       "1954    65544\n",
       "1953    58750\n",
       "1956    58085\n",
       "        ...  \n",
       "1801        1\n",
       "1807        1\n",
       "1862        1\n",
       "1877        1\n",
       "1874        1\n",
       "Name: year_built, Length: 152, dtype: int64"
      ]
     },
     "execution_count": 104,
     "metadata": {},
     "output_type": "execute_result"
    }
   ],
   "source": [
    "#impute year built\n",
    "df.year_built.value_counts()"
   ]
  },
  {
   "cell_type": "code",
   "execution_count": 105,
   "id": "9314ccb4",
   "metadata": {},
   "outputs": [
    {
     "data": {
      "text/plain": [
       "count    1853694.000000\n",
       "mean        1959.432454\n",
       "std           20.545268\n",
       "min         1801.000000\n",
       "25%         1949.000000\n",
       "50%         1957.000000\n",
       "75%         1972.000000\n",
       "max         2016.000000\n",
       "Name: year_built, dtype: object"
      ]
     },
     "execution_count": 105,
     "metadata": {},
     "output_type": "execute_result"
    }
   ],
   "source": [
    "df.year_built.describe().apply(lambda x: format(x, 'f'))"
   ]
  },
  {
   "cell_type": "code",
   "execution_count": 106,
   "id": "8a83e6bd",
   "metadata": {},
   "outputs": [],
   "source": [
    "#takeaways\n",
    "#null values have been removed when we dropped outliers"
   ]
  },
  {
   "cell_type": "markdown",
   "id": "747f4371",
   "metadata": {},
   "source": [
    "### remove outliers to clean up nulls"
   ]
  },
  {
   "cell_type": "code",
   "execution_count": 107,
   "id": "68683f95",
   "metadata": {},
   "outputs": [
    {
     "name": "stdout",
     "output_type": "stream",
     "text": [
      "We exclude: []\n"
     ]
    }
   ],
   "source": [
    "# Set our null threshold. Any columns that have this ratio or higher will be removed\n",
    "missing_perc_thresh = 0.98\n",
    "\n",
    "# Create empty list to keep track of which columns we plan on dropping\n",
    "exclude_missing = []\n",
    "\n",
    "# Find columns that have a greater null percentage than our threshold\n",
    "num_rows = df.shape[0]\n",
    "for c in df.columns:\n",
    "    num_missing = df[c].isnull().sum()\n",
    "    if num_missing == 0:\n",
    "        continue\n",
    "    missing_frac = num_missing / float(num_rows)\n",
    "    if missing_frac > missing_perc_thresh:\n",
    "        exclude_missing.append(c)\n",
    "print(\"We exclude: %s\" % exclude_missing)\n",
    "\n",
    "# Drop these columns from our dataset\n",
    "df.drop(columns=exclude_missing, inplace=True)"
   ]
  },
  {
   "cell_type": "code",
   "execution_count": 108,
   "id": "967ffa7f",
   "metadata": {},
   "outputs": [
    {
     "name": "stdout",
     "output_type": "stream",
     "text": [
      "<class 'pandas.core.frame.DataFrame'>\n",
      "Int64Index: 1853694 entries, 6 to 2152862\n",
      "Data columns (total 7 columns):\n",
      " #   Column      Dtype\n",
      "---  ------      -----\n",
      " 0   bedrooms    int64\n",
      " 1   bathrooms   int64\n",
      " 2   area        int64\n",
      " 3   tax_value   int64\n",
      " 4   year_built  int64\n",
      " 5   taxamount   int64\n",
      " 6   fips        int64\n",
      "dtypes: int64(7)\n",
      "memory usage: 113.1 MB\n"
     ]
    }
   ],
   "source": [
    "#check if data collumn is corrects\n",
    "df.info()"
   ]
  },
  {
   "cell_type": "code",
   "execution_count": 109,
   "id": "e22d70ac",
   "metadata": {},
   "outputs": [
    {
     "name": "stdout",
     "output_type": "stream",
     "text": [
      "BEDROOMS\n",
      "3    904635\n",
      "4    538926\n",
      "2    320564\n",
      "5     89569\n",
      "Name: bedrooms, dtype: int64\n",
      "~~~~~~~~~~~~~~~~~~~~~~~~\n",
      "\n",
      "BATHROOMS\n",
      "1200    5094\n",
      "1080    4315\n",
      "1120    4288\n",
      "1400    3776\n",
      "1440    3617\n",
      "        ... \n",
      "326        1\n",
      "455        1\n",
      "511        1\n",
      "132        1\n",
      "507        1\n",
      "Name: bathrooms, Length: 2955, dtype: int64\n",
      "~~~~~~~~~~~~~~~~~~~~~~~~\n",
      "\n",
      "AREA\n",
      "1200    5094\n",
      "1080    4315\n",
      "1120    4288\n",
      "1400    3776\n",
      "1440    3617\n",
      "        ... \n",
      "326        1\n",
      "455        1\n",
      "511        1\n",
      "132        1\n",
      "507        1\n",
      "Name: area, Length: 2955, dtype: int64\n",
      "~~~~~~~~~~~~~~~~~~~~~~~~\n",
      "\n",
      "TAX_VALUE\n",
      "450000    808\n",
      "500000    751\n",
      "400000    702\n",
      "430000    677\n",
      "440000    671\n",
      "         ... \n",
      "435305      1\n",
      "223693      1\n",
      "492881      1\n",
      "279712      1\n",
      "536061      1\n",
      "Name: tax_value, Length: 457240, dtype: int64\n",
      "~~~~~~~~~~~~~~~~~~~~~~~~\n",
      "\n",
      "YEAR_BUILT\n",
      "1955    80481\n",
      "1950    66907\n",
      "1954    65544\n",
      "1953    58750\n",
      "1956    58085\n",
      "        ...  \n",
      "1801        1\n",
      "1807        1\n",
      "1862        1\n",
      "1877        1\n",
      "1874        1\n",
      "Name: year_built, Length: 152, dtype: int64\n",
      "~~~~~~~~~~~~~~~~~~~~~~~~\n",
      "\n",
      "TAXAMOUNT\n",
      "3032    417\n",
      "3038    409\n",
      "3034    409\n",
      "3163    406\n",
      "2950    405\n",
      "       ... \n",
      "18        1\n",
      "115       1\n",
      "91        1\n",
      "83        1\n",
      "25        1\n",
      "Name: taxamount, Length: 10322, dtype: int64\n",
      "~~~~~~~~~~~~~~~~~~~~~~~~\n",
      "\n",
      "FIPS\n",
      "6037    1240933\n",
      "6059     467594\n",
      "6111     145167\n",
      "Name: fips, dtype: int64\n",
      "~~~~~~~~~~~~~~~~~~~~~~~~\n",
      "\n"
     ]
    }
   ],
   "source": [
    "# get value counts to decide on data types\n",
    "cols = df.columns\n",
    "\n",
    "for col in cols:\n",
    "    \n",
    "    print(col.upper())\n",
    "    print(df[col].value_counts())\n",
    "    print('~~~~~~~~~~~~~~~~~~~~~~~~')\n",
    "    print()"
   ]
  },
  {
   "cell_type": "code",
   "execution_count": 110,
   "id": "e7aa5595",
   "metadata": {},
   "outputs": [],
   "source": [
    "#cast flips & year built as objects & leave the rest as floats\n",
    "df.fips = df.fips.astype(object)\n",
    "df.year_built = df.year_built.astype(object)"
   ]
  },
  {
   "cell_type": "code",
   "execution_count": 111,
   "id": "728f80a7",
   "metadata": {},
   "outputs": [
    {
     "name": "stdout",
     "output_type": "stream",
     "text": [
      "<class 'pandas.core.frame.DataFrame'>\n",
      "Int64Index: 1853694 entries, 6 to 2152862\n",
      "Data columns (total 7 columns):\n",
      " #   Column      Dtype \n",
      "---  ------      ----- \n",
      " 0   bedrooms    int64 \n",
      " 1   bathrooms   int64 \n",
      " 2   area        int64 \n",
      " 3   tax_value   int64 \n",
      " 4   year_built  object\n",
      " 5   taxamount   int64 \n",
      " 6   fips        object\n",
      "dtypes: int64(5), object(2)\n",
      "memory usage: 113.1+ MB\n"
     ]
    }
   ],
   "source": [
    "df.info()"
   ]
  },
  {
   "cell_type": "markdown",
   "id": "d8a0e864",
   "metadata": {},
   "source": [
    "### Split data"
   ]
  },
  {
   "cell_type": "code",
   "execution_count": null,
   "id": "e1363445",
   "metadata": {},
   "outputs": [],
   "source": [
    "###########WIP###############"
   ]
  }
 ],
 "metadata": {
  "kernelspec": {
   "display_name": "Python 3 (ipykernel)",
   "language": "python",
   "name": "python3"
  },
  "language_info": {
   "codemirror_mode": {
    "name": "ipython",
    "version": 3
   },
   "file_extension": ".py",
   "mimetype": "text/x-python",
   "name": "python",
   "nbconvert_exporter": "python",
   "pygments_lexer": "ipython3",
   "version": "3.9.12"
  }
 },
 "nbformat": 4,
 "nbformat_minor": 5
}
